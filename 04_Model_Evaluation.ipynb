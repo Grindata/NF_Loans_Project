{
 "cells": [
  {
   "cell_type": "markdown",
   "metadata": {},
   "source": [
    "##### Lending Club Data Project"
   ]
  },
  {
   "cell_type": "markdown",
   "metadata": {},
   "source": [
    "## 4 Model Evaluation: Application to Test Data"
   ]
  },
  {
   "cell_type": "markdown",
   "metadata": {},
   "source": [
    "Now we evaluate the best model (logistic regression, 10 features) on our test data:\n",
    "* The baseline model (Dummy Classifier)\n",
    "* The logistic regression with 10 features\n",
    "* The KNN with 10 features\n",
    "* The Adaboost with logistic regression as base model\n",
    "* The decision tree with 10 features\n",
    "* the random forest with 10 features\n"
   ]
  },
  {
   "cell_type": "markdown",
   "metadata": {},
   "source": [
    "__Content__ <br>\n",
    "4.1 Data Import <br>\n",
    "4.2 Predict the Test Data with our Models <br>\n",
    "4.3 Conclusion <br>"
   ]
  },
  {
   "cell_type": "markdown",
   "metadata": {},
   "source": [
    "### 4.1 Load Data"
   ]
  },
  {
   "cell_type": "code",
   "execution_count": 22,
   "metadata": {},
   "outputs": [],
   "source": [
    "reset -fs"
   ]
  },
  {
   "cell_type": "code",
   "execution_count": 23,
   "metadata": {},
   "outputs": [],
   "source": [
    "import matplotlib.pyplot as plt\n",
    "%matplotlib inline\n",
    "\n",
    "import numpy as np\n",
    "import pandas as pd\n",
    "import seaborn as sns\n",
    "from scipy import stats\n",
    "import statsmodels.api as sms\n",
    "import statsmodels.formula.api as smf\n",
    "\n",
    "from sklearn.metrics.pairwise import euclidean_distances\n",
    "from sklearn.model_selection import train_test_split \n",
    "from sklearn.linear_model import LinearRegression\n",
    "from sklearn.tree import DecisionTreeClassifier\n",
    "from sklearn import metrics\n",
    "from sklearn.metrics import classification_report\n",
    "from sklearn.model_selection import GridSearchCV, RandomizedSearchCV\n",
    "from sklearn.model_selection import cross_val_predict, cross_val_score, cross_validate\n",
    "import re \n",
    "import math\n",
    "\n",
    "from sklearn.metrics import recall_score, precision_score, f1_score, accuracy_score, classification_report, confusion_matrix\n",
    "\n",
    "from sklearn.pipeline import Pipeline\n",
    "from sklearn.model_selection import GridSearchCV\n",
    "from sklearn.neighbors import KNeighborsClassifier\n",
    "\n",
    "from sklearn.feature_selection import SelectKBest, mutual_info_classif\n",
    "pd.set_option('display.max_columns', None)\n",
    "from sklearn.model_selection import RandomizedSearchCV\n",
    "from sklearn.metrics import recall_score, precision_score, f1_score, accuracy_score, classification_report, confusion_matrix, fbeta_score"
   ]
  },
  {
   "cell_type": "code",
   "execution_count": 24,
   "metadata": {},
   "outputs": [],
   "source": [
    "X_test = pd.read_csv('data/x_test_10.csv')\n",
    "X_test.drop('Unnamed: 0', inplace = True, axis = 1)\n",
    "y_test = pd.read_csv('data/y_test.csv')\n",
    "y_test.drop('Unnamed: 0', inplace = True, axis = 1)"
   ]
  },
  {
   "cell_type": "code",
   "execution_count": 25,
   "metadata": {},
   "outputs": [],
   "source": [
    "X_train = pd.read_csv('data/X_smo_10.csv')\n",
    "y_train = pd.read_csv('data/y_smo.csv')"
   ]
  },
  {
   "cell_type": "code",
   "execution_count": 26,
   "metadata": {},
   "outputs": [],
   "source": [
    "X_train.drop('Unnamed: 0', inplace = True, axis = 1)\n",
    "y_train.drop('Unnamed: 0', inplace = True, axis = 1)"
   ]
  },
  {
   "cell_type": "code",
   "execution_count": 27,
   "metadata": {},
   "outputs": [],
   "source": [
    "y_train = y_train.rename(columns = {\"0\": 'loan_status'})"
   ]
  },
  {
   "cell_type": "markdown",
   "metadata": {},
   "source": [
    "### 4.2 Predict the Test Data with Our Models"
   ]
  },
  {
   "cell_type": "markdown",
   "metadata": {},
   "source": [
    "#### 4.2. Dummy Classifier (Base Model)"
   ]
  },
  {
   "cell_type": "code",
   "execution_count": 54,
   "metadata": {},
   "outputs": [
    {
     "name": "stdout",
     "output_type": "stream",
     "text": [
      "F beta Score for both classes:\n",
      "0.75\n"
     ]
    },
    {
     "data": {
      "image/png": "[encoded data removed]",
      "text/plain": [
       "<Figure size 432x288 with 2 Axes>"
      ]
     },
     "metadata": {
      "needs_background": "light"
     },
     "output_type": "display_data"
    }
   ],
   "source": [
    "from sklearn.dummy import DummyClassifier\n",
    "#Define the Classifier and fit it to the train data\n",
    "dummy_clf = DummyClassifier(random_state = 2, strategy = 'stratified')\n",
    "dummy_clf.fit(X_train, y_train)\n",
    "cv_results = cross_validate(dummy_clf, X_train, y_train, cv=5, return_estimator = True)\n",
    "\n",
    "\n",
    "#Make predictions using cross-validation\n",
    "y_pred = cross_val_predict(dummy_clf, X_test, y_test, cv = 5)\n",
    "\n",
    "# Printing evaluation scores for the Dummy Classifier \n",
    "print('F beta Score for both classes:')\n",
    "print(fbeta_score(y_test, y_pred, beta = .2, average = 'weighted').round(2))\n",
    "sns.heatmap(confusion_matrix(y_test, y_pred), annot=True);"
   ]
  },
  {
   "cell_type": "markdown",
   "metadata": {},
   "source": [
    "#### 4.2.2 Logistic Regression Model"
   ]
  },
  {
   "cell_type": "code",
   "execution_count": 55,
   "metadata": {},
   "outputs": [],
   "source": [
    "from sklearn.linear_model import LogisticRegression\n",
    "best_log_10 = LogisticRegression(C=0.1, class_weight={0: 0.5, 1: 0.5}, l1_ratio=0, max_iter=7639,\n",
    "                   n_jobs=-1, penalty='elasticnet', random_state=0,\n",
    "                   solver='saga')\n",
    "best_log_10.fit(X_train, np.array(y_train).ravel())\n",
    "y_pred = best_log_10.predict(X_test)"
   ]
  },
  {
   "cell_type": "code",
   "execution_count": 56,
   "metadata": {},
   "outputs": [
    {
     "name": "stdout",
     "output_type": "stream",
     "text": [
      "F beta Score for both classes:\n",
      "0.81\n"
     ]
    },
    {
     "data": {
      "image/png": "[encoded data removed]",
      "text/plain": [
       "<Figure size 432x288 with 2 Axes>"
      ]
     },
     "metadata": {
      "needs_background": "light"
     },
     "output_type": "display_data"
    }
   ],
   "source": [
    "print('F beta Score for both classes:')\n",
    "print(fbeta_score(y_test, y_pred, beta = .1, average = 'weighted').round(2))\n",
    "sns.heatmap(confusion_matrix(y_test, y_pred), annot=True);"
   ]
  },
  {
   "cell_type": "code",
   "execution_count": 57,
   "metadata": {},
   "outputs": [
    {
     "name": "stdout",
     "output_type": "stream",
     "text": [
      "              precision    recall  f1-score   support\n",
      "\n",
      "         0.0       0.23      0.64      0.34      1761\n",
      "         1.0       0.91      0.64      0.75     10425\n",
      "\n",
      "    accuracy                           0.64     12186\n",
      "   macro avg       0.57      0.64      0.55     12186\n",
      "weighted avg       0.81      0.64      0.69     12186\n",
      "\n"
     ]
    }
   ],
   "source": [
    "print(classification_report(y_test, y_pred))"
   ]
  },
  {
   "cell_type": "markdown",
   "metadata": {},
   "source": [
    "The model generalizes well, the evaluation metric is as good as for the training data."
   ]
  },
  {
   "cell_type": "code",
   "execution_count": 58,
   "metadata": {},
   "outputs": [
    {
     "data": {
      "image/png": "[encoded data removed]",
      "text/plain": [
       "<Figure size 432x288 with 1 Axes>"
      ]
     },
     "metadata": {
      "needs_background": "light"
     },
     "output_type": "display_data"
    }
   ],
   "source": [
    "# precision recall curve\n",
    "from sklearn.metrics import precision_recall_curve\n",
    "precision, recall, thresholds = precision_recall_curve(y_test, best_log_10.predict_proba(X_test)[:,1])\n",
    "plt.plot(recall, precision)\n",
    "plt.xlabel('recall')\n",
    "plt.ylabel('precision')\n",
    "plt.show()"
   ]
  },
  {
   "cell_type": "markdown",
   "metadata": {},
   "source": [
    "#### 4.2.3 Decision Tree"
   ]
  },
  {
   "cell_type": "code",
   "execution_count": 60,
   "metadata": {},
   "outputs": [
    {
     "name": "stdout",
     "output_type": "stream",
     "text": [
      "F beta Score for both classes:\n",
      "0.81\n"
     ]
    },
    {
     "data": {
      "image/png": "[encoded data removed]",
      "text/plain": [
       "<Figure size 432x288 with 2 Axes>"
      ]
     },
     "metadata": {
      "needs_background": "light"
     },
     "output_type": "display_data"
    }
   ],
   "source": [
    "from sklearn.tree import DecisionTreeClassifier\n",
    "best_dt_model_10 = DecisionTreeClassifier(min_samples_split= 190, max_depth= 5, criterion ='entropy', class_weight = {0: 0.6, 1: 0.4})\n",
    "best_dt_model_10.fit(X_train, y_train)\n",
    "y_pred2 = best_dt_model_10.predict(X_test)\n",
    "print('F beta Score for both classes:')\n",
    "print(fbeta_score(y_test, y_pred2, beta = .1, average = 'weighted').round(2))\n",
    "sns.heatmap(confusion_matrix(y_test, y_pred2), annot=True);"
   ]
  },
  {
   "cell_type": "code",
   "execution_count": 62,
   "metadata": {},
   "outputs": [
    {
     "name": "stdout",
     "output_type": "stream",
     "text": [
      "              precision    recall  f1-score   support\n",
      "\n",
      "         0.0       0.20      0.70      0.31      1761\n",
      "         1.0       0.91      0.53      0.67     10425\n",
      "\n",
      "    accuracy                           0.56     12186\n",
      "   macro avg       0.56      0.62      0.49     12186\n",
      "weighted avg       0.81      0.56      0.62     12186\n",
      "\n"
     ]
    }
   ],
   "source": [
    "print(classification_report(y_test, y_pred2))"
   ]
  },
  {
   "cell_type": "code",
   "execution_count": 73,
   "metadata": {},
   "outputs": [
    {
     "data": {
      "image/png": "[encoded data removed]",
      "text/plain": [
       "<Figure size 432x288 with 1 Axes>"
      ]
     },
     "metadata": {
      "needs_background": "light"
     },
     "output_type": "display_data"
    }
   ],
   "source": [
    "# precision recall curve\n",
    "from sklearn.metrics import precision_recall_curve\n",
    "precision, recall, thresholds = precision_recall_curve(y_test, best_dt_model_10.predict_proba(X_test)[:,1])\n",
    "plt.plot(recall, precision)\n",
    "plt.xlabel('recall')\n",
    "plt.ylabel('precision')\n",
    "plt.show()"
   ]
  },
  {
   "cell_type": "markdown",
   "metadata": {},
   "source": [
    "The model is as good as the logistic regression."
   ]
  },
  {
   "cell_type": "markdown",
   "metadata": {},
   "source": [
    "#### 4.2.4 Random Forest"
   ]
  },
  {
   "cell_type": "code",
   "execution_count": 47,
   "metadata": {
    "collapsed": true,
    "jupyter": {
     "outputs_hidden": true
    }
   },
   "outputs": [
    {
     "name": "stderr",
     "output_type": "stream",
     "text": [
      "[Parallel(n_jobs=-1)]: Using backend ThreadingBackend with 4 concurrent workers.\n",
      "[Parallel(n_jobs=-1)]: Done  10 tasks      | elapsed:    0.2s\n"
     ]
    },
    {
     "name": "stdout",
     "output_type": "stream",
     "text": [
      "building tree 1 of 588building tree 2 of 588building tree 3 of 588building tree 4 of 588\n",
      "\n",
      "\n",
      "\n",
      "building tree 5 of 588building tree 6 of 588\n",
      "\n",
      "building tree 7 of 588\n",
      "building tree 8 of 588\n",
      "building tree 9 of 588\n",
      "building tree 10 of 588\n",
      "building tree 11 of 588\n",
      "building tree 12 of 588\n",
      "building tree 13 of 588\n",
      "building tree 14 of 588\n",
      "building tree 15 of 588\n",
      "building tree 16 of 588\n",
      "building tree 17 of 588\n",
      "building tree 18 of 588\n",
      "building tree 19 of 588\n",
      "building tree 20 of 588\n",
      "building tree 21 of 588\n",
      "building tree 22 of 588\n",
      "building tree 23 of 588\n",
      "building tree 24 of 588\n",
      "building tree 25 of 588\n",
      "building tree 26 of 588\n",
      "building tree 27 of 588\n",
      "building tree 28 of 588\n",
      "building tree 29 of 588\n",
      "building tree 30 of 588\n",
      "building tree 31 of 588\n",
      "building tree 32 of 588\n",
      "building tree 33 of 588\n",
      "building tree 34 of 588\n",
      "building tree 35 of 588\n",
      "building tree 36 of 588\n",
      "building tree 37 of 588\n",
      "building tree 38 of 588\n",
      "building tree 39 of 588\n",
      "building tree 40 of 588\n",
      "building tree 41 of 588\n",
      "building tree 42 of 588\n",
      "building tree 43 of 588\n",
      "building tree 44 of 588\n",
      "building tree 45 of 588\n",
      "building tree 46 of 588\n",
      "building tree 47 of 588\n",
      "building tree 48 of 588\n",
      "building tree 49 of 588\n",
      "building tree 50 of 588\n",
      "building tree 51 of 588\n",
      "building tree 52 of 588\n",
      "building tree 53 of 588\n",
      "building tree 54 of 588\n",
      "building tree 55 of 588\n",
      "building tree 56 of 588\n",
      "building tree 57 of 588\n",
      "building tree 58 of 588\n",
      "building tree 59 of 588\n",
      "building tree 60 of 588\n",
      "building tree 61 of 588\n",
      "building tree 62 of 588\n",
      "building tree 63 of 588\n",
      "building tree 64 of 588\n",
      "building tree 65 of 588\n",
      "building tree 66 of 588\n",
      "building tree 67 of 588\n",
      "building tree 68 of 588\n",
      "building tree 69 of 588\n",
      "building tree 70 of 588building tree 71 of 588\n",
      "\n"
     ]
    },
    {
     "name": "stderr",
     "output_type": "stream",
     "text": [
      "[Parallel(n_jobs=-1)]: Done  64 tasks      | elapsed:    1.1s\n"
     ]
    },
    {
     "name": "stdout",
     "output_type": "stream",
     "text": [
      "building tree 72 of 588\n",
      "building tree 73 of 588\n",
      "building tree 74 of 588\n",
      "building tree 75 of 588\n",
      "building tree 76 of 588\n",
      "building tree 77 of 588\n",
      "building tree 78 of 588\n",
      "building tree 79 of 588\n",
      "building tree 80 of 588\n",
      "building tree 81 of 588\n",
      "building tree 82 of 588\n",
      "building tree 83 of 588\n",
      "building tree 84 of 588\n",
      "building tree 85 of 588\n",
      "building tree 86 of 588\n",
      "building tree 87 of 588\n",
      "building tree 88 of 588\n",
      "building tree 89 of 588\n",
      "building tree 90 of 588\n",
      "building tree 91 of 588\n",
      "building tree 92 of 588\n",
      "building tree 93 of 588\n",
      "building tree 94 of 588\n",
      "building tree 95 of 588\n",
      "building tree 96 of 588\n",
      "building tree 97 of 588\n",
      "building tree 98 of 588\n",
      "building tree 99 of 588\n",
      "building tree 100 of 588\n",
      "building tree 101 of 588\n",
      "building tree 102 of 588\n",
      "building tree 103 of 588\n",
      "building tree 104 of 588building tree 105 of 588\n",
      "\n",
      "building tree 106 of 588\n",
      "building tree 107 of 588\n",
      "building tree 108 of 588\n",
      "building tree 109 of 588\n",
      "building tree 110 of 588\n",
      "building tree 111 of 588\n",
      "building tree 112 of 588\n",
      "building tree 113 of 588\n",
      "building tree 114 of 588\n",
      "building tree 115 of 588\n",
      "building tree 116 of 588\n",
      "building tree 117 of 588\n",
      "building tree 118 of 588\n",
      "building tree 119 of 588\n",
      "building tree 120 of 588\n",
      "building tree 121 of 588\n",
      "building tree 122 of 588\n",
      "building tree 123 of 588\n",
      "building tree 124 of 588\n",
      "building tree 125 of 588\n",
      "building tree 126 of 588\n",
      "building tree 127 of 588\n",
      "building tree 128 of 588\n",
      "building tree 129 of 588\n",
      "building tree 130 of 588\n",
      "building tree 131 of 588\n",
      "building tree 132 of 588\n",
      "building tree 133 of 588\n",
      "building tree 134 of 588\n",
      "building tree 135 of 588\n",
      "building tree 136 of 588\n",
      "building tree 137 of 588\n",
      "building tree 138 of 588\n",
      "building tree 139 of 588\n",
      "building tree 140 of 588\n",
      "building tree 141 of 588\n",
      "building tree 142 of 588\n",
      "building tree 143 of 588\n",
      "building tree 144 of 588\n",
      "building tree 145 of 588\n",
      "building tree 146 of 588\n",
      "building tree 147 of 588\n",
      "building tree 148 of 588\n",
      "building tree 149 of 588\n",
      "building tree 150 of 588\n",
      "building tree 151 of 588\n",
      "building tree 152 of 588\n",
      "building tree 153 of 588\n",
      "building tree 154 of 588\n",
      "building tree 155 of 588\n",
      "building tree 156 of 588\n",
      "building tree 157 of 588\n",
      "building tree 158 of 588\n",
      "building tree 159 of 588\n"
     ]
    },
    {
     "name": "stderr",
     "output_type": "stream",
     "text": [
      "[Parallel(n_jobs=-1)]: Done 154 tasks      | elapsed:    2.5s\n"
     ]
    },
    {
     "name": "stdout",
     "output_type": "stream",
     "text": [
      "building tree 160 of 588\n",
      "building tree 161 of 588\n",
      "building tree 162 of 588\n",
      "building tree 163 of 588\n",
      "building tree 164 of 588\n",
      "building tree 165 of 588\n",
      "building tree 166 of 588\n",
      "building tree 167 of 588\n",
      "building tree 168 of 588\n",
      "building tree 169 of 588\n",
      "building tree 170 of 588\n",
      "building tree 171 of 588\n",
      "building tree 172 of 588\n",
      "building tree 173 of 588\n",
      "building tree 174 of 588\n",
      "building tree 175 of 588\n",
      "building tree 176 of 588\n",
      "building tree 177 of 588\n",
      "building tree 178 of 588\n",
      "building tree 179 of 588\n",
      "building tree 180 of 588\n",
      "building tree 181 of 588building tree 182 of 588\n",
      "\n",
      "building tree 183 of 588\n",
      "building tree 184 of 588\n",
      "building tree 185 of 588\n",
      "building tree 186 of 588\n",
      "building tree 187 of 588\n",
      "building tree 188 of 588\n",
      "building tree 189 of 588\n",
      "building tree 190 of 588\n",
      "building tree 191 of 588\n",
      "building tree 192 of 588building tree 193 of 588\n",
      "\n",
      "building tree 194 of 588\n",
      "building tree 195 of 588\n",
      "building tree 196 of 588\n",
      "building tree 197 of 588\n",
      "building tree 198 of 588\n",
      "building tree 199 of 588\n",
      "building tree 200 of 588\n",
      "building tree 201 of 588\n",
      "building tree 202 of 588\n",
      "building tree 203 of 588\n",
      "building tree 204 of 588\n",
      "building tree 205 of 588\n",
      "building tree 206 of 588\n",
      "building tree 207 of 588\n",
      "building tree 208 of 588\n",
      "building tree 209 of 588\n",
      "building tree 210 of 588\n",
      "building tree 211 of 588\n",
      "building tree 212 of 588\n",
      "building tree 213 of 588\n",
      "building tree 214 of 588\n",
      "building tree 215 of 588\n",
      "building tree 216 of 588\n",
      "building tree 217 of 588\n",
      "building tree 218 of 588\n",
      "building tree 219 of 588\n",
      "building tree 220 of 588\n",
      "building tree 221 of 588\n",
      "building tree 222 of 588\n",
      "building tree 223 of 588\n",
      "building tree 224 of 588\n",
      "building tree 225 of 588\n",
      "building tree 226 of 588\n",
      "building tree 227 of 588\n",
      "building tree 228 of 588\n",
      "building tree 229 of 588\n",
      "building tree 230 of 588\n",
      "building tree 231 of 588\n",
      "building tree 232 of 588\n",
      "building tree 233 of 588\n",
      "building tree 234 of 588\n",
      "building tree 235 of 588\n",
      "building tree 236 of 588\n",
      "building tree 237 of 588\n",
      "building tree 238 of 588\n",
      "building tree 239 of 588\n",
      "building tree 240 of 588\n",
      "building tree 241 of 588\n",
      "building tree 242 of 588\n",
      "building tree 243 of 588\n",
      "building tree 244 of 588\n",
      "building tree 245 of 588\n",
      "building tree 246 of 588\n",
      "building tree 247 of 588\n",
      "building tree 248 of 588\n",
      "building tree 249 of 588\n",
      "building tree 250 of 588\n",
      "building tree 251 of 588\n",
      "building tree 252 of 588\n",
      "building tree 253 of 588\n",
      "building tree 254 of 588\n",
      "building tree 255 of 588\n",
      "building tree 256 of 588\n",
      "building tree 257 of 588\n",
      "building tree 258 of 588\n",
      "building tree 259 of 588\n",
      "building tree 260 of 588\n",
      "building tree 261 of 588\n",
      "building tree 262 of 588\n",
      "building tree 263 of 588\n",
      "building tree 264 of 588\n",
      "building tree 265 of 588\n",
      "building tree 266 of 588\n",
      "building tree 267 of 588\n",
      "building tree 268 of 588\n",
      "building tree 269 of 588\n",
      "building tree 270 of 588\n",
      "building tree 271 of 588\n",
      "building tree 272 of 588\n",
      "building tree 273 of 588\n",
      "building tree 274 of 588\n",
      "building tree 275 of 588\n",
      "building tree 276 of 588\n",
      "building tree 277 of 588\n",
      "building tree 278 of 588\n",
      "building tree 279 of 588\n",
      "building tree 280 of 588\n",
      "building tree 281 of 588\n",
      "building tree 282 of 588\n",
      "building tree 283 of 588\n",
      "building tree 284 of 588\n"
     ]
    },
    {
     "name": "stderr",
     "output_type": "stream",
     "text": [
      "[Parallel(n_jobs=-1)]: Done 280 tasks      | elapsed:    4.6s\n"
     ]
    },
    {
     "name": "stdout",
     "output_type": "stream",
     "text": [
      "building tree 285 of 588\n",
      "building tree 286 of 588\n",
      "building tree 287 of 588\n",
      "building tree 288 of 588\n",
      "building tree 289 of 588\n",
      "building tree 290 of 588\n",
      "building tree 291 of 588\n",
      "building tree 292 of 588\n",
      "building tree 293 of 588\n",
      "building tree 294 of 588\n",
      "building tree 295 of 588\n",
      "building tree 296 of 588\n",
      "building tree 297 of 588\n",
      "building tree 298 of 588\n",
      "building tree 299 of 588\n",
      "building tree 300 of 588\n",
      "building tree 301 of 588\n",
      "building tree 302 of 588\n",
      "building tree 303 of 588\n",
      "building tree 304 of 588\n",
      "building tree 305 of 588\n",
      "building tree 306 of 588\n",
      "building tree 307 of 588\n",
      "building tree 308 of 588\n",
      "building tree 309 of 588\n",
      "building tree 310 of 588\n",
      "building tree 311 of 588\n",
      "building tree 312 of 588\n",
      "building tree 313 of 588\n",
      "building tree 314 of 588\n",
      "building tree 315 of 588\n",
      "building tree 316 of 588\n",
      "building tree 317 of 588\n",
      "building tree 318 of 588\n",
      "building tree 319 of 588\n",
      "building tree 320 of 588\n",
      "building tree 321 of 588\n",
      "building tree 322 of 588\n",
      "building tree 323 of 588\n",
      "building tree 324 of 588\n",
      "building tree 325 of 588\n",
      "building tree 326 of 588\n",
      "building tree 327 of 588\n",
      "building tree 328 of 588\n",
      "building tree 329 of 588\n",
      "building tree 330 of 588\n",
      "building tree 331 of 588\n",
      "building tree 332 of 588\n",
      "building tree 333 of 588\n",
      "building tree 334 of 588\n",
      "building tree 335 of 588\n",
      "building tree 336 of 588\n",
      "building tree 337 of 588\n",
      "building tree 338 of 588\n",
      "building tree 339 of 588\n",
      "building tree 340 of 588\n",
      "building tree 341 of 588\n",
      "building tree 342 of 588\n",
      "building tree 343 of 588\n",
      "building tree 344 of 588\n",
      "building tree 345 of 588\n",
      "building tree 346 of 588\n",
      "building tree 347 of 588\n",
      "building tree 348 of 588\n",
      "building tree 349 of 588\n",
      "building tree 350 of 588\n",
      "building tree 351 of 588\n",
      "building tree 352 of 588\n",
      "building tree 353 of 588\n",
      "building tree 354 of 588\n",
      "building tree 355 of 588\n",
      "building tree 356 of 588\n",
      "building tree 357 of 588\n",
      "building tree 358 of 588\n",
      "building tree 359 of 588\n",
      "building tree 360 of 588\n",
      "building tree 361 of 588\n",
      "building tree 362 of 588\n",
      "building tree 363 of 588\n",
      "building tree 364 of 588\n",
      "building tree 365 of 588\n",
      "building tree 366 of 588\n",
      "building tree 367 of 588\n",
      "building tree 368 of 588\n",
      "building tree 369 of 588\n",
      "building tree 370 of 588\n",
      "building tree 371 of 588\n",
      "building tree 372 of 588\n",
      "building tree 373 of 588\n",
      "building tree 374 of 588\n",
      "building tree 375 of 588\n",
      "building tree 376 of 588\n",
      "building tree 377 of 588\n",
      "building tree 378 of 588\n",
      "building tree 379 of 588\n",
      "building tree 380 of 588\n",
      "building tree 381 of 588\n",
      "building tree 382 of 588\n",
      "building tree 383 of 588\n",
      "building tree 384 of 588\n",
      "building tree 385 of 588\n",
      "building tree 386 of 588\n",
      "building tree 387 of 588\n",
      "building tree 388 of 588\n",
      "building tree 389 of 588\n",
      "building tree 390 of 588\n",
      "building tree 391 of 588\n",
      "building tree 392 of 588\n",
      "building tree 393 of 588\n",
      "building tree 394 of 588building tree 395 of 588\n",
      "\n",
      "building tree 396 of 588\n",
      "building tree 397 of 588\n",
      "building tree 398 of 588\n",
      "building tree 399 of 588\n",
      "building tree 400 of 588\n",
      "building tree 401 of 588\n",
      "building tree 402 of 588\n",
      "building tree 403 of 588\n",
      "building tree 404 of 588\n",
      "building tree 405 of 588\n",
      "building tree 406 of 588building tree 407 of 588\n",
      "\n",
      "building tree 408 of 588\n",
      "building tree 409 of 588\n",
      "building tree 410 of 588\n",
      "building tree 411 of 588\n",
      "building tree 412 of 588\n",
      "building tree 413 of 588\n",
      "building tree 414 of 588\n",
      "building tree 415 of 588\n",
      "building tree 416 of 588\n",
      "building tree 417 of 588\n",
      "building tree 418 of 588\n",
      "building tree 419 of 588\n",
      "building tree 420 of 588\n",
      "building tree 421 of 588\n",
      "building tree 422 of 588\n",
      "building tree 423 of 588\n",
      "building tree 424 of 588\n",
      "building tree 425 of 588\n",
      "building tree 426 of 588\n",
      "building tree 427 of 588building tree 428 of 588\n",
      "\n",
      "building tree 429 of 588\n",
      "building tree 430 of 588\n",
      "building tree 431 of 588\n",
      "building tree 432 of 588\n",
      "building tree 433 of 588\n",
      "building tree 434 of 588\n",
      "building tree 435 of 588\n",
      "building tree 436 of 588\n",
      "building tree 437 of 588\n",
      "building tree 438 of 588\n",
      "building tree 439 of 588\n",
      "building tree 440 of 588\n",
      "building tree 441 of 588\n",
      "building tree 442 of 588\n",
      "building tree 443 of 588\n",
      "building tree 444 of 588\n",
      "building tree 445 of 588\n",
      "building tree 446 of 588\n",
      "building tree 447 of 588\n",
      "building tree 448 of 588\n",
      "building tree 449 of 588\n",
      "building tree 450 of 588\n",
      "building tree 451 of 588\n",
      "building tree 452 of 588\n",
      "building tree 453 of 588\n"
     ]
    },
    {
     "name": "stderr",
     "output_type": "stream",
     "text": [
      "[Parallel(n_jobs=-1)]: Done 442 tasks      | elapsed:    7.0s\n"
     ]
    },
    {
     "name": "stdout",
     "output_type": "stream",
     "text": [
      "building tree 454 of 588\n",
      "building tree 455 of 588\n",
      "building tree 456 of 588\n",
      "building tree 457 of 588\n",
      "building tree 458 of 588\n",
      "building tree 459 of 588\n",
      "building tree 460 of 588\n",
      "building tree 461 of 588\n",
      "building tree 462 of 588\n",
      "building tree 463 of 588\n",
      "building tree 464 of 588\n",
      "building tree 465 of 588\n",
      "building tree 466 of 588\n",
      "building tree 467 of 588\n",
      "building tree 468 of 588\n",
      "building tree 469 of 588\n",
      "building tree 470 of 588\n",
      "building tree 471 of 588building tree 472 of 588\n",
      "\n",
      "building tree 473 of 588\n",
      "building tree 474 of 588\n",
      "building tree 475 of 588\n",
      "building tree 476 of 588\n",
      "building tree 477 of 588\n",
      "building tree 478 of 588\n",
      "building tree 479 of 588\n",
      "building tree 480 of 588building tree 481 of 588\n",
      "\n",
      "building tree 482 of 588\n",
      "building tree 483 of 588\n",
      "building tree 484 of 588\n",
      "building tree 485 of 588\n",
      "building tree 486 of 588\n",
      "building tree 487 of 588\n",
      "building tree 488 of 588\n",
      "building tree 489 of 588\n",
      "building tree 490 of 588\n",
      "building tree 491 of 588\n",
      "building tree 492 of 588building tree 493 of 588\n",
      "\n",
      "building tree 494 of 588\n",
      "building tree 495 of 588\n",
      "building tree 496 of 588\n",
      "building tree 497 of 588\n",
      "building tree 498 of 588\n",
      "building tree 499 of 588building tree 500 of 588\n",
      "\n",
      "building tree 501 of 588\n",
      "building tree 502 of 588\n",
      "building tree 503 of 588\n",
      "building tree 504 of 588\n",
      "building tree 505 of 588\n",
      "building tree 506 of 588\n",
      "building tree 507 of 588\n",
      "building tree 508 of 588\n",
      "building tree 509 of 588\n",
      "building tree 510 of 588\n",
      "building tree 511 of 588\n",
      "building tree 512 of 588\n",
      "building tree 513 of 588\n",
      "building tree 514 of 588\n",
      "building tree 515 of 588\n",
      "building tree 516 of 588building tree 517 of 588\n",
      "\n",
      "building tree 518 of 588\n",
      "building tree 519 of 588\n",
      "building tree 520 of 588\n",
      "building tree 521 of 588\n",
      "building tree 522 of 588\n",
      "building tree 523 of 588\n",
      "building tree 524 of 588\n",
      "building tree 525 of 588\n",
      "building tree 526 of 588\n",
      "building tree 527 of 588\n",
      "building tree 528 of 588\n",
      "building tree 529 of 588\n",
      "building tree 530 of 588\n",
      "building tree 531 of 588\n",
      "building tree 532 of 588\n",
      "building tree 533 of 588\n",
      "building tree 534 of 588\n",
      "building tree 535 of 588\n",
      "building tree 536 of 588\n",
      "building tree 537 of 588\n",
      "building tree 538 of 588\n",
      "building tree 539 of 588\n",
      "building tree 540 of 588\n",
      "building tree 541 of 588\n",
      "building tree 542 of 588\n",
      "building tree 543 of 588\n",
      "building tree 544 of 588\n",
      "building tree 545 of 588\n",
      "building tree 546 of 588\n",
      "building tree 547 of 588\n",
      "building tree 548 of 588\n",
      "building tree 549 of 588\n",
      "building tree 550 of 588\n",
      "building tree 551 of 588\n",
      "building tree 552 of 588\n",
      "building tree 553 of 588\n",
      "building tree 554 of 588\n",
      "building tree 555 of 588\n",
      "building tree 556 of 588\n",
      "building tree 557 of 588\n",
      "building tree 558 of 588\n",
      "building tree 559 of 588\n",
      "building tree 560 of 588\n",
      "building tree 561 of 588\n",
      "building tree 562 of 588\n",
      "building tree 563 of 588\n",
      "building tree 564 of 588\n",
      "building tree 565 of 588\n",
      "building tree 566 of 588\n",
      "building tree 567 of 588\n",
      "building tree 568 of 588\n",
      "building tree 569 of 588\n",
      "building tree 570 of 588\n",
      "building tree 571 of 588\n",
      "building tree 572 of 588\n",
      "building tree 573 of 588\n",
      "building tree 574 of 588\n",
      "building tree 575 of 588\n",
      "building tree 576 of 588\n",
      "building tree 577 of 588\n",
      "building tree 578 of 588\n",
      "building tree 579 of 588\n",
      "building tree 580 of 588\n",
      "building tree 581 of 588\n",
      "building tree 582 of 588\n",
      "building tree 583 of 588\n",
      "building tree 584 of 588\n",
      "building tree 585 of 588\n",
      "building tree 586 of 588\n",
      "building tree 587 of 588\n",
      "building tree 588 of 588\n"
     ]
    },
    {
     "name": "stderr",
     "output_type": "stream",
     "text": [
      "[Parallel(n_jobs=-1)]: Done 588 out of 588 | elapsed:    9.2s finished\n",
      "[Parallel(n_jobs=4)]: Using backend ThreadingBackend with 4 concurrent workers.\n",
      "[Parallel(n_jobs=4)]: Done  10 tasks      | elapsed:    0.0s\n",
      "[Parallel(n_jobs=4)]: Done  64 tasks      | elapsed:    0.0s\n",
      "[Parallel(n_jobs=4)]: Done 154 tasks      | elapsed:    0.1s\n",
      "[Parallel(n_jobs=4)]: Done 280 tasks      | elapsed:    0.1s\n",
      "[Parallel(n_jobs=4)]: Done 442 tasks      | elapsed:    0.2s\n",
      "[Parallel(n_jobs=4)]: Done 588 out of 588 | elapsed:    0.3s finished\n"
     ]
    }
   ],
   "source": [
    "from sklearn.ensemble import RandomForestClassifier\n",
    "best_rf_model_10 = RandomForestClassifier(n_jobs = -1, random_state = 8, verbose = 5, bootstrap = True, n_estimators= 588,\n",
    "                                          min_samples_split= 250, max_depth = 10, criterion = 'gini', class_weight= {0: 0.6, 1: 0.4})\n",
    "best_rf_model_10.fit(X_train, np.array(y_train).ravel())\n",
    "y_pred3 = best_rf_model_10.predict(X_test)"
   ]
  },
  {
   "cell_type": "code",
   "execution_count": 49,
   "metadata": {},
   "outputs": [
    {
     "name": "stdout",
     "output_type": "stream",
     "text": [
      "fbeta:  0.81\n"
     ]
    }
   ],
   "source": [
    "fbeta_scorer = fbeta_score(y_test, y_pred3, beta=0.1, average = \"weighted\")\n",
    "print(f\"fbeta: \", fbeta_scorer.round(2))"
   ]
  },
  {
   "cell_type": "code",
   "execution_count": 63,
   "metadata": {},
   "outputs": [
    {
     "name": "stdout",
     "output_type": "stream",
     "text": [
      "              precision    recall  f1-score   support\n",
      "\n",
      "         0.0       0.23      0.64      0.33      1761\n",
      "         1.0       0.91      0.63      0.74     10425\n",
      "\n",
      "    accuracy                           0.63     12186\n",
      "   macro avg       0.57      0.63      0.54     12186\n",
      "weighted avg       0.81      0.63      0.68     12186\n",
      "\n"
     ]
    }
   ],
   "source": [
    "print(classification_report(y_test, y_pred3))"
   ]
  },
  {
   "cell_type": "code",
   "execution_count": 74,
   "metadata": {},
   "outputs": [
    {
     "name": "stderr",
     "output_type": "stream",
     "text": [
      "[Parallel(n_jobs=4)]: Using backend ThreadingBackend with 4 concurrent workers.\n",
      "[Parallel(n_jobs=4)]: Done  10 tasks      | elapsed:    0.0s\n",
      "[Parallel(n_jobs=4)]: Done  64 tasks      | elapsed:    0.1s\n",
      "[Parallel(n_jobs=4)]: Done 154 tasks      | elapsed:    0.1s\n",
      "[Parallel(n_jobs=4)]: Done 280 tasks      | elapsed:    0.2s\n",
      "[Parallel(n_jobs=4)]: Done 442 tasks      | elapsed:    0.3s\n",
      "[Parallel(n_jobs=4)]: Done 588 out of 588 | elapsed:    0.4s finished\n"
     ]
    },
    {
     "data": {
      "image/png": "[encoded data removed]",
      "text/plain": [
       "<Figure size 432x288 with 1 Axes>"
      ]
     },
     "metadata": {
      "needs_background": "light"
     },
     "output_type": "display_data"
    }
   ],
   "source": [
    "# precision recall curve\n",
    "from sklearn.metrics import precision_recall_curve\n",
    "precision, recall, thresholds = precision_recall_curve(y_test, best_rf_model_10.predict_proba(X_test)[:,1])\n",
    "plt.plot(recall, precision)\n",
    "plt.xlabel('recall')\n",
    "plt.ylabel('precision')\n",
    "plt.show()"
   ]
  },
  {
   "cell_type": "markdown",
   "metadata": {},
   "source": [
    "The model is as good as the logistic regression and decision tree model. "
   ]
  },
  {
   "cell_type": "markdown",
   "metadata": {},
   "source": [
    "#### 4.2.4 KNN"
   ]
  },
  {
   "cell_type": "code",
   "execution_count": 53,
   "metadata": {},
   "outputs": [],
   "source": [
    "best_knn_10 = KNeighborsClassifier(n_jobs = -1, n_neighbors = 50, metric = 'manhattan', weights = 'uniform')\n",
    "best_knn_10.fit(X_train, np.array(y_train).ravel())\n",
    "y_pred4 = best_knn_10.predict(X_test)"
   ]
  },
  {
   "cell_type": "code",
   "execution_count": 61,
   "metadata": {},
   "outputs": [
    {
     "name": "stdout",
     "output_type": "stream",
     "text": [
      "F beta Score for both classes:\n",
      "0.8\n"
     ]
    }
   ],
   "source": [
    "print('F beta Score for both classes:')\n",
    "print(fbeta_score(y_test, y_pred4, beta = .1, average = 'weighted').round(2))"
   ]
  },
  {
   "cell_type": "code",
   "execution_count": 64,
   "metadata": {},
   "outputs": [
    {
     "name": "stdout",
     "output_type": "stream",
     "text": [
      "              precision    recall  f1-score   support\n",
      "\n",
      "         0.0       0.22      0.61      0.32      1761\n",
      "         1.0       0.90      0.63      0.74     10425\n",
      "\n",
      "    accuracy                           0.63     12186\n",
      "   macro avg       0.56      0.62      0.53     12186\n",
      "weighted avg       0.81      0.63      0.68     12186\n",
      "\n"
     ]
    }
   ],
   "source": [
    "print(classification_report(y_test, y_pred4))"
   ]
  },
  {
   "cell_type": "code",
   "execution_count": 75,
   "metadata": {},
   "outputs": [
    {
     "data": {
      "image/png": "[encoded data removed]",
      "text/plain": [
       "<Figure size 432x288 with 1 Axes>"
      ]
     },
     "metadata": {
      "needs_background": "light"
     },
     "output_type": "display_data"
    }
   ],
   "source": [
    "# precision recall curve\n",
    "from sklearn.metrics import precision_recall_curve\n",
    "precision, recall, thresholds = precision_recall_curve(y_test, best_knn_10.predict_proba(X_test)[:,1])\n",
    "plt.plot(recall, precision)\n",
    "plt.xlabel('recall')\n",
    "plt.ylabel('precision')\n",
    "plt.show()"
   ]
  },
  {
   "cell_type": "markdown",
   "metadata": {},
   "source": [
    "The model is good but not as good as the other ones. "
   ]
  },
  {
   "cell_type": "markdown",
   "metadata": {},
   "source": [
    "#### 4.2.4 AdaBoost"
   ]
  },
  {
   "cell_type": "code",
   "execution_count": 70,
   "metadata": {},
   "outputs": [],
   "source": [
    "from sklearn.ensemble import AdaBoostClassifier\n",
    "best_boost = AdaBoostClassifier(base_estimator=best_log_10, n_estimators = 146, learning_rate = 0.1) \n",
    "best_boost.fit(X_train, np.array(y_train).ravel())\n",
    "y_pred5 = best_boost.predict(X_test)"
   ]
  },
  {
   "cell_type": "code",
   "execution_count": 71,
   "metadata": {},
   "outputs": [
    {
     "name": "stdout",
     "output_type": "stream",
     "text": [
      "F beta Score for both classes:\n",
      "0.81\n"
     ]
    }
   ],
   "source": [
    "print('F beta Score for both classes:')\n",
    "print(fbeta_score(y_test, y_pred5, beta = .1, average = 'weighted').round(2))"
   ]
  },
  {
   "cell_type": "code",
   "execution_count": 72,
   "metadata": {},
   "outputs": [
    {
     "name": "stdout",
     "output_type": "stream",
     "text": [
      "              precision    recall  f1-score   support\n",
      "\n",
      "         0.0       0.21      0.66      0.32      1761\n",
      "         1.0       0.91      0.59      0.72     10425\n",
      "\n",
      "    accuracy                           0.60     12186\n",
      "   macro avg       0.56      0.63      0.52     12186\n",
      "weighted avg       0.81      0.60      0.66     12186\n",
      "\n"
     ]
    }
   ],
   "source": [
    "print(classification_report(y_test, y_pred5))"
   ]
  },
  {
   "cell_type": "code",
   "execution_count": 76,
   "metadata": {},
   "outputs": [
    {
     "data": {
      "image/png": "[encoded data removed]",
      "text/plain": [
       "<Figure size 432x288 with 1 Axes>"
      ]
     },
     "metadata": {
      "needs_background": "light"
     },
     "output_type": "display_data"
    }
   ],
   "source": [
    "# precision recall curve\n",
    "from sklearn.metrics import precision_recall_curve\n",
    "precision, recall, thresholds = precision_recall_curve(y_test, best_boost.predict_proba(X_test)[:,1])\n",
    "plt.plot(recall, precision)\n",
    "plt.xlabel('recall')\n",
    "plt.ylabel('precision')\n",
    "plt.show()"
   ]
  },
  {
   "cell_type": "markdown",
   "metadata": {},
   "source": [
    "AdaBoost performs also very well."
   ]
  },
  {
   "cell_type": "markdown",
   "metadata": {},
   "source": [
    "### 4.3 Conclusion"
   ]
  },
  {
   "cell_type": "markdown",
   "metadata": {},
   "source": [
    "All models perform comparably well on the training data. Since the logistic regression model gives the best results considering both F beta score and other measures of the confusion matrix (recall, accuracy), we go for this final model: \n",
    " * a logistic regression model with a F beta score of .81 (with great weight on precision with beta = .1). The model parameters are:\n",
    "   * C = 0.1\n",
    "   * class weight = {0: 0.5, 1: 0.5}\n",
    "   * l1_ratio = 0, i.e., l2-regularization (Ridge)\n",
    "   * maximum number of iterations: 7639\n",
    " \n",
    "The best predictors to lean the decision for or against a borrower on are:\n",
    " * the funded amount\n",
    " * interest rate\n",
    " * borrower's grade\n",
    " * borrower's annual income\n",
    " * dept/ income ratio\n",
    " * the monthly payment owed by the borrower if the loan originates\n",
    " * the number of inquiries in past 6 months\n",
    " * the number of open credit lines in the borrower's credit file\n",
    " * the revolving line utilization rate\n",
    " * the total number of credit lines currently in the borrower's credit file \n",
    "\n",
    "The model is good but since investors need to minimize their risk, the model needs further optimization. For instance, the possibilities of ensemble methods haven't been used exhaustively. Also, we could try a support vector machine model with a reduced dataset (since SVMs can't handle large datasets well). \n",
    "Additionally, feature selection is not ideal: intercorrelations between predictors are partly very high. This is acceptable, though, since we're not interested in the predictors' individual variance explanation but in a preferably good predicition of credit service.\n"
   ]
  }
 ],
 "metadata": {
  "kernelspec": {
   "display_name": "Python 3",
   "language": "python",
   "name": "python3"
  },
  "language_info": {
   "codemirror_mode": {
    "name": "ipython",
    "version": 3
   },
   "file_extension": ".py",
   "mimetype": "text/x-python",
   "name": "python",
   "nbconvert_exporter": "python",
   "pygments_lexer": "ipython3",
   "version": "3.6.10"
  }
 },
 "nbformat": 4,
 "nbformat_minor": 4
}
