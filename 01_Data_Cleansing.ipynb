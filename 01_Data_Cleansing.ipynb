{
 "cells": [
  {
   "cell_type": "markdown",
   "metadata": {},
   "source": [
    "##### Lending Club Data Project"
   ]
  },
  {
   "cell_type": "markdown",
   "metadata": {},
   "source": [
    "# 1 Data Cleansing"
   ]
  },
  {
   "cell_type": "markdown",
   "metadata": {},
   "source": [
    "In this notebook, we prepare the data for EDA and modelling. \n",
    "Since the data science life cycle is iterative, sometimes it's becomes clear at a *later* time that further changes in the data preprocessing are necessary. Therefore, the sequence of data manipulations in this notebook may refer to insights from notebooks 2 and 3. "
   ]
  },
  {
   "cell_type": "markdown",
   "metadata": {},
   "source": [
    "__Content__ <br>\n",
    "1.1 Variable Descriptions <br>\n",
    "1.2 Data Import <br>\n",
    "1.3 Deletion of variables not neededand variable recoding <br>\n",
    "1.4 Train-Test-Split <br>\n",
    "1.5 Missing Values in Training Data <br>\n",
    "1.6 Rescaling of Training Data <br>\n",
    "1.7 Preprocessing of Test Data <br>"
   ]
  },
  {
   "cell_type": "code",
   "execution_count": 1,
   "metadata": {},
   "outputs": [],
   "source": [
    "reset -fs"
   ]
  },
  {
   "cell_type": "markdown",
   "metadata": {},
   "source": [
    "## 1.1 Variable Descriptions"
   ]
  },
  {
   "cell_type": "markdown",
   "metadata": {},
   "source": [
    "| variable                   | description                                                                                                                                                                                              |\n",
    "|----------------------------|----------------------------------------------------------------------------------------------------------------------------------------------------------------------------------------------------------|\n",
    "| acc_now_delinq             | The number of accounts on which the borrower is now delinquent.                                                                                                                                          |\n",
    "| addr_state                 | state provided by the borrower in the loan application                                                                                                                                                   |\n",
    "| annual_inc                 | self-reported annual income provided by the borrower during registration                                                                                                                                 |\n",
    "| application_type           | indicates whether the loan is an individual application or a joint application with two co-borrowers                                                                                                     |\n",
    "| chargeoff_within_12_mths   | number of charge-offs within 12 months.                                                                                                                                                                  |\n",
    "| collection_recovery_fee    | post charge off collection fee                                                                                                                                                                           |\n",
    "| collections_12_mths_ex_med | Number of collections in 12 months excluding medical collections                                                                                                                                         |\n",
    "| delinq_amnt                | amount the borrower is now delinquent                                                                                                                                                                    |\n",
    "| delinq_2yrs                | delinquency in the borrower's credit file for the past 2 years                                                                                                                                           |\n",
    "| dti                        | A ratio calculated using the borrower’s total monthly debt payments on the total debt obligations, excluding mortgage and the requested LC loan, divided by the borrower’s self-reported monthly income. |\n",
    "| earliest_cr_line           | The month the borrower's earliest reported credit line was opened                                                                                                                                        |\n",
    "| emp_length                 | Employment length in years. Possible values are between 0 and 10 where 0 means less than one year and 10 means ten or more years.                                                                        |\n",
    "| emp_title                  | The job title supplied by the Borrower when applying for the loan.*                                                                                                                                      |\n",
    "| funded_amnt                | The total amount committed to that loan at that point in time.                                                                                                                                           |\n",
    "| funded_amnt_inv            | The total amount committed by investors for that loan at that point in time.                                                                                                                             |\n",
    "| grade                      | LC assigned loan grade                                                                                                                                                                                   |\n",
    "| home_ownership             | The home ownership status provided by the borrower during registration. Our values are: RENT, OWN, MORTGAGE, OTHER.                                                                                      |\n",
    "| id                         | A unique LC assigned ID for the loan listing.                                                                                                                                                            |\n",
    "| initial_list_status        | The initial listing status of the loan. Possible values are – W, F                                                                                                                                       |\n",
    "| inq_last_6mths             | The number of inquiries in past 6 months (excluding auto and mortgage inquiries)                                                                                                                         |\n",
    "| installment                | The monthly payment owed by the borrower if the loan originates.                                                                                                                                         |\n",
    "| int_rate                   | Interest Rate on the loan                                                                                                                                                                                |\n",
    "| issue_d                    | The month which the loan was funded                                                                                                                                                                      |\n",
    "| last_credit_pull_d         | The most recent month LC pulled credit for this loan                                                                                                                                                     |\n",
    "| last_pymnt_amnt            | Last total payment amount received                                                                                                                                                                       |\n",
    "| last_pymnt_d               | Last month payment was received                                                                                                                                                                          |\n",
    "| loan_amnt                  | The listed amount of the loan applied for by the borrower. If at some point in time, the credit department reduces the loan amount, then it will be reflected in this value.                             |\n",
    "| loan_status                | Current status of the loan <br> * Fully Paid: Principal amount of loans that have been fully paid <br> * Current: Principal amount of loans that are in \"current\" or \"grace period\" status <br> * Late: Principal amount of loans that are 16+ days late but have not charged off <br> * Charged off (net): Total amount charged off net of any funds subsequently recovered. <br> Principal and interest payments received prior to charge off and recoveries made after charge off are not included here; they are included in the \"Principal Payments Received\" or \"Interest Payments Received\" columns. As a result, the fully paid, current, late, and charged off columns do not add up to 100% for the \"% of Issued dollars\" view.                                                                                                                                                                            |\n",
    "| member_id                  | A unique LC assigned Id for the borrower member.                                                                                                                                                         |\n",
    "| open_acc                   | The number of open credit lines in the borrower's credit file.                                                                                                                                           |\n",
    "| out_prncp                  | Remaining outstanding principal for total amount funded                                                                                                                                                  |\n",
    "| out_prncp_inv              | Remaining outstanding principal for portion of total amount funded by investors                                                                                                                          |\n",
    "| policy_code                | publicly available policy_code=1 new products not publicly available policy_code=2                                                                                                                       |\n",
    "| pub_rec                    | Number of derogatory public records                                                                                                                                                                      |\n",
    "| pub_rec_bankruptcies       | Number of derogatory public records of bankruptcies                                                                                                                                                                      |\n",
    "| purpose                    | A category provided by the borrower for the loan request.                                                                                                                                                |\n",
    "| pymnt_plan                 | Indicates if a payment plan has been put in place for the loan                                                                                                                                           |\n",
    "| recoveries                 | post charge off gross recovery                                                                                                                                                                           |\n",
    "| revol_bal                  | Total credit revolving balance                                                                                                                                                                           |\n",
    "| revol_util                 | Revolving line utilization rate, or the amount of credit the borrower is using relative to all available revolving credit.                                                                               |\n",
    "| sub_grade                  | LC assigned loan subgrade                                                                                                                                                                                |\n",
    "| tax_liens                  | Legal claim against the assets of an individual or business who fails to pay taxes owed to the government                                                                                                |\n",
    "| term                       | The number of payments on the loan. Values are in months and can be either 36 or 60.                                                                                                                     |\n",
    "| title                      | The loan title provided by the borrower                                                                                                                                                                  |\n",
    "| total_acc                  | The total number of credit lines currently in the borrower's credit file                                                                                                                                 |\n",
    "| total_pymnt                | Payments received to date for total amount funded                                                                                                                                                        |\n",
    "| total_pymnt_inv            | Payments received to date for portion of total amount funded by investors                                                                                                                                |\n",
    "| total_rec_int              | Interest received to date                                                                                                                                                                                |\n",
    "| total_rec_late_fee         | Late fees received to date                                                                                                                                                                               |\n",
    "| total_rec_prncp            | Principal received to date                                                                                                                                                                               |\n",
    "| verification status        | Indicates if the borrowers' income was verified by LC, not verified, or if the income source was verified                                                                                       |\n",
    "| zip_code                   | The first 3 numbers of the zip code provided by the borrower in the loan application.                                                                                                                    |"
   ]
  },
  {
   "cell_type": "markdown",
   "metadata": {},
   "source": [
    "## 1.2 Data Import"
   ]
  },
  {
   "cell_type": "code",
   "execution_count": 2,
   "metadata": {},
   "outputs": [],
   "source": [
    "#Standard imports \n",
    "import matplotlib.pyplot as plt\n",
    "%matplotlib inline\n",
    "\n",
    "import numpy as np\n",
    "import pandas as pd\n",
    "\n",
    "from scipy import stats\n",
    "import seaborn as sns\n",
    "import statsmodels.api as sms\n",
    "import statsmodels.formula.api as smf\n",
    "\n",
    "from sklearn.model_selection import train_test_split "
   ]
  },
  {
   "cell_type": "code",
   "execution_count": 3,
   "metadata": {},
   "outputs": [
    {
     "name": "stderr",
     "output_type": "stream",
     "text": [
      "/opt/anaconda3/envs/nf/lib/python3.6/site-packages/IPython/core/interactiveshell.py:3072: DtypeWarning: Columns (0) have mixed types.Specify dtype option on import or set low_memory=False.\n",
      "  interactivity=interactivity, compiler=compiler, result=result)\n"
     ]
    },
    {
     "data": {
      "text/html": [
       "<div>\n",
       "<style scoped>\n",
       "    .dataframe tbody tr th:only-of-type {\n",
       "        vertical-align: middle;\n",
       "    }\n",
       "\n",
       "    .dataframe tbody tr th {\n",
       "        vertical-align: top;\n",
       "    }\n",
       "\n",
       "    .dataframe thead th {\n",
       "        text-align: right;\n",
       "    }\n",
       "</style>\n",
       "<table border=\"1\" class=\"dataframe\">\n",
       "  <thead>\n",
       "    <tr style=\"text-align: right;\">\n",
       "      <th></th>\n",
       "      <th>id</th>\n",
       "      <th>member_id</th>\n",
       "      <th>loan_amnt</th>\n",
       "      <th>funded_amnt</th>\n",
       "      <th>funded_amnt_inv</th>\n",
       "      <th>term</th>\n",
       "      <th>int_rate</th>\n",
       "      <th>installment</th>\n",
       "      <th>grade</th>\n",
       "      <th>sub_grade</th>\n",
       "      <th>emp_title</th>\n",
       "      <th>emp_length</th>\n",
       "      <th>home_ownership</th>\n",
       "      <th>annual_inc</th>\n",
       "      <th>verification_status</th>\n",
       "      <th>issue_d</th>\n",
       "      <th>loan_status</th>\n",
       "      <th>pymnt_plan</th>\n",
       "      <th>purpose</th>\n",
       "      <th>title</th>\n",
       "      <th>zip_code</th>\n",
       "      <th>addr_state</th>\n",
       "      <th>dti</th>\n",
       "      <th>delinq_2yrs</th>\n",
       "      <th>earliest_cr_line</th>\n",
       "      <th>inq_last_6mths</th>\n",
       "      <th>open_acc</th>\n",
       "      <th>pub_rec</th>\n",
       "      <th>revol_bal</th>\n",
       "      <th>revol_util</th>\n",
       "      <th>total_acc</th>\n",
       "      <th>initial_list_status</th>\n",
       "      <th>out_prncp</th>\n",
       "      <th>out_prncp_inv</th>\n",
       "      <th>total_pymnt</th>\n",
       "      <th>total_pymnt_inv</th>\n",
       "      <th>total_rec_prncp</th>\n",
       "      <th>total_rec_int</th>\n",
       "      <th>total_rec_late_fee</th>\n",
       "      <th>recoveries</th>\n",
       "      <th>collection_recovery_fee</th>\n",
       "      <th>last_pymnt_d</th>\n",
       "      <th>last_pymnt_amnt</th>\n",
       "      <th>last_credit_pull_d</th>\n",
       "      <th>collections_12_mths_ex_med</th>\n",
       "      <th>policy_code</th>\n",
       "      <th>application_type</th>\n",
       "      <th>acc_now_delinq</th>\n",
       "      <th>chargeoff_within_12_mths</th>\n",
       "      <th>delinq_amnt</th>\n",
       "      <th>pub_rec_bankruptcies</th>\n",
       "      <th>tax_liens</th>\n",
       "    </tr>\n",
       "  </thead>\n",
       "  <tbody>\n",
       "    <tr>\n",
       "      <th>0</th>\n",
       "      <td>1077501</td>\n",
       "      <td>1296599.0</td>\n",
       "      <td>5000.0</td>\n",
       "      <td>5000.0</td>\n",
       "      <td>4975.0</td>\n",
       "      <td>36 months</td>\n",
       "      <td>10.65%</td>\n",
       "      <td>162.87</td>\n",
       "      <td>B</td>\n",
       "      <td>B2</td>\n",
       "      <td>NaN</td>\n",
       "      <td>10+ years</td>\n",
       "      <td>RENT</td>\n",
       "      <td>24000.0</td>\n",
       "      <td>Verified</td>\n",
       "      <td>Dec-2011</td>\n",
       "      <td>Fully Paid</td>\n",
       "      <td>n</td>\n",
       "      <td>credit_card</td>\n",
       "      <td>Computer</td>\n",
       "      <td>860xx</td>\n",
       "      <td>AZ</td>\n",
       "      <td>27.65</td>\n",
       "      <td>0.0</td>\n",
       "      <td>Jan-1985</td>\n",
       "      <td>1.0</td>\n",
       "      <td>3.0</td>\n",
       "      <td>0.0</td>\n",
       "      <td>13648.0</td>\n",
       "      <td>83.7%</td>\n",
       "      <td>9.0</td>\n",
       "      <td>f</td>\n",
       "      <td>0.00</td>\n",
       "      <td>0.00</td>\n",
       "      <td>5863.155187</td>\n",
       "      <td>5833.84</td>\n",
       "      <td>5000.00</td>\n",
       "      <td>863.16</td>\n",
       "      <td>0.00</td>\n",
       "      <td>0.00</td>\n",
       "      <td>0.00</td>\n",
       "      <td>Jan-2015</td>\n",
       "      <td>171.62</td>\n",
       "      <td>Jun-2016</td>\n",
       "      <td>0.0</td>\n",
       "      <td>1.0</td>\n",
       "      <td>INDIVIDUAL</td>\n",
       "      <td>0.0</td>\n",
       "      <td>0.0</td>\n",
       "      <td>0.0</td>\n",
       "      <td>0.0</td>\n",
       "      <td>0.0</td>\n",
       "    </tr>\n",
       "    <tr>\n",
       "      <th>1</th>\n",
       "      <td>1077430</td>\n",
       "      <td>1314167.0</td>\n",
       "      <td>2500.0</td>\n",
       "      <td>2500.0</td>\n",
       "      <td>2500.0</td>\n",
       "      <td>60 months</td>\n",
       "      <td>15.27%</td>\n",
       "      <td>59.83</td>\n",
       "      <td>C</td>\n",
       "      <td>C4</td>\n",
       "      <td>Ryder</td>\n",
       "      <td>&lt; 1 year</td>\n",
       "      <td>RENT</td>\n",
       "      <td>30000.0</td>\n",
       "      <td>Source Verified</td>\n",
       "      <td>Dec-2011</td>\n",
       "      <td>Charged Off</td>\n",
       "      <td>n</td>\n",
       "      <td>car</td>\n",
       "      <td>bike</td>\n",
       "      <td>309xx</td>\n",
       "      <td>GA</td>\n",
       "      <td>1.00</td>\n",
       "      <td>0.0</td>\n",
       "      <td>Apr-1999</td>\n",
       "      <td>5.0</td>\n",
       "      <td>3.0</td>\n",
       "      <td>0.0</td>\n",
       "      <td>1687.0</td>\n",
       "      <td>9.4%</td>\n",
       "      <td>4.0</td>\n",
       "      <td>f</td>\n",
       "      <td>0.00</td>\n",
       "      <td>0.00</td>\n",
       "      <td>1008.710000</td>\n",
       "      <td>1008.71</td>\n",
       "      <td>456.46</td>\n",
       "      <td>435.17</td>\n",
       "      <td>0.00</td>\n",
       "      <td>117.08</td>\n",
       "      <td>1.11</td>\n",
       "      <td>Apr-2013</td>\n",
       "      <td>119.66</td>\n",
       "      <td>Sep-2013</td>\n",
       "      <td>0.0</td>\n",
       "      <td>1.0</td>\n",
       "      <td>INDIVIDUAL</td>\n",
       "      <td>0.0</td>\n",
       "      <td>0.0</td>\n",
       "      <td>0.0</td>\n",
       "      <td>0.0</td>\n",
       "      <td>0.0</td>\n",
       "    </tr>\n",
       "    <tr>\n",
       "      <th>2</th>\n",
       "      <td>1077175</td>\n",
       "      <td>1313524.0</td>\n",
       "      <td>2400.0</td>\n",
       "      <td>2400.0</td>\n",
       "      <td>2400.0</td>\n",
       "      <td>36 months</td>\n",
       "      <td>15.96%</td>\n",
       "      <td>84.33</td>\n",
       "      <td>C</td>\n",
       "      <td>C5</td>\n",
       "      <td>NaN</td>\n",
       "      <td>10+ years</td>\n",
       "      <td>RENT</td>\n",
       "      <td>12252.0</td>\n",
       "      <td>Not Verified</td>\n",
       "      <td>Dec-2011</td>\n",
       "      <td>Fully Paid</td>\n",
       "      <td>n</td>\n",
       "      <td>small_business</td>\n",
       "      <td>real estate business</td>\n",
       "      <td>606xx</td>\n",
       "      <td>IL</td>\n",
       "      <td>8.72</td>\n",
       "      <td>0.0</td>\n",
       "      <td>Nov-2001</td>\n",
       "      <td>2.0</td>\n",
       "      <td>2.0</td>\n",
       "      <td>0.0</td>\n",
       "      <td>2956.0</td>\n",
       "      <td>98.5%</td>\n",
       "      <td>10.0</td>\n",
       "      <td>f</td>\n",
       "      <td>0.00</td>\n",
       "      <td>0.00</td>\n",
       "      <td>3005.666844</td>\n",
       "      <td>3005.67</td>\n",
       "      <td>2400.00</td>\n",
       "      <td>605.67</td>\n",
       "      <td>0.00</td>\n",
       "      <td>0.00</td>\n",
       "      <td>0.00</td>\n",
       "      <td>Jun-2014</td>\n",
       "      <td>649.91</td>\n",
       "      <td>Jun-2016</td>\n",
       "      <td>0.0</td>\n",
       "      <td>1.0</td>\n",
       "      <td>INDIVIDUAL</td>\n",
       "      <td>0.0</td>\n",
       "      <td>0.0</td>\n",
       "      <td>0.0</td>\n",
       "      <td>0.0</td>\n",
       "      <td>0.0</td>\n",
       "    </tr>\n",
       "    <tr>\n",
       "      <th>3</th>\n",
       "      <td>1076863</td>\n",
       "      <td>1277178.0</td>\n",
       "      <td>10000.0</td>\n",
       "      <td>10000.0</td>\n",
       "      <td>10000.0</td>\n",
       "      <td>36 months</td>\n",
       "      <td>13.49%</td>\n",
       "      <td>339.31</td>\n",
       "      <td>C</td>\n",
       "      <td>C1</td>\n",
       "      <td>AIR RESOURCES BOARD</td>\n",
       "      <td>10+ years</td>\n",
       "      <td>RENT</td>\n",
       "      <td>49200.0</td>\n",
       "      <td>Source Verified</td>\n",
       "      <td>Dec-2011</td>\n",
       "      <td>Fully Paid</td>\n",
       "      <td>n</td>\n",
       "      <td>other</td>\n",
       "      <td>personel</td>\n",
       "      <td>917xx</td>\n",
       "      <td>CA</td>\n",
       "      <td>20.00</td>\n",
       "      <td>0.0</td>\n",
       "      <td>Feb-1996</td>\n",
       "      <td>1.0</td>\n",
       "      <td>10.0</td>\n",
       "      <td>0.0</td>\n",
       "      <td>5598.0</td>\n",
       "      <td>21%</td>\n",
       "      <td>37.0</td>\n",
       "      <td>f</td>\n",
       "      <td>0.00</td>\n",
       "      <td>0.00</td>\n",
       "      <td>12231.890000</td>\n",
       "      <td>12231.89</td>\n",
       "      <td>10000.00</td>\n",
       "      <td>2214.92</td>\n",
       "      <td>16.97</td>\n",
       "      <td>0.00</td>\n",
       "      <td>0.00</td>\n",
       "      <td>Jan-2015</td>\n",
       "      <td>357.48</td>\n",
       "      <td>Apr-2016</td>\n",
       "      <td>0.0</td>\n",
       "      <td>1.0</td>\n",
       "      <td>INDIVIDUAL</td>\n",
       "      <td>0.0</td>\n",
       "      <td>0.0</td>\n",
       "      <td>0.0</td>\n",
       "      <td>0.0</td>\n",
       "      <td>0.0</td>\n",
       "    </tr>\n",
       "    <tr>\n",
       "      <th>4</th>\n",
       "      <td>1075358</td>\n",
       "      <td>1311748.0</td>\n",
       "      <td>3000.0</td>\n",
       "      <td>3000.0</td>\n",
       "      <td>3000.0</td>\n",
       "      <td>60 months</td>\n",
       "      <td>12.69%</td>\n",
       "      <td>67.79</td>\n",
       "      <td>B</td>\n",
       "      <td>B5</td>\n",
       "      <td>University Medical Group</td>\n",
       "      <td>1 year</td>\n",
       "      <td>RENT</td>\n",
       "      <td>80000.0</td>\n",
       "      <td>Source Verified</td>\n",
       "      <td>Dec-2011</td>\n",
       "      <td>Current</td>\n",
       "      <td>n</td>\n",
       "      <td>other</td>\n",
       "      <td>Personal</td>\n",
       "      <td>972xx</td>\n",
       "      <td>OR</td>\n",
       "      <td>17.94</td>\n",
       "      <td>0.0</td>\n",
       "      <td>Jan-1996</td>\n",
       "      <td>0.0</td>\n",
       "      <td>15.0</td>\n",
       "      <td>0.0</td>\n",
       "      <td>27783.0</td>\n",
       "      <td>53.9%</td>\n",
       "      <td>38.0</td>\n",
       "      <td>f</td>\n",
       "      <td>461.73</td>\n",
       "      <td>461.73</td>\n",
       "      <td>3581.120000</td>\n",
       "      <td>3581.12</td>\n",
       "      <td>2538.27</td>\n",
       "      <td>1042.85</td>\n",
       "      <td>0.00</td>\n",
       "      <td>0.00</td>\n",
       "      <td>0.00</td>\n",
       "      <td>Jun-2016</td>\n",
       "      <td>67.79</td>\n",
       "      <td>Jun-2016</td>\n",
       "      <td>0.0</td>\n",
       "      <td>1.0</td>\n",
       "      <td>INDIVIDUAL</td>\n",
       "      <td>0.0</td>\n",
       "      <td>0.0</td>\n",
       "      <td>0.0</td>\n",
       "      <td>0.0</td>\n",
       "      <td>0.0</td>\n",
       "    </tr>\n",
       "  </tbody>\n",
       "</table>\n",
       "</div>"
      ],
      "text/plain": [
       "        id  member_id  loan_amnt  funded_amnt  funded_amnt_inv        term  \\\n",
       "0  1077501  1296599.0     5000.0       5000.0           4975.0   36 months   \n",
       "1  1077430  1314167.0     2500.0       2500.0           2500.0   60 months   \n",
       "2  1077175  1313524.0     2400.0       2400.0           2400.0   36 months   \n",
       "3  1076863  1277178.0    10000.0      10000.0          10000.0   36 months   \n",
       "4  1075358  1311748.0     3000.0       3000.0           3000.0   60 months   \n",
       "\n",
       "  int_rate  installment grade sub_grade                 emp_title emp_length  \\\n",
       "0   10.65%       162.87     B        B2                       NaN  10+ years   \n",
       "1   15.27%        59.83     C        C4                     Ryder   < 1 year   \n",
       "2   15.96%        84.33     C        C5                       NaN  10+ years   \n",
       "3   13.49%       339.31     C        C1       AIR RESOURCES BOARD  10+ years   \n",
       "4   12.69%        67.79     B        B5  University Medical Group     1 year   \n",
       "\n",
       "  home_ownership  annual_inc verification_status   issue_d  loan_status  \\\n",
       "0           RENT     24000.0            Verified  Dec-2011   Fully Paid   \n",
       "1           RENT     30000.0     Source Verified  Dec-2011  Charged Off   \n",
       "2           RENT     12252.0        Not Verified  Dec-2011   Fully Paid   \n",
       "3           RENT     49200.0     Source Verified  Dec-2011   Fully Paid   \n",
       "4           RENT     80000.0     Source Verified  Dec-2011      Current   \n",
       "\n",
       "  pymnt_plan         purpose                 title zip_code addr_state    dti  \\\n",
       "0          n     credit_card              Computer    860xx         AZ  27.65   \n",
       "1          n             car                  bike    309xx         GA   1.00   \n",
       "2          n  small_business  real estate business    606xx         IL   8.72   \n",
       "3          n           other              personel    917xx         CA  20.00   \n",
       "4          n           other              Personal    972xx         OR  17.94   \n",
       "\n",
       "   delinq_2yrs earliest_cr_line  inq_last_6mths  open_acc  pub_rec  revol_bal  \\\n",
       "0          0.0         Jan-1985             1.0       3.0      0.0    13648.0   \n",
       "1          0.0         Apr-1999             5.0       3.0      0.0     1687.0   \n",
       "2          0.0         Nov-2001             2.0       2.0      0.0     2956.0   \n",
       "3          0.0         Feb-1996             1.0      10.0      0.0     5598.0   \n",
       "4          0.0         Jan-1996             0.0      15.0      0.0    27783.0   \n",
       "\n",
       "  revol_util  total_acc initial_list_status  out_prncp  out_prncp_inv  \\\n",
       "0      83.7%        9.0                   f       0.00           0.00   \n",
       "1       9.4%        4.0                   f       0.00           0.00   \n",
       "2      98.5%       10.0                   f       0.00           0.00   \n",
       "3        21%       37.0                   f       0.00           0.00   \n",
       "4      53.9%       38.0                   f     461.73         461.73   \n",
       "\n",
       "    total_pymnt  total_pymnt_inv  total_rec_prncp  total_rec_int  \\\n",
       "0   5863.155187          5833.84          5000.00         863.16   \n",
       "1   1008.710000          1008.71           456.46         435.17   \n",
       "2   3005.666844          3005.67          2400.00         605.67   \n",
       "3  12231.890000         12231.89         10000.00        2214.92   \n",
       "4   3581.120000          3581.12          2538.27        1042.85   \n",
       "\n",
       "   total_rec_late_fee  recoveries  collection_recovery_fee last_pymnt_d  \\\n",
       "0                0.00        0.00                     0.00     Jan-2015   \n",
       "1                0.00      117.08                     1.11     Apr-2013   \n",
       "2                0.00        0.00                     0.00     Jun-2014   \n",
       "3               16.97        0.00                     0.00     Jan-2015   \n",
       "4                0.00        0.00                     0.00     Jun-2016   \n",
       "\n",
       "   last_pymnt_amnt last_credit_pull_d  collections_12_mths_ex_med  \\\n",
       "0           171.62           Jun-2016                         0.0   \n",
       "1           119.66           Sep-2013                         0.0   \n",
       "2           649.91           Jun-2016                         0.0   \n",
       "3           357.48           Apr-2016                         0.0   \n",
       "4            67.79           Jun-2016                         0.0   \n",
       "\n",
       "   policy_code application_type  acc_now_delinq  chargeoff_within_12_mths  \\\n",
       "0          1.0       INDIVIDUAL             0.0                       0.0   \n",
       "1          1.0       INDIVIDUAL             0.0                       0.0   \n",
       "2          1.0       INDIVIDUAL             0.0                       0.0   \n",
       "3          1.0       INDIVIDUAL             0.0                       0.0   \n",
       "4          1.0       INDIVIDUAL             0.0                       0.0   \n",
       "\n",
       "   delinq_amnt  pub_rec_bankruptcies  tax_liens  \n",
       "0          0.0                   0.0        0.0  \n",
       "1          0.0                   0.0        0.0  \n",
       "2          0.0                   0.0        0.0  \n",
       "3          0.0                   0.0        0.0  \n",
       "4          0.0                   0.0        0.0  "
      ]
     },
     "execution_count": 3,
     "metadata": {},
     "output_type": "execute_result"
    }
   ],
   "source": [
    "#load data\n",
    "loans_total = pd.read_csv(\"data/loans_2007.csv\" )\n",
    "pd.set_option(\"display.max_columns\", None)\n",
    "loans_total.head()"
   ]
  },
  {
   "cell_type": "code",
   "execution_count": 4,
   "metadata": {},
   "outputs": [
    {
     "data": {
      "text/plain": [
       "(42538, 52)"
      ]
     },
     "execution_count": 4,
     "metadata": {},
     "output_type": "execute_result"
    }
   ],
   "source": [
    "loans_total.shape"
   ]
  },
  {
   "cell_type": "markdown",
   "metadata": {},
   "source": [
    "## 1.3 Deletion of variables not needed and variable recoding"
   ]
  },
  {
   "cell_type": "markdown",
   "metadata": {},
   "source": [
    "In the following, a greater amount of variables will be dropped. \n",
    "* Some variables contain information which cannot be known by an investor deciding whom to support with a loan (e.g, measures related to delayed payback.\n",
    "* Some variables are redundant. \n",
    "* Some variables have no predictive value for the target/ are not really connected to the target.\n",
    "* Some variables don't vary (e.g. application type)"
   ]
  },
  {
   "cell_type": "code",
   "execution_count": 5,
   "metadata": {},
   "outputs": [],
   "source": [
    "loans_total.drop(['id', 'member_id', 'delinq_amnt','chargeoff_within_12_mths', 'acc_now_delinq','last_pymnt_d','last_pymnt_amnt','total_rec_prncp', \n",
    "                  'total_rec_late_fee', 'total_rec_int', 'funded_amnt_inv', \"pymnt_plan\", \"initial_list_status\", \"application_type\", \n",
    "                  'recoveries', 'sub_grade', 'emp_title', 'last_credit_pull_d', 'zip_code', 'policy_code', 'pub_rec_bankruptcies', \n",
    "                  'tax_liens', 'earliest_cr_line', 'title'  ], axis=1, inplace=True)"
   ]
  },
  {
   "cell_type": "markdown",
   "metadata": {},
   "source": [
    "Checking if the object variables' datatypes need to be changed:"
   ]
  },
  {
   "cell_type": "code",
   "execution_count": 6,
   "metadata": {},
   "outputs": [
    {
     "name": "stdout",
     "output_type": "stream",
     "text": [
      "<class 'pandas.core.frame.DataFrame'>\n",
      "RangeIndex: 42538 entries, 0 to 42537\n",
      "Data columns (total 11 columns):\n",
      " #   Column               Non-Null Count  Dtype \n",
      "---  ------               --------------  ----- \n",
      " 0   term                 42535 non-null  object\n",
      " 1   int_rate             42535 non-null  object\n",
      " 2   grade                42535 non-null  object\n",
      " 3   emp_length           41423 non-null  object\n",
      " 4   home_ownership       42535 non-null  object\n",
      " 5   verification_status  42535 non-null  object\n",
      " 6   issue_d              42535 non-null  object\n",
      " 7   loan_status          42535 non-null  object\n",
      " 8   purpose              42535 non-null  object\n",
      " 9   addr_state           42535 non-null  object\n",
      " 10  revol_util           42445 non-null  object\n",
      "dtypes: object(11)\n",
      "memory usage: 3.6+ MB\n"
     ]
    }
   ],
   "source": [
    "loans_total.select_dtypes('object').info()"
   ]
  },
  {
   "cell_type": "markdown",
   "metadata": {},
   "source": [
    "These changes will be executed:\n",
    "* change to float:\n",
    "    * revol_util\n",
    "    * int_rate\n",
    "* change to date:\n",
    "    * issue_d"
   ]
  },
  {
   "cell_type": "code",
   "execution_count": 7,
   "metadata": {},
   "outputs": [],
   "source": [
    "loans_total.int_rate = loans_total.int_rate.str.replace(\"%\",\"\")\n",
    "loans_total.int_rate = loans_total.int_rate.astype(float)\n",
    "loans_total.int_rate = (loans_total.int_rate)/100\n",
    "loans_total.revol_util = loans_total.revol_util.str.replace(\"%\",\"\")\n",
    "loans_total.revol_util = loans_total.revol_util.astype(float)\n",
    "loans_total.revol_util = (loans_total.revol_util)/100"
   ]
  },
  {
   "cell_type": "markdown",
   "metadata": {},
   "source": [
    "Grade will be recoded to numerical - since we can assume equidistancy of values we treat the variable as pseudo-metric."
   ]
  },
  {
   "cell_type": "code",
   "execution_count": 8,
   "metadata": {},
   "outputs": [],
   "source": [
    "loans_total.grade = loans_total.grade.replace('A', 1)\n",
    "loans_total.grade = loans_total.grade.replace('B', 2)\n",
    "loans_total.grade = loans_total.grade.replace('C', 3)\n",
    "loans_total.grade = loans_total.grade.replace('D', 4)\n",
    "loans_total.grade = loans_total.grade.replace('E', 5)\n",
    "loans_total.grade = loans_total.grade.replace('F', 6)\n",
    "loans_total.grade = loans_total.grade.replace('G', 7)"
   ]
  },
  {
   "cell_type": "code",
   "execution_count": 9,
   "metadata": {},
   "outputs": [],
   "source": [
    "#Convert grade to float \n",
    "loans_total.grade.astype('float');"
   ]
  },
  {
   "cell_type": "markdown",
   "metadata": {},
   "source": [
    "The issue_d variable is converted to year-format and numeric."
   ]
  },
  {
   "cell_type": "code",
   "execution_count": 10,
   "metadata": {},
   "outputs": [],
   "source": [
    "from datetime import datetime\n",
    "loans_total.issue_d = pd.to_datetime(loans_total.issue_d).dt.year"
   ]
  },
  {
   "cell_type": "code",
   "execution_count": 11,
   "metadata": {},
   "outputs": [],
   "source": [
    "#change datatype of issue_d\n",
    "loans_total.issue_d.astype('float');"
   ]
  },
  {
   "cell_type": "markdown",
   "metadata": {},
   "source": [
    "The years 2007 and 2008 are dropped since the EDA (see second notebook) showed that these years differ stongly from the others. This is not surprising since Lending Club was founded in 2007, so the first two years might have been influenced by teething problems (like difficulties with finding investors). Therefore, these two years are not representative. "
   ]
  },
  {
   "cell_type": "code",
   "execution_count": 12,
   "metadata": {},
   "outputs": [],
   "source": [
    "loans_total.drop(loans_total.loc[loans_total['issue_d']== 2007.0].index, inplace=True)\n",
    "loans_total.drop(loans_total.loc[loans_total['issue_d']==2008.0].index, inplace=True)"
   ]
  },
  {
   "cell_type": "markdown",
   "metadata": {},
   "source": [
    "Let's have a look if frequencies in the target variable are balanced. "
   ]
  },
  {
   "cell_type": "code",
   "execution_count": 13,
   "metadata": {},
   "outputs": [
    {
     "data": {
      "text/plain": [
       "Fully Paid                                             31615\n",
       "Charged Off                                             5342\n",
       "Does not meet the credit policy. Status:Fully Paid      1167\n",
       "Current                                                  961\n",
       "Does not meet the credit policy. Status:Charged Off      399\n",
       "Late (31-120 days)                                        24\n",
       "In Grace Period                                           20\n",
       "Late (16-30 days)                                          8\n",
       "Default                                                    3\n",
       "Name: loan_status, dtype: int64"
      ]
     },
     "execution_count": 13,
     "metadata": {},
     "output_type": "execute_result"
    }
   ],
   "source": [
    "loans_total.loan_status.value_counts()"
   ]
  },
  {
   "cell_type": "markdown",
   "metadata": {},
   "source": [
    "The data is very imbalanced: The majority of borrowers fully pay back (which is good news for investors but difficult to handle in data analysis).\n",
    "Anyway, for a prediction if borrowers will pay back or not, only the 'fully paid' and 'charged off' values are important. We will drop the others which is okay since it is only a small proportion of the data. \n",
    "Additonally, we will recode the target variable to numeric (values 0 = charged off and 1 = fully paid)."
   ]
  },
  {
   "cell_type": "code",
   "execution_count": 14,
   "metadata": {},
   "outputs": [],
   "source": [
    "# Drop three missing values in target variable in order to avoid problems in ther train test split. \n",
    "loans_total.loan_status.dropna();"
   ]
  },
  {
   "cell_type": "code",
   "execution_count": 15,
   "metadata": {},
   "outputs": [],
   "source": [
    "loans_total.drop(loans_total.loc[loans_total['loan_status']=='Current'].index, inplace=True)\n",
    "loans_total.drop(loans_total.loc[loans_total['loan_status']=='In Grace Period'].index, inplace=True)\n",
    "loans_total.drop(loans_total.loc[loans_total['loan_status']=='Default'].index, inplace=True)\n",
    "loans_total.drop(loans_total.loc[loans_total['loan_status']=='Late (31-120 days)'].index, inplace=True)\n",
    "loans_total.drop(loans_total.loc[loans_total['loan_status']=='Late (16-30 days)'].index, inplace=True)\n",
    "loans_total.drop(loans_total.loc[loans_total['loan_status']=='Does not meet the credit policy. Status:Fully Paid'].index, inplace=True)\n",
    "loans_total.drop(loans_total.loc[loans_total['loan_status']=='Does not meet the credit policy. Status:Charged Off'].index, inplace=True)"
   ]
  },
  {
   "cell_type": "code",
   "execution_count": 16,
   "metadata": {},
   "outputs": [],
   "source": [
    "loans_total.replace(to_replace = 'Charged Off', value = 0, inplace = True)\n",
    "loans_total.replace(to_replace = 'Fully Paid', value = 1, inplace = True)"
   ]
  },
  {
   "cell_type": "markdown",
   "metadata": {},
   "source": [
    "The term variable is changed to numeric. Herefor, the substring 'month' is deleted."
   ]
  },
  {
   "cell_type": "code",
   "execution_count": 17,
   "metadata": {},
   "outputs": [],
   "source": [
    "loans_total.term = loans_total.term.str.replace('months', '')\n",
    "loans_total.term.astype('float');"
   ]
  },
  {
   "cell_type": "markdown",
   "metadata": {},
   "source": [
    "Since the train test split (v.s.) has difficulties handling missing data, these are temporarily recoded in a way that they take impossible values. Later, they will be changed to nan again."
   ]
  },
  {
   "cell_type": "code",
   "execution_count": 18,
   "metadata": {},
   "outputs": [],
   "source": [
    "#Replace numerical nans by -9999 as impossible value\n",
    "loans_total.loc[:, ['loan_status', 'term', 'loan_amnt', 'funded_amnt', 'int_rate', 'grade',\n",
    "       'installment', 'annual_inc', 'dti', 'delinq_2yrs', 'inq_last_6mths',\n",
    "       'open_acc', 'pub_rec', 'revol_bal', 'revol_util', 'total_acc',]] = loans_total.loc[:, ['loan_status', 'term', 'loan_amnt', 'funded_amnt', 'int_rate', 'grade',\n",
    "       'installment', 'annual_inc', 'dti', 'delinq_2yrs', 'inq_last_6mths',\n",
    "       'open_acc', 'pub_rec', 'revol_bal', 'revol_util', 'total_acc',]].fillna(-9999)"
   ]
  },
  {
   "cell_type": "code",
   "execution_count": 19,
   "metadata": {},
   "outputs": [],
   "source": [
    "#Replace string nans by '?' as impossible value\n",
    "loans_total.loc[:, ['emp_length', 'home_ownership', 'verification_status', 'purpose', 'addr_state']] = loans_total.loc[:, ['emp_length', 'home_ownership', 'verification_status', 'purpose', 'addr_state']].fillna(\"?\");"
   ]
  },
  {
   "cell_type": "markdown",
   "metadata": {},
   "source": [
    "## 1.4 Train Test Split"
   ]
  },
  {
   "cell_type": "markdown",
   "metadata": {},
   "source": [
    "The dataset is splitted into train and test sets. Any data manipulations will be exectued for train and test data separately. "
   ]
  },
  {
   "cell_type": "markdown",
   "metadata": {},
   "source": [
    "Since frequencies are not balanced, the train-test-split will be stratified. "
   ]
  },
  {
   "cell_type": "code",
   "execution_count": 20,
   "metadata": {},
   "outputs": [],
   "source": [
    "#Create train and test datasets\n",
    "y = loans_total.loan_status\n",
    "X = loans_total[['loan_amnt', 'funded_amnt',  'term', 'int_rate',\n",
    "       'installment', 'grade', 'emp_length', 'home_ownership', 'annual_inc',\n",
    "       'verification_status', 'issue_d', 'purpose',\n",
    "       'addr_state', 'dti', 'delinq_2yrs', 'inq_last_6mths', 'open_acc',\n",
    "       'pub_rec', 'revol_bal', 'revol_util', 'total_acc']]\n",
    "#Train-test-split\n",
    "X_train, X_test, y_train, y_test = train_test_split(X, y, test_size = .33, random_state = 42, stratify = y)"
   ]
  },
  {
   "cell_type": "code",
   "execution_count": 21,
   "metadata": {},
   "outputs": [],
   "source": [
    "#Save test data in separate file \n",
    "test_data = pd.concat([X_test, y_test], axis = 1)\n",
    "test_data.reset_index(inplace = True)\n",
    "test_data.drop('index', inplace = True, axis = 1)\n",
    "test_data.to_csv('test_data.csv')"
   ]
  },
  {
   "cell_type": "code",
   "execution_count": 22,
   "metadata": {},
   "outputs": [],
   "source": [
    "#Save train data in separate file \n",
    "train_data = pd.concat([X_train, y_train], axis = 1)\n",
    "train_data.reset_index(inplace = True)\n",
    "train_data.drop('index', inplace = True, axis = 1)\n",
    "train_data.to_csv('train_data.csv')"
   ]
  },
  {
   "cell_type": "markdown",
   "metadata": {},
   "source": [
    "## 1.5 Missing values in training data"
   ]
  },
  {
   "cell_type": "code",
   "execution_count": 23,
   "metadata": {},
   "outputs": [],
   "source": [
    "#Re-establish missing data which were temporarily replaced by impossible values for the train test split. \n",
    "train_data.replace('?', np.nan, inplace = True)\n",
    "train_data.replace(-9999, np.nan, inplace = True)"
   ]
  },
  {
   "cell_type": "markdown",
   "metadata": {},
   "source": [
    "Missing data with occurences < 100 will be dropped."
   ]
  },
  {
   "cell_type": "code",
   "execution_count": 24,
   "metadata": {},
   "outputs": [
    {
     "data": {
      "text/plain": [
       "loan_amnt                2\n",
       "funded_amnt              2\n",
       "term                     2\n",
       "int_rate                 2\n",
       "installment              2\n",
       "grade                    2\n",
       "emp_length             689\n",
       "home_ownership           2\n",
       "annual_inc               2\n",
       "verification_status      2\n",
       "issue_d                  2\n",
       "purpose                  2\n",
       "addr_state               2\n",
       "dti                      2\n",
       "delinq_2yrs              2\n",
       "inq_last_6mths           2\n",
       "open_acc                 2\n",
       "pub_rec                  2\n",
       "revol_bal                2\n",
       "revol_util              34\n",
       "total_acc                2\n",
       "loan_status              2\n",
       "dtype: int64"
      ]
     },
     "execution_count": 24,
     "metadata": {},
     "output_type": "execute_result"
    }
   ],
   "source": [
    "train_data.isna().sum()"
   ]
  },
  {
   "cell_type": "code",
   "execution_count": 25,
   "metadata": {},
   "outputs": [],
   "source": [
    "train_data.dropna(subset = ['loan_amnt', 'funded_amnt',  'term', 'int_rate',\n",
    "       'installment', 'grade', 'home_ownership', 'annual_inc',\n",
    "       'verification_status', 'issue_d', 'purpose', 'addr_state', 'dti',\n",
    "       'delinq_2yrs', 'inq_last_6mths', 'open_acc', 'pub_rec', 'revol_bal',\n",
    "       'revol_util', 'total_acc',  'loan_status'], inplace = True)"
   ]
  },
  {
   "cell_type": "code",
   "execution_count": 26,
   "metadata": {},
   "outputs": [
    {
     "data": {
      "text/plain": [
       "loan_amnt                0\n",
       "funded_amnt              0\n",
       "term                     0\n",
       "int_rate                 0\n",
       "installment              0\n",
       "grade                    0\n",
       "emp_length             685\n",
       "home_ownership           0\n",
       "annual_inc               0\n",
       "verification_status      0\n",
       "issue_d                  0\n",
       "purpose                  0\n",
       "addr_state               0\n",
       "dti                      0\n",
       "delinq_2yrs              0\n",
       "inq_last_6mths           0\n",
       "open_acc                 0\n",
       "pub_rec                  0\n",
       "revol_bal                0\n",
       "revol_util               0\n",
       "total_acc                0\n",
       "loan_status              0\n",
       "dtype: int64"
      ]
     },
     "execution_count": 26,
     "metadata": {},
     "output_type": "execute_result"
    }
   ],
   "source": [
    "train_data.isna().sum()"
   ]
  },
  {
   "cell_type": "code",
   "execution_count": 27,
   "metadata": {},
   "outputs": [
    {
     "data": {
      "text/html": [
       "<div>\n",
       "<style scoped>\n",
       "    .dataframe tbody tr th:only-of-type {\n",
       "        vertical-align: middle;\n",
       "    }\n",
       "\n",
       "    .dataframe tbody tr th {\n",
       "        vertical-align: top;\n",
       "    }\n",
       "\n",
       "    .dataframe thead th {\n",
       "        text-align: right;\n",
       "    }\n",
       "</style>\n",
       "<table border=\"1\" class=\"dataframe\">\n",
       "  <thead>\n",
       "    <tr style=\"text-align: right;\">\n",
       "      <th></th>\n",
       "      <th>emp_length</th>\n",
       "    </tr>\n",
       "  </thead>\n",
       "  <tbody>\n",
       "    <tr>\n",
       "      <th>count</th>\n",
       "      <td>24044</td>\n",
       "    </tr>\n",
       "    <tr>\n",
       "      <th>unique</th>\n",
       "      <td>11</td>\n",
       "    </tr>\n",
       "    <tr>\n",
       "      <th>top</th>\n",
       "      <td>10+ years</td>\n",
       "    </tr>\n",
       "    <tr>\n",
       "      <th>freq</th>\n",
       "      <td>5453</td>\n",
       "    </tr>\n",
       "  </tbody>\n",
       "</table>\n",
       "</div>"
      ],
      "text/plain": [
       "       emp_length\n",
       "count       24044\n",
       "unique         11\n",
       "top     10+ years\n",
       "freq         5453"
      ]
     },
     "execution_count": 27,
     "metadata": {},
     "output_type": "execute_result"
    }
   ],
   "source": [
    "train_data[['emp_length']].describe().round(2)"
   ]
  },
  {
   "cell_type": "markdown",
   "metadata": {},
   "source": [
    "The mode is not frequent enough to replace missing values bz mode. Therefore, missing values are replaced bz a new value 'unknown'."
   ]
  },
  {
   "cell_type": "code",
   "execution_count": 28,
   "metadata": {},
   "outputs": [],
   "source": [
    "train_data.emp_length.fillna('unknown', inplace = True)"
   ]
  },
  {
   "cell_type": "markdown",
   "metadata": {},
   "source": [
    "## 1.5 Outlier detection and handling"
   ]
  },
  {
   "cell_type": "markdown",
   "metadata": {},
   "source": [
    "#### Numerical Data"
   ]
  },
  {
   "cell_type": "markdown",
   "metadata": {},
   "source": [
    "Outliers are removed if they exceed the 99.5th percentile. This is a very liberal criterion but we want to maximise generalization of the model."
   ]
  },
  {
   "cell_type": "code",
   "execution_count": 29,
   "metadata": {},
   "outputs": [],
   "source": [
    "#exclude outliers in numerical data\n",
    "for var in train_data.select_dtypes(include = 'number').columns:\n",
    "    train_data.drop(train_data.loc[train_data[var]> train_data[var].quantile(q = .995)].index, inplace = True);"
   ]
  },
  {
   "cell_type": "markdown",
   "metadata": {},
   "source": [
    "#### Categorical Data"
   ]
  },
  {
   "cell_type": "markdown",
   "metadata": {},
   "source": [
    "Even though group sizes are small for some variables, categorical data are not excluded since all outliers are outliers only regarding their frequency, not regarding their *value*."
   ]
  },
  {
   "cell_type": "code",
   "execution_count": 30,
   "metadata": {},
   "outputs": [],
   "source": [
    "#Save data\n",
    "train_data.to_csv('train_data.csv')"
   ]
  },
  {
   "cell_type": "markdown",
   "metadata": {},
   "source": [
    "## 1.6 Rescale train data"
   ]
  },
  {
   "cell_type": "markdown",
   "metadata": {},
   "source": [
    "Data are rescaled using the RobustScaler.\n",
    "The centering and scaling statistics of this scaler are based on percentiles and are therefore not influenced by a few number of very large marginal outliers. Consequently, the resulting range of the transformed feature values is larger than for the previous scalers and, more importantly, are approximately similar."
   ]
  },
  {
   "cell_type": "code",
   "execution_count": 31,
   "metadata": {},
   "outputs": [],
   "source": [
    "#Separate numerical and non-numerical variables since only the numerical ones can be rescaled.\n",
    "X_train_num = train_data.copy().select_dtypes('number')"
   ]
  },
  {
   "cell_type": "code",
   "execution_count": 32,
   "metadata": {},
   "outputs": [],
   "source": [
    "#For some reason, the term variable is still an object although it has been transformed earlier. \n",
    "#Therefore, it is added by hand to the numerical variables.\n",
    "X_train_num['term'] = train_data.term.copy()"
   ]
  },
  {
   "cell_type": "code",
   "execution_count": 33,
   "metadata": {},
   "outputs": [],
   "source": [
    "#Drop loan status as the dependent variable\n",
    "X_train_num.drop('loan_status', inplace = True, axis = 1)"
   ]
  },
  {
   "cell_type": "code",
   "execution_count": 34,
   "metadata": {},
   "outputs": [],
   "source": [
    "#Categorical variables \n",
    "X_train_cat = pd.get_dummies(train_data[['emp_length', 'home_ownership',\n",
    "       'verification_status',  'purpose', 'addr_state']], drop_first = True)"
   ]
  },
  {
   "cell_type": "code",
   "execution_count": 35,
   "metadata": {},
   "outputs": [
    {
     "name": "stdout",
     "output_type": "stream",
     "text": [
      "Requirement already satisfied: sklearn-pandas in /opt/anaconda3/envs/nf/lib/python3.6/site-packages (2.0.2)\n",
      "Requirement already satisfied: numpy>=1.18.1 in /opt/anaconda3/envs/nf/lib/python3.6/site-packages (from sklearn-pandas) (1.19.1)\n",
      "Requirement already satisfied: pandas>=1.0.5 in /opt/anaconda3/envs/nf/lib/python3.6/site-packages (from sklearn-pandas) (1.1.2)\n",
      "Requirement already satisfied: scikit-learn>=0.23.0 in /opt/anaconda3/envs/nf/lib/python3.6/site-packages (from sklearn-pandas) (0.23.2)\n",
      "Requirement already satisfied: scipy>=1.4.1 in /opt/anaconda3/envs/nf/lib/python3.6/site-packages (from sklearn-pandas) (1.5.2)\n",
      "Requirement already satisfied: python-dateutil>=2.7.3 in /opt/anaconda3/envs/nf/lib/python3.6/site-packages (from pandas>=1.0.5->sklearn-pandas) (2.8.1)\n",
      "Requirement already satisfied: pytz>=2017.2 in /opt/anaconda3/envs/nf/lib/python3.6/site-packages (from pandas>=1.0.5->sklearn-pandas) (2020.1)\n",
      "Requirement already satisfied: threadpoolctl>=2.0.0 in /opt/anaconda3/envs/nf/lib/python3.6/site-packages (from scikit-learn>=0.23.0->sklearn-pandas) (2.1.0)\n",
      "Requirement already satisfied: joblib>=0.11 in /opt/anaconda3/envs/nf/lib/python3.6/site-packages (from scikit-learn>=0.23.0->sklearn-pandas) (0.16.0)\n",
      "Requirement already satisfied: six>=1.5 in /opt/anaconda3/envs/nf/lib/python3.6/site-packages (from python-dateutil>=2.7.3->pandas>=1.0.5->sklearn-pandas) (1.15.0)\n"
     ]
    }
   ],
   "source": [
    "! pip install sklearn-pandas"
   ]
  },
  {
   "cell_type": "code",
   "execution_count": 36,
   "metadata": {},
   "outputs": [],
   "source": [
    "#Rescale data\n",
    "from sklearn.preprocessing import RobustScaler\n",
    "from sklearn_pandas import DataFrameMapper\n",
    "mapper = DataFrameMapper([(X_train_num.columns, RobustScaler())])\n",
    "scaled_features = mapper.fit_transform(X_train_num.copy(), 4)\n",
    "X_r = pd.DataFrame(scaled_features, index=X_train_num.index, columns=X_train_num.columns)"
   ]
  },
  {
   "cell_type": "code",
   "execution_count": 37,
   "metadata": {},
   "outputs": [
    {
     "data": {
      "text/html": [
       "<div>\n",
       "<style scoped>\n",
       "    .dataframe tbody tr th:only-of-type {\n",
       "        vertical-align: middle;\n",
       "    }\n",
       "\n",
       "    .dataframe tbody tr th {\n",
       "        vertical-align: top;\n",
       "    }\n",
       "\n",
       "    .dataframe thead th {\n",
       "        text-align: right;\n",
       "    }\n",
       "</style>\n",
       "<table border=\"1\" class=\"dataframe\">\n",
       "  <thead>\n",
       "    <tr style=\"text-align: right;\">\n",
       "      <th></th>\n",
       "      <th>loan_amnt</th>\n",
       "      <th>funded_amnt</th>\n",
       "      <th>int_rate</th>\n",
       "      <th>installment</th>\n",
       "      <th>grade</th>\n",
       "      <th>annual_inc</th>\n",
       "      <th>issue_d</th>\n",
       "      <th>dti</th>\n",
       "      <th>delinq_2yrs</th>\n",
       "      <th>inq_last_6mths</th>\n",
       "      <th>open_acc</th>\n",
       "      <th>pub_rec</th>\n",
       "      <th>revol_bal</th>\n",
       "      <th>revol_util</th>\n",
       "      <th>total_acc</th>\n",
       "      <th>term</th>\n",
       "    </tr>\n",
       "  </thead>\n",
       "  <tbody>\n",
       "    <tr>\n",
       "      <th>0</th>\n",
       "      <td>-0.403061</td>\n",
       "      <td>-0.367347</td>\n",
       "      <td>-0.891304</td>\n",
       "      <td>-0.361449</td>\n",
       "      <td>-0.5</td>\n",
       "      <td>-0.7899</td>\n",
       "      <td>0.0</td>\n",
       "      <td>-0.400000</td>\n",
       "      <td>0.0</td>\n",
       "      <td>-1.0</td>\n",
       "      <td>-1.000000</td>\n",
       "      <td>0.0</td>\n",
       "      <td>-0.546581</td>\n",
       "      <td>-0.123932</td>\n",
       "      <td>-0.733333</td>\n",
       "      <td>0.0</td>\n",
       "    </tr>\n",
       "    <tr>\n",
       "      <th>1</th>\n",
       "      <td>-0.709184</td>\n",
       "      <td>-0.673469</td>\n",
       "      <td>0.894928</td>\n",
       "      <td>-0.663813</td>\n",
       "      <td>1.5</td>\n",
       "      <td>-1.1799</td>\n",
       "      <td>0.0</td>\n",
       "      <td>-0.436538</td>\n",
       "      <td>0.0</td>\n",
       "      <td>0.0</td>\n",
       "      <td>-1.000000</td>\n",
       "      <td>0.0</td>\n",
       "      <td>-0.478905</td>\n",
       "      <td>1.057692</td>\n",
       "      <td>-1.066667</td>\n",
       "      <td>0.0</td>\n",
       "    </tr>\n",
       "    <tr>\n",
       "      <th>2</th>\n",
       "      <td>-0.158163</td>\n",
       "      <td>-0.122449</td>\n",
       "      <td>-1.050725</td>\n",
       "      <td>-0.089012</td>\n",
       "      <td>-0.5</td>\n",
       "      <td>-0.1999</td>\n",
       "      <td>0.0</td>\n",
       "      <td>-0.566346</td>\n",
       "      <td>0.0</td>\n",
       "      <td>-1.0</td>\n",
       "      <td>0.000000</td>\n",
       "      <td>0.0</td>\n",
       "      <td>-0.121236</td>\n",
       "      <td>-0.732906</td>\n",
       "      <td>-0.266667</td>\n",
       "      <td>0.0</td>\n",
       "    </tr>\n",
       "    <tr>\n",
       "      <th>3</th>\n",
       "      <td>0.005102</td>\n",
       "      <td>0.040816</td>\n",
       "      <td>-0.782609</td>\n",
       "      <td>0.124841</td>\n",
       "      <td>-0.5</td>\n",
       "      <td>-0.6498</td>\n",
       "      <td>-1.0</td>\n",
       "      <td>-1.291346</td>\n",
       "      <td>0.0</td>\n",
       "      <td>-1.0</td>\n",
       "      <td>-0.166667</td>\n",
       "      <td>0.0</td>\n",
       "      <td>-0.672444</td>\n",
       "      <td>-1.051282</td>\n",
       "      <td>-0.466667</td>\n",
       "      <td>0.0</td>\n",
       "    </tr>\n",
       "    <tr>\n",
       "      <th>4</th>\n",
       "      <td>-0.505102</td>\n",
       "      <td>-0.469388</td>\n",
       "      <td>0.456522</td>\n",
       "      <td>-0.412665</td>\n",
       "      <td>0.5</td>\n",
       "      <td>-1.0299</td>\n",
       "      <td>-1.0</td>\n",
       "      <td>-0.535577</td>\n",
       "      <td>0.0</td>\n",
       "      <td>0.0</td>\n",
       "      <td>-0.833333</td>\n",
       "      <td>0.0</td>\n",
       "      <td>-0.393115</td>\n",
       "      <td>0.950855</td>\n",
       "      <td>-0.666667</td>\n",
       "      <td>0.0</td>\n",
       "    </tr>\n",
       "  </tbody>\n",
       "</table>\n",
       "</div>"
      ],
      "text/plain": [
       "   loan_amnt  funded_amnt  int_rate  installment  grade  annual_inc  issue_d  \\\n",
       "0  -0.403061    -0.367347 -0.891304    -0.361449   -0.5     -0.7899      0.0   \n",
       "1  -0.709184    -0.673469  0.894928    -0.663813    1.5     -1.1799      0.0   \n",
       "2  -0.158163    -0.122449 -1.050725    -0.089012   -0.5     -0.1999      0.0   \n",
       "3   0.005102     0.040816 -0.782609     0.124841   -0.5     -0.6498     -1.0   \n",
       "4  -0.505102    -0.469388  0.456522    -0.412665    0.5     -1.0299     -1.0   \n",
       "\n",
       "        dti  delinq_2yrs  inq_last_6mths  open_acc  pub_rec  revol_bal  \\\n",
       "0 -0.400000          0.0            -1.0 -1.000000      0.0  -0.546581   \n",
       "1 -0.436538          0.0             0.0 -1.000000      0.0  -0.478905   \n",
       "2 -0.566346          0.0            -1.0  0.000000      0.0  -0.121236   \n",
       "3 -1.291346          0.0            -1.0 -0.166667      0.0  -0.672444   \n",
       "4 -0.535577          0.0             0.0 -0.833333      0.0  -0.393115   \n",
       "\n",
       "   revol_util  total_acc  term  \n",
       "0   -0.123932  -0.733333   0.0  \n",
       "1    1.057692  -1.066667   0.0  \n",
       "2   -0.732906  -0.266667   0.0  \n",
       "3   -1.051282  -0.466667   0.0  \n",
       "4    0.950855  -0.666667   0.0  "
      ]
     },
     "execution_count": 37,
     "metadata": {},
     "output_type": "execute_result"
    }
   ],
   "source": [
    "X_r.head()"
   ]
  },
  {
   "cell_type": "code",
   "execution_count": 38,
   "metadata": {},
   "outputs": [],
   "source": [
    "#Join all predictive variables again\n",
    "X_train = pd.concat([X_r, X_train_cat], axis = 1)"
   ]
  },
  {
   "cell_type": "code",
   "execution_count": 39,
   "metadata": {},
   "outputs": [],
   "source": [
    "X_train.to_csv('train_data_rescaled.csv')"
   ]
  },
  {
   "cell_type": "code",
   "execution_count": 40,
   "metadata": {},
   "outputs": [],
   "source": [
    "y_train = train_data.loan_status\n",
    "y_train.to_csv('y_train.csv')"
   ]
  },
  {
   "cell_type": "markdown",
   "metadata": {},
   "source": [
    "## 1.7 Preprocessing of test data for later analysis "
   ]
  },
  {
   "cell_type": "markdown",
   "metadata": {},
   "source": [
    "Note that although this section is part of the first notebook for practical reasons, the test data hasn't been touched before model evaluation. \n",
    "\n",
    "Before we apply our best model to the test data, we need to prepare the data analogously to the training data: \n",
    "* Handle missing values\n",
    "* Make sure only our selected features are in the dataframe\n",
    "* Rescale the data using the train set scaler. "
   ]
  },
  {
   "cell_type": "code",
   "execution_count": 41,
   "metadata": {},
   "outputs": [],
   "source": [
    "#Re-establish missing data which were temporarily replaced by impossible values for the train test split. \n",
    "test_data.replace('?', np.nan, inplace = True)\n",
    "test_data.replace(-9999, np.nan, inplace = True)"
   ]
  },
  {
   "cell_type": "code",
   "execution_count": 42,
   "metadata": {},
   "outputs": [
    {
     "data": {
      "text/plain": [
       "loan_amnt                1\n",
       "funded_amnt              1\n",
       "term                     1\n",
       "int_rate                 1\n",
       "installment              1\n",
       "grade                    1\n",
       "emp_length             350\n",
       "home_ownership           1\n",
       "annual_inc               1\n",
       "verification_status      1\n",
       "issue_d                  1\n",
       "purpose                  1\n",
       "addr_state               1\n",
       "dti                      1\n",
       "delinq_2yrs              1\n",
       "inq_last_6mths           1\n",
       "open_acc                 1\n",
       "pub_rec                  1\n",
       "revol_bal                1\n",
       "revol_util              11\n",
       "total_acc                1\n",
       "loan_status              1\n",
       "dtype: int64"
      ]
     },
     "execution_count": 42,
     "metadata": {},
     "output_type": "execute_result"
    }
   ],
   "source": [
    "#Missing data with occurences < 100 will be dropped.\n",
    "test_data.isna().sum()"
   ]
  },
  {
   "cell_type": "code",
   "execution_count": 43,
   "metadata": {},
   "outputs": [],
   "source": [
    "test_data.dropna(subset = ['loan_amnt', 'funded_amnt', 'term', 'int_rate', 'installment', 'grade',\n",
    "       'home_ownership', 'annual_inc', 'verification_status',\n",
    "       'issue_d', 'purpose', 'addr_state', 'dti', 'delinq_2yrs',\n",
    "       'inq_last_6mths', 'open_acc', 'pub_rec', 'revol_bal', 'revol_util',\n",
    "       'total_acc', 'loan_status'], inplace = True);"
   ]
  },
  {
   "cell_type": "code",
   "execution_count": 44,
   "metadata": {},
   "outputs": [],
   "source": [
    "#Replace missing values in emp_length\n",
    "test_data.emp_length.fillna('unknown', inplace = True)"
   ]
  },
  {
   "cell_type": "code",
   "execution_count": 45,
   "metadata": {},
   "outputs": [],
   "source": [
    "test_data.to_csv('test_data.csv')"
   ]
  },
  {
   "cell_type": "code",
   "execution_count": 46,
   "metadata": {},
   "outputs": [
    {
     "data": {
      "text/plain": [
       "1.0    10425\n",
       "0.0     1761\n",
       "Name: loan_status, dtype: int64"
      ]
     },
     "execution_count": 46,
     "metadata": {},
     "output_type": "execute_result"
    }
   ],
   "source": [
    "y_test = pd.DataFrame(test_data.loan_status)\n",
    "X_test = pd.DataFrame(test_data)\n",
    "X_test.drop('loan_status', axis = 1, inplace = True)\n",
    "y_test.loan_status.value_counts()"
   ]
  },
  {
   "cell_type": "code",
   "execution_count": 47,
   "metadata": {},
   "outputs": [],
   "source": [
    "#Divide numerical and categorical data\n",
    "X_test_num = X_test.copy().select_dtypes('number')\n",
    "X_test_num['term'] = X_test.term.copy()\n",
    "\n",
    "X_test_cat = pd.get_dummies(X_test[['emp_length', 'home_ownership',\n",
    "       'verification_status',  'purpose', 'addr_state']], drop_first = True)"
   ]
  },
  {
   "cell_type": "code",
   "execution_count": 48,
   "metadata": {},
   "outputs": [],
   "source": [
    "from sklearn.preprocessing import RobustScaler\n",
    "from sklearn_pandas import DataFrameMapper\n",
    "mapper = DataFrameMapper([(X_test_num.columns, RobustScaler())])\n",
    "mapper.fit(X_train_num.copy(), 4)\n",
    "scaled_test = mapper.transform(X_test_num.copy())\n",
    "X_t = pd.DataFrame(scaled_test, index=X_test_num.index, columns=X_test_num.columns)"
   ]
  },
  {
   "cell_type": "code",
   "execution_count": 49,
   "metadata": {},
   "outputs": [],
   "source": [
    "X_test = pd.concat([X_t, X_test_cat], axis = 1)"
   ]
  },
  {
   "cell_type": "code",
   "execution_count": 50,
   "metadata": {},
   "outputs": [],
   "source": [
    "X_test_10 = X_test[['funded_amnt', 'int_rate', 'installment', 'grade', 'annual_inc', 'dti',\n",
    "       'inq_last_6mths', 'open_acc', 'revol_util', 'total_acc']].copy()"
   ]
  },
  {
   "cell_type": "code",
   "execution_count": 51,
   "metadata": {},
   "outputs": [
    {
     "data": {
      "text/html": [
       "<div>\n",
       "<style scoped>\n",
       "    .dataframe tbody tr th:only-of-type {\n",
       "        vertical-align: middle;\n",
       "    }\n",
       "\n",
       "    .dataframe tbody tr th {\n",
       "        vertical-align: top;\n",
       "    }\n",
       "\n",
       "    .dataframe thead th {\n",
       "        text-align: right;\n",
       "    }\n",
       "</style>\n",
       "<table border=\"1\" class=\"dataframe\">\n",
       "  <thead>\n",
       "    <tr style=\"text-align: right;\">\n",
       "      <th></th>\n",
       "      <th>funded_amnt</th>\n",
       "      <th>int_rate</th>\n",
       "      <th>installment</th>\n",
       "      <th>grade</th>\n",
       "      <th>annual_inc</th>\n",
       "      <th>dti</th>\n",
       "      <th>inq_last_6mths</th>\n",
       "      <th>open_acc</th>\n",
       "      <th>revol_util</th>\n",
       "      <th>total_acc</th>\n",
       "    </tr>\n",
       "  </thead>\n",
       "  <tbody>\n",
       "    <tr>\n",
       "      <th>0</th>\n",
       "      <td>0.857143</td>\n",
       "      <td>-0.347826</td>\n",
       "      <td>1.162058</td>\n",
       "      <td>0.0</td>\n",
       "      <td>-0.1749</td>\n",
       "      <td>0.778846</td>\n",
       "      <td>0.0</td>\n",
       "      <td>1.500000</td>\n",
       "      <td>-0.559829</td>\n",
       "      <td>0.466667</td>\n",
       "    </tr>\n",
       "    <tr>\n",
       "      <th>1</th>\n",
       "      <td>0.244898</td>\n",
       "      <td>0.755435</td>\n",
       "      <td>0.552085</td>\n",
       "      <td>1.5</td>\n",
       "      <td>-0.1998</td>\n",
       "      <td>-0.201923</td>\n",
       "      <td>1.0</td>\n",
       "      <td>0.833333</td>\n",
       "      <td>0.380342</td>\n",
       "      <td>-0.200000</td>\n",
       "    </tr>\n",
       "    <tr>\n",
       "      <th>2</th>\n",
       "      <td>-0.163265</td>\n",
       "      <td>0.557971</td>\n",
       "      <td>-0.342435</td>\n",
       "      <td>1.0</td>\n",
       "      <td>-0.4955</td>\n",
       "      <td>0.848077</td>\n",
       "      <td>1.0</td>\n",
       "      <td>0.833333</td>\n",
       "      <td>-0.288462</td>\n",
       "      <td>1.866667</td>\n",
       "    </tr>\n",
       "    <tr>\n",
       "      <th>3</th>\n",
       "      <td>-0.214286</td>\n",
       "      <td>0.641304</td>\n",
       "      <td>-0.067068</td>\n",
       "      <td>1.0</td>\n",
       "      <td>-0.5748</td>\n",
       "      <td>1.075000</td>\n",
       "      <td>0.0</td>\n",
       "      <td>-0.333333</td>\n",
       "      <td>-0.232906</td>\n",
       "      <td>-0.933333</td>\n",
       "    </tr>\n",
       "    <tr>\n",
       "      <th>4</th>\n",
       "      <td>0.000000</td>\n",
       "      <td>0.028986</td>\n",
       "      <td>0.154576</td>\n",
       "      <td>0.0</td>\n",
       "      <td>0.4251</td>\n",
       "      <td>0.905769</td>\n",
       "      <td>0.0</td>\n",
       "      <td>0.666667</td>\n",
       "      <td>-0.185897</td>\n",
       "      <td>1.800000</td>\n",
       "    </tr>\n",
       "  </tbody>\n",
       "</table>\n",
       "</div>"
      ],
      "text/plain": [
       "   funded_amnt  int_rate  installment  grade  annual_inc       dti  \\\n",
       "0     0.857143 -0.347826     1.162058    0.0     -0.1749  0.778846   \n",
       "1     0.244898  0.755435     0.552085    1.5     -0.1998 -0.201923   \n",
       "2    -0.163265  0.557971    -0.342435    1.0     -0.4955  0.848077   \n",
       "3    -0.214286  0.641304    -0.067068    1.0     -0.5748  1.075000   \n",
       "4     0.000000  0.028986     0.154576    0.0      0.4251  0.905769   \n",
       "\n",
       "   inq_last_6mths  open_acc  revol_util  total_acc  \n",
       "0             0.0  1.500000   -0.559829   0.466667  \n",
       "1             1.0  0.833333    0.380342  -0.200000  \n",
       "2             1.0  0.833333   -0.288462   1.866667  \n",
       "3             0.0 -0.333333   -0.232906  -0.933333  \n",
       "4             0.0  0.666667   -0.185897   1.800000  "
      ]
     },
     "execution_count": 51,
     "metadata": {},
     "output_type": "execute_result"
    }
   ],
   "source": [
    "X_test_10.head()"
   ]
  },
  {
   "cell_type": "code",
   "execution_count": 52,
   "metadata": {},
   "outputs": [],
   "source": [
    "X_test_10.to_csv('x_test_10.csv')"
   ]
  },
  {
   "cell_type": "code",
   "execution_count": 53,
   "metadata": {},
   "outputs": [],
   "source": [
    "y_test.to_csv('y_test.csv')"
   ]
  }
 ],
 "metadata": {
  "kernelspec": {
   "display_name": "Python 3",
   "language": "python",
   "name": "python3"
  },
  "language_info": {
   "codemirror_mode": {
    "name": "ipython",
    "version": 3
   },
   "file_extension": ".py",
   "mimetype": "text/x-python",
   "name": "python",
   "nbconvert_exporter": "python",
   "pygments_lexer": "ipython3",
   "version": "3.6.10"
  }
 },
 "nbformat": 4,
 "nbformat_minor": 4
}
