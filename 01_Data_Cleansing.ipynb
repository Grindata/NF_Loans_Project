{
 "cells": [
  {
   "cell_type": "markdown",
   "metadata": {},
   "source": [
    "##### Lending Club Data Project"
   ]
  },
  {
   "cell_type": "markdown",
   "metadata": {},
   "source": [
    "# 01 Data Cleansing"
   ]
  },
  {
   "cell_type": "code",
   "execution_count": 1,
   "metadata": {},
   "outputs": [],
   "source": [
    "reset -fs"
   ]
  },
  {
   "cell_type": "markdown",
   "metadata": {},
   "source": [
    "## 01.01 Variable Descriptions"
   ]
  },
  {
   "cell_type": "markdown",
   "metadata": {},
   "source": [
    "| variable                   | description                                                                                                                                                                                              |\n",
    "|----------------------------|----------------------------------------------------------------------------------------------------------------------------------------------------------------------------------------------------------|\n",
    "| acc_now_delinq             | The number of accounts on which the borrower is now delinquent.                                                                                                                                          |\n",
    "| addr_state                 | state provided by the borrower in the loan application                                                                                                                                                   |\n",
    "| annual_inc                 | self-reported annual income provided by the borrower during registration                                                                                                                                 |\n",
    "| application_type           | indicates whether the loan is an individual application or a joint application with two co-borrowers                                                                                                     |\n",
    "| chargeoff_within_12_mths   | number of charge-offs within 12 months.                                                                                                                                                                  |\n",
    "| collection_recovery_fee    | post charge off collection fee                                                                                                                                                                           |\n",
    "| collections_12_mths_ex_med | Number of collections in 12 months excluding medical collections                                                                                                                                         |\n",
    "| delinq_amnt                | amount the borrower is now delinquent                                                                                                                                                                    |\n",
    "| delinq_2yrs                | delinquency in the borrower's credit file for the past 2 years                                                                                                                                           |\n",
    "| dti                        | A ratio calculated using the borrower’s total monthly debt payments on the total debt obligations, excluding mortgage and the requested LC loan, divided by the borrower’s self-reported monthly income. |\n",
    "| earliest_cr_line           | The month the borrower's earliest reported credit line was opened                                                                                                                                        |\n",
    "| emp_length                 | Employment length in years. Possible values are between 0 and 10 where 0 means less than one year and 10 means ten or more years.                                                                        |\n",
    "| emp_title                  | The job title supplied by the Borrower when applying for the loan.*                                                                                                                                      |\n",
    "| funded_amnt                | The total amount committed to that loan at that point in time.                                                                                                                                           |\n",
    "| funded_amnt_inv            | The total amount committed by investors for that loan at that point in time.                                                                                                                             |\n",
    "| grade                      | LC assigned loan grade                                                                                                                                                                                   |\n",
    "| home_ownership             | The home ownership status provided by the borrower during registration. Our values are: RENT, OWN, MORTGAGE, OTHER.                                                                                      |\n",
    "| id                         | A unique LC assigned ID for the loan listing.                                                                                                                                                            |\n",
    "| initial_list_status        | The initial listing status of the loan. Possible values are – W, F                                                                                                                                       |\n",
    "| inq_last_6mths             | The number of inquiries in past 6 months (excluding auto and mortgage inquiries)                                                                                                                         |\n",
    "| installment                | The monthly payment owed by the borrower if the loan originates.                                                                                                                                         |\n",
    "| int_rate                   | Interest Rate on the loan                                                                                                                                                                                |\n",
    "| issue_d                    | The month which the loan was funded                                                                                                                                                                      |\n",
    "| last_credit_pull_d         | The most recent month LC pulled credit for this loan                                                                                                                                                     |\n",
    "| last_pymnt_amnt            | Last total payment amount received                                                                                                                                                                       |\n",
    "| last_pymnt_d               | Last month payment was received                                                                                                                                                                          |\n",
    "| loan_amnt                  | The listed amount of the loan applied for by the borrower. If at some point in time, the credit department reduces the loan amount, then it will be reflected in this value.                             |\n",
    "| loan_status                | Current status of the loan <br> * Fully Paid: Principal amount of loans that have been fully paid <br> * Current: Principal amount of loans that are in \"current\" or \"grace period\" status <br> * Late: Principal amount of loans that are 16+ days late but have not charged off <br> * Charged off (net): Total amount charged off net of any funds subsequently recovered. <br> Principal and interest payments received prior to charge off and recoveries made after charge off are not included here; they are included in the \"Principal Payments Received\" or \"Interest Payments Received\" columns. As a result, the fully paid, current, late, and charged off columns do not add up to 100% for the \"% of Issued dollars\" view.                                                                                                                                                                            |\n",
    "| member_id                  | A unique LC assigned Id for the borrower member.                                                                                                                                                         |\n",
    "| open_acc                   | The number of open credit lines in the borrower's credit file.                                                                                                                                           |\n",
    "| out_prncp                  | Remaining outstanding principal for total amount funded                                                                                                                                                  |\n",
    "| out_prncp_inv              | Remaining outstanding principal for portion of total amount funded by investors                                                                                                                          |\n",
    "| policy_code                | publicly available policy_code=1 new products not publicly available policy_code=2                                                                                                                       |\n",
    "| pub_rec                    | Number of derogatory public records                                                                                                                                                                      |\n",
    "| pub_rec_bankruptcies       | Number of derogatory public records of bankruptcies                                                                                                                                                                      |\n",
    "| purpose                    | A category provided by the borrower for the loan request.                                                                                                                                                |\n",
    "| pymnt_plan                 | Indicates if a payment plan has been put in place for the loan                                                                                                                                           |\n",
    "| recoveries                 | post charge off gross recovery                                                                                                                                                                           |\n",
    "| revol_bal                  | Total credit revolving balance                                                                                                                                                                           |\n",
    "| revol_util                 | Revolving line utilization rate, or the amount of credit the borrower is using relative to all available revolving credit.                                                                               |\n",
    "| sub_grade                  | LC assigned loan subgrade                                                                                                                                                                                |\n",
    "| tax_liens                  | Legal claim against the assets of an individual or business who fails to pay taxes owed to the government                                                                                                |\n",
    "| term                       | The number of payments on the loan. Values are in months and can be either 36 or 60.                                                                                                                     |\n",
    "| title                      | The loan title provided by the borrower                                                                                                                                                                  |\n",
    "| total_acc                  | The total number of credit lines currently in the borrower's credit file                                                                                                                                 |\n",
    "| total_pymnt                | Payments received to date for total amount funded                                                                                                                                                        |\n",
    "| total_pymnt_inv            | Payments received to date for portion of total amount funded by investors                                                                                                                                |\n",
    "| total_rec_int              | Interest received to date                                                                                                                                                                                |\n",
    "| total_rec_late_fee         | Late fees received to date                                                                                                                                                                               |\n",
    "| total_rec_prncp            | Principal received to date                                                                                                                                                                               |\n",
    "| verification status        | Indicates if the borrowers' income was verified by LC, not verified, or if the income source was verified                                                                                       |\n",
    "| zip_code                   | The first 3 numbers of the zip code provided by the borrower in the loan application.                                                                                                                    |"
   ]
  },
  {
   "cell_type": "markdown",
   "metadata": {},
   "source": [
    "## 01.02 Data Import"
   ]
  },
  {
   "cell_type": "code",
   "execution_count": 2,
   "metadata": {},
   "outputs": [],
   "source": [
    "import matplotlib.pyplot as plt\n",
    "%matplotlib inline\n",
    "\n",
    "import numpy as np\n",
    "import pandas as pd\n",
    "\n",
    "from scipy import stats\n",
    "import seaborn as sns\n",
    "import statsmodels.api as sms\n",
    "import statsmodels.formula.api as smf\n",
    "\n",
    "from sklearn.metrics.pairwise import euclidean_distances\n",
    "from sklearn.model_selection import train_test_split \n",
    "from sklearn.linear_model import LinearRegression\n",
    "from sklearn import metrics\n",
    "\n",
    "import re \n",
    "import math\n",
    "\n",
    "\n",
    "\n",
    "#import warnings\n",
    "#warnings.filterwarnings(\"ignore\")"
   ]
  },
  {
   "cell_type": "code",
   "execution_count": 3,
   "metadata": {},
   "outputs": [
    {
     "name": "stderr",
     "output_type": "stream",
     "text": [
      "/opt/anaconda3/lib/python3.8/site-packages/IPython/core/interactiveshell.py:3071: DtypeWarning: Columns (0) have mixed types.Specify dtype option on import or set low_memory=False.\n",
      "  has_raised = await self.run_ast_nodes(code_ast.body, cell_name,\n"
     ]
    },
    {
     "data": {
      "text/html": [
       "<div>\n",
       "<style scoped>\n",
       "    .dataframe tbody tr th:only-of-type {\n",
       "        vertical-align: middle;\n",
       "    }\n",
       "\n",
       "    .dataframe tbody tr th {\n",
       "        vertical-align: top;\n",
       "    }\n",
       "\n",
       "    .dataframe thead th {\n",
       "        text-align: right;\n",
       "    }\n",
       "</style>\n",
       "<table border=\"1\" class=\"dataframe\">\n",
       "  <thead>\n",
       "    <tr style=\"text-align: right;\">\n",
       "      <th></th>\n",
       "      <th>id</th>\n",
       "      <th>member_id</th>\n",
       "      <th>loan_amnt</th>\n",
       "      <th>funded_amnt</th>\n",
       "      <th>funded_amnt_inv</th>\n",
       "      <th>term</th>\n",
       "      <th>int_rate</th>\n",
       "      <th>installment</th>\n",
       "      <th>grade</th>\n",
       "      <th>sub_grade</th>\n",
       "      <th>emp_title</th>\n",
       "      <th>emp_length</th>\n",
       "      <th>home_ownership</th>\n",
       "      <th>annual_inc</th>\n",
       "      <th>verification_status</th>\n",
       "      <th>issue_d</th>\n",
       "      <th>loan_status</th>\n",
       "      <th>pymnt_plan</th>\n",
       "      <th>purpose</th>\n",
       "      <th>title</th>\n",
       "      <th>zip_code</th>\n",
       "      <th>addr_state</th>\n",
       "      <th>dti</th>\n",
       "      <th>delinq_2yrs</th>\n",
       "      <th>earliest_cr_line</th>\n",
       "      <th>inq_last_6mths</th>\n",
       "      <th>open_acc</th>\n",
       "      <th>pub_rec</th>\n",
       "      <th>revol_bal</th>\n",
       "      <th>revol_util</th>\n",
       "      <th>total_acc</th>\n",
       "      <th>initial_list_status</th>\n",
       "      <th>out_prncp</th>\n",
       "      <th>out_prncp_inv</th>\n",
       "      <th>total_pymnt</th>\n",
       "      <th>total_pymnt_inv</th>\n",
       "      <th>total_rec_prncp</th>\n",
       "      <th>total_rec_int</th>\n",
       "      <th>total_rec_late_fee</th>\n",
       "      <th>recoveries</th>\n",
       "      <th>collection_recovery_fee</th>\n",
       "      <th>last_pymnt_d</th>\n",
       "      <th>last_pymnt_amnt</th>\n",
       "      <th>last_credit_pull_d</th>\n",
       "      <th>collections_12_mths_ex_med</th>\n",
       "      <th>policy_code</th>\n",
       "      <th>application_type</th>\n",
       "      <th>acc_now_delinq</th>\n",
       "      <th>chargeoff_within_12_mths</th>\n",
       "      <th>delinq_amnt</th>\n",
       "      <th>pub_rec_bankruptcies</th>\n",
       "      <th>tax_liens</th>\n",
       "    </tr>\n",
       "  </thead>\n",
       "  <tbody>\n",
       "    <tr>\n",
       "      <th>0</th>\n",
       "      <td>1077501</td>\n",
       "      <td>1296599.0</td>\n",
       "      <td>5000.0</td>\n",
       "      <td>5000.0</td>\n",
       "      <td>4975.0</td>\n",
       "      <td>36 months</td>\n",
       "      <td>10.65%</td>\n",
       "      <td>162.87</td>\n",
       "      <td>B</td>\n",
       "      <td>B2</td>\n",
       "      <td>NaN</td>\n",
       "      <td>10+ years</td>\n",
       "      <td>RENT</td>\n",
       "      <td>24000.0</td>\n",
       "      <td>Verified</td>\n",
       "      <td>Dec-2011</td>\n",
       "      <td>Fully Paid</td>\n",
       "      <td>n</td>\n",
       "      <td>credit_card</td>\n",
       "      <td>Computer</td>\n",
       "      <td>860xx</td>\n",
       "      <td>AZ</td>\n",
       "      <td>27.65</td>\n",
       "      <td>0.0</td>\n",
       "      <td>Jan-1985</td>\n",
       "      <td>1.0</td>\n",
       "      <td>3.0</td>\n",
       "      <td>0.0</td>\n",
       "      <td>13648.0</td>\n",
       "      <td>83.7%</td>\n",
       "      <td>9.0</td>\n",
       "      <td>f</td>\n",
       "      <td>0.00</td>\n",
       "      <td>0.00</td>\n",
       "      <td>5863.155187</td>\n",
       "      <td>5833.84</td>\n",
       "      <td>5000.00</td>\n",
       "      <td>863.16</td>\n",
       "      <td>0.00</td>\n",
       "      <td>0.00</td>\n",
       "      <td>0.00</td>\n",
       "      <td>Jan-2015</td>\n",
       "      <td>171.62</td>\n",
       "      <td>Jun-2016</td>\n",
       "      <td>0.0</td>\n",
       "      <td>1.0</td>\n",
       "      <td>INDIVIDUAL</td>\n",
       "      <td>0.0</td>\n",
       "      <td>0.0</td>\n",
       "      <td>0.0</td>\n",
       "      <td>0.0</td>\n",
       "      <td>0.0</td>\n",
       "    </tr>\n",
       "    <tr>\n",
       "      <th>1</th>\n",
       "      <td>1077430</td>\n",
       "      <td>1314167.0</td>\n",
       "      <td>2500.0</td>\n",
       "      <td>2500.0</td>\n",
       "      <td>2500.0</td>\n",
       "      <td>60 months</td>\n",
       "      <td>15.27%</td>\n",
       "      <td>59.83</td>\n",
       "      <td>C</td>\n",
       "      <td>C4</td>\n",
       "      <td>Ryder</td>\n",
       "      <td>&lt; 1 year</td>\n",
       "      <td>RENT</td>\n",
       "      <td>30000.0</td>\n",
       "      <td>Source Verified</td>\n",
       "      <td>Dec-2011</td>\n",
       "      <td>Charged Off</td>\n",
       "      <td>n</td>\n",
       "      <td>car</td>\n",
       "      <td>bike</td>\n",
       "      <td>309xx</td>\n",
       "      <td>GA</td>\n",
       "      <td>1.00</td>\n",
       "      <td>0.0</td>\n",
       "      <td>Apr-1999</td>\n",
       "      <td>5.0</td>\n",
       "      <td>3.0</td>\n",
       "      <td>0.0</td>\n",
       "      <td>1687.0</td>\n",
       "      <td>9.4%</td>\n",
       "      <td>4.0</td>\n",
       "      <td>f</td>\n",
       "      <td>0.00</td>\n",
       "      <td>0.00</td>\n",
       "      <td>1008.710000</td>\n",
       "      <td>1008.71</td>\n",
       "      <td>456.46</td>\n",
       "      <td>435.17</td>\n",
       "      <td>0.00</td>\n",
       "      <td>117.08</td>\n",
       "      <td>1.11</td>\n",
       "      <td>Apr-2013</td>\n",
       "      <td>119.66</td>\n",
       "      <td>Sep-2013</td>\n",
       "      <td>0.0</td>\n",
       "      <td>1.0</td>\n",
       "      <td>INDIVIDUAL</td>\n",
       "      <td>0.0</td>\n",
       "      <td>0.0</td>\n",
       "      <td>0.0</td>\n",
       "      <td>0.0</td>\n",
       "      <td>0.0</td>\n",
       "    </tr>\n",
       "    <tr>\n",
       "      <th>2</th>\n",
       "      <td>1077175</td>\n",
       "      <td>1313524.0</td>\n",
       "      <td>2400.0</td>\n",
       "      <td>2400.0</td>\n",
       "      <td>2400.0</td>\n",
       "      <td>36 months</td>\n",
       "      <td>15.96%</td>\n",
       "      <td>84.33</td>\n",
       "      <td>C</td>\n",
       "      <td>C5</td>\n",
       "      <td>NaN</td>\n",
       "      <td>10+ years</td>\n",
       "      <td>RENT</td>\n",
       "      <td>12252.0</td>\n",
       "      <td>Not Verified</td>\n",
       "      <td>Dec-2011</td>\n",
       "      <td>Fully Paid</td>\n",
       "      <td>n</td>\n",
       "      <td>small_business</td>\n",
       "      <td>real estate business</td>\n",
       "      <td>606xx</td>\n",
       "      <td>IL</td>\n",
       "      <td>8.72</td>\n",
       "      <td>0.0</td>\n",
       "      <td>Nov-2001</td>\n",
       "      <td>2.0</td>\n",
       "      <td>2.0</td>\n",
       "      <td>0.0</td>\n",
       "      <td>2956.0</td>\n",
       "      <td>98.5%</td>\n",
       "      <td>10.0</td>\n",
       "      <td>f</td>\n",
       "      <td>0.00</td>\n",
       "      <td>0.00</td>\n",
       "      <td>3005.666844</td>\n",
       "      <td>3005.67</td>\n",
       "      <td>2400.00</td>\n",
       "      <td>605.67</td>\n",
       "      <td>0.00</td>\n",
       "      <td>0.00</td>\n",
       "      <td>0.00</td>\n",
       "      <td>Jun-2014</td>\n",
       "      <td>649.91</td>\n",
       "      <td>Jun-2016</td>\n",
       "      <td>0.0</td>\n",
       "      <td>1.0</td>\n",
       "      <td>INDIVIDUAL</td>\n",
       "      <td>0.0</td>\n",
       "      <td>0.0</td>\n",
       "      <td>0.0</td>\n",
       "      <td>0.0</td>\n",
       "      <td>0.0</td>\n",
       "    </tr>\n",
       "    <tr>\n",
       "      <th>3</th>\n",
       "      <td>1076863</td>\n",
       "      <td>1277178.0</td>\n",
       "      <td>10000.0</td>\n",
       "      <td>10000.0</td>\n",
       "      <td>10000.0</td>\n",
       "      <td>36 months</td>\n",
       "      <td>13.49%</td>\n",
       "      <td>339.31</td>\n",
       "      <td>C</td>\n",
       "      <td>C1</td>\n",
       "      <td>AIR RESOURCES BOARD</td>\n",
       "      <td>10+ years</td>\n",
       "      <td>RENT</td>\n",
       "      <td>49200.0</td>\n",
       "      <td>Source Verified</td>\n",
       "      <td>Dec-2011</td>\n",
       "      <td>Fully Paid</td>\n",
       "      <td>n</td>\n",
       "      <td>other</td>\n",
       "      <td>personel</td>\n",
       "      <td>917xx</td>\n",
       "      <td>CA</td>\n",
       "      <td>20.00</td>\n",
       "      <td>0.0</td>\n",
       "      <td>Feb-1996</td>\n",
       "      <td>1.0</td>\n",
       "      <td>10.0</td>\n",
       "      <td>0.0</td>\n",
       "      <td>5598.0</td>\n",
       "      <td>21%</td>\n",
       "      <td>37.0</td>\n",
       "      <td>f</td>\n",
       "      <td>0.00</td>\n",
       "      <td>0.00</td>\n",
       "      <td>12231.890000</td>\n",
       "      <td>12231.89</td>\n",
       "      <td>10000.00</td>\n",
       "      <td>2214.92</td>\n",
       "      <td>16.97</td>\n",
       "      <td>0.00</td>\n",
       "      <td>0.00</td>\n",
       "      <td>Jan-2015</td>\n",
       "      <td>357.48</td>\n",
       "      <td>Apr-2016</td>\n",
       "      <td>0.0</td>\n",
       "      <td>1.0</td>\n",
       "      <td>INDIVIDUAL</td>\n",
       "      <td>0.0</td>\n",
       "      <td>0.0</td>\n",
       "      <td>0.0</td>\n",
       "      <td>0.0</td>\n",
       "      <td>0.0</td>\n",
       "    </tr>\n",
       "    <tr>\n",
       "      <th>4</th>\n",
       "      <td>1075358</td>\n",
       "      <td>1311748.0</td>\n",
       "      <td>3000.0</td>\n",
       "      <td>3000.0</td>\n",
       "      <td>3000.0</td>\n",
       "      <td>60 months</td>\n",
       "      <td>12.69%</td>\n",
       "      <td>67.79</td>\n",
       "      <td>B</td>\n",
       "      <td>B5</td>\n",
       "      <td>University Medical Group</td>\n",
       "      <td>1 year</td>\n",
       "      <td>RENT</td>\n",
       "      <td>80000.0</td>\n",
       "      <td>Source Verified</td>\n",
       "      <td>Dec-2011</td>\n",
       "      <td>Current</td>\n",
       "      <td>n</td>\n",
       "      <td>other</td>\n",
       "      <td>Personal</td>\n",
       "      <td>972xx</td>\n",
       "      <td>OR</td>\n",
       "      <td>17.94</td>\n",
       "      <td>0.0</td>\n",
       "      <td>Jan-1996</td>\n",
       "      <td>0.0</td>\n",
       "      <td>15.0</td>\n",
       "      <td>0.0</td>\n",
       "      <td>27783.0</td>\n",
       "      <td>53.9%</td>\n",
       "      <td>38.0</td>\n",
       "      <td>f</td>\n",
       "      <td>461.73</td>\n",
       "      <td>461.73</td>\n",
       "      <td>3581.120000</td>\n",
       "      <td>3581.12</td>\n",
       "      <td>2538.27</td>\n",
       "      <td>1042.85</td>\n",
       "      <td>0.00</td>\n",
       "      <td>0.00</td>\n",
       "      <td>0.00</td>\n",
       "      <td>Jun-2016</td>\n",
       "      <td>67.79</td>\n",
       "      <td>Jun-2016</td>\n",
       "      <td>0.0</td>\n",
       "      <td>1.0</td>\n",
       "      <td>INDIVIDUAL</td>\n",
       "      <td>0.0</td>\n",
       "      <td>0.0</td>\n",
       "      <td>0.0</td>\n",
       "      <td>0.0</td>\n",
       "      <td>0.0</td>\n",
       "    </tr>\n",
       "  </tbody>\n",
       "</table>\n",
       "</div>"
      ],
      "text/plain": [
       "        id  member_id  loan_amnt  funded_amnt  funded_amnt_inv        term  \\\n",
       "0  1077501  1296599.0     5000.0       5000.0           4975.0   36 months   \n",
       "1  1077430  1314167.0     2500.0       2500.0           2500.0   60 months   \n",
       "2  1077175  1313524.0     2400.0       2400.0           2400.0   36 months   \n",
       "3  1076863  1277178.0    10000.0      10000.0          10000.0   36 months   \n",
       "4  1075358  1311748.0     3000.0       3000.0           3000.0   60 months   \n",
       "\n",
       "  int_rate  installment grade sub_grade                 emp_title emp_length  \\\n",
       "0   10.65%       162.87     B        B2                       NaN  10+ years   \n",
       "1   15.27%        59.83     C        C4                     Ryder   < 1 year   \n",
       "2   15.96%        84.33     C        C5                       NaN  10+ years   \n",
       "3   13.49%       339.31     C        C1       AIR RESOURCES BOARD  10+ years   \n",
       "4   12.69%        67.79     B        B5  University Medical Group     1 year   \n",
       "\n",
       "  home_ownership  annual_inc verification_status   issue_d  loan_status  \\\n",
       "0           RENT     24000.0            Verified  Dec-2011   Fully Paid   \n",
       "1           RENT     30000.0     Source Verified  Dec-2011  Charged Off   \n",
       "2           RENT     12252.0        Not Verified  Dec-2011   Fully Paid   \n",
       "3           RENT     49200.0     Source Verified  Dec-2011   Fully Paid   \n",
       "4           RENT     80000.0     Source Verified  Dec-2011      Current   \n",
       "\n",
       "  pymnt_plan         purpose                 title zip_code addr_state    dti  \\\n",
       "0          n     credit_card              Computer    860xx         AZ  27.65   \n",
       "1          n             car                  bike    309xx         GA   1.00   \n",
       "2          n  small_business  real estate business    606xx         IL   8.72   \n",
       "3          n           other              personel    917xx         CA  20.00   \n",
       "4          n           other              Personal    972xx         OR  17.94   \n",
       "\n",
       "   delinq_2yrs earliest_cr_line  inq_last_6mths  open_acc  pub_rec  revol_bal  \\\n",
       "0          0.0         Jan-1985             1.0       3.0      0.0    13648.0   \n",
       "1          0.0         Apr-1999             5.0       3.0      0.0     1687.0   \n",
       "2          0.0         Nov-2001             2.0       2.0      0.0     2956.0   \n",
       "3          0.0         Feb-1996             1.0      10.0      0.0     5598.0   \n",
       "4          0.0         Jan-1996             0.0      15.0      0.0    27783.0   \n",
       "\n",
       "  revol_util  total_acc initial_list_status  out_prncp  out_prncp_inv  \\\n",
       "0      83.7%        9.0                   f       0.00           0.00   \n",
       "1       9.4%        4.0                   f       0.00           0.00   \n",
       "2      98.5%       10.0                   f       0.00           0.00   \n",
       "3        21%       37.0                   f       0.00           0.00   \n",
       "4      53.9%       38.0                   f     461.73         461.73   \n",
       "\n",
       "    total_pymnt  total_pymnt_inv  total_rec_prncp  total_rec_int  \\\n",
       "0   5863.155187          5833.84          5000.00         863.16   \n",
       "1   1008.710000          1008.71           456.46         435.17   \n",
       "2   3005.666844          3005.67          2400.00         605.67   \n",
       "3  12231.890000         12231.89         10000.00        2214.92   \n",
       "4   3581.120000          3581.12          2538.27        1042.85   \n",
       "\n",
       "   total_rec_late_fee  recoveries  collection_recovery_fee last_pymnt_d  \\\n",
       "0                0.00        0.00                     0.00     Jan-2015   \n",
       "1                0.00      117.08                     1.11     Apr-2013   \n",
       "2                0.00        0.00                     0.00     Jun-2014   \n",
       "3               16.97        0.00                     0.00     Jan-2015   \n",
       "4                0.00        0.00                     0.00     Jun-2016   \n",
       "\n",
       "   last_pymnt_amnt last_credit_pull_d  collections_12_mths_ex_med  \\\n",
       "0           171.62           Jun-2016                         0.0   \n",
       "1           119.66           Sep-2013                         0.0   \n",
       "2           649.91           Jun-2016                         0.0   \n",
       "3           357.48           Apr-2016                         0.0   \n",
       "4            67.79           Jun-2016                         0.0   \n",
       "\n",
       "   policy_code application_type  acc_now_delinq  chargeoff_within_12_mths  \\\n",
       "0          1.0       INDIVIDUAL             0.0                       0.0   \n",
       "1          1.0       INDIVIDUAL             0.0                       0.0   \n",
       "2          1.0       INDIVIDUAL             0.0                       0.0   \n",
       "3          1.0       INDIVIDUAL             0.0                       0.0   \n",
       "4          1.0       INDIVIDUAL             0.0                       0.0   \n",
       "\n",
       "   delinq_amnt  pub_rec_bankruptcies  tax_liens  \n",
       "0          0.0                   0.0        0.0  \n",
       "1          0.0                   0.0        0.0  \n",
       "2          0.0                   0.0        0.0  \n",
       "3          0.0                   0.0        0.0  \n",
       "4          0.0                   0.0        0.0  "
      ]
     },
     "execution_count": 3,
     "metadata": {},
     "output_type": "execute_result"
    }
   ],
   "source": [
    "loans_total = pd.read_csv(\"loans_2007.csv\" )\n",
    "pd.set_option(\"display.max_columns\", None)\n",
    "loans_total.head()"
   ]
  },
  {
   "cell_type": "code",
   "execution_count": 4,
   "metadata": {},
   "outputs": [
    {
     "data": {
      "text/plain": [
       "(42538, 52)"
      ]
     },
     "execution_count": 4,
     "metadata": {},
     "output_type": "execute_result"
    }
   ],
   "source": [
    "loans_total.shape"
   ]
  },
  {
   "cell_type": "markdown",
   "metadata": {},
   "source": [
    "## 01.03 Check data types and delete varliables not needed at first sight"
   ]
  },
  {
   "cell_type": "code",
   "execution_count": 5,
   "metadata": {},
   "outputs": [],
   "source": [
    "#id and member id are dropped since they have no predictive value\n",
    "loans_total.drop('id', axis = 1, inplace = True);\n",
    "loans_total.drop('member_id', axis = 1, inplace = True);"
   ]
  },
  {
   "cell_type": "markdown",
   "metadata": {},
   "source": [
    "Checking if the object variables' datatypes need to be changed."
   ]
  },
  {
   "cell_type": "code",
   "execution_count": 6,
   "metadata": {},
   "outputs": [
    {
     "name": "stdout",
     "output_type": "stream",
     "text": [
      "<class 'pandas.core.frame.DataFrame'>\n",
      "RangeIndex: 42538 entries, 0 to 42537\n",
      "Data columns (total 21 columns):\n",
      " #   Column               Non-Null Count  Dtype \n",
      "---  ------               --------------  ----- \n",
      " 0   term                 42535 non-null  object\n",
      " 1   int_rate             42535 non-null  object\n",
      " 2   grade                42535 non-null  object\n",
      " 3   sub_grade            42535 non-null  object\n",
      " 4   emp_title            39909 non-null  object\n",
      " 5   emp_length           41423 non-null  object\n",
      " 6   home_ownership       42535 non-null  object\n",
      " 7   verification_status  42535 non-null  object\n",
      " 8   issue_d              42535 non-null  object\n",
      " 9   loan_status          42535 non-null  object\n",
      " 10  pymnt_plan           42535 non-null  object\n",
      " 11  purpose              42535 non-null  object\n",
      " 12  title                42522 non-null  object\n",
      " 13  zip_code             42535 non-null  object\n",
      " 14  addr_state           42535 non-null  object\n",
      " 15  earliest_cr_line     42506 non-null  object\n",
      " 16  revol_util           42445 non-null  object\n",
      " 17  initial_list_status  42535 non-null  object\n",
      " 18  last_pymnt_d         42452 non-null  object\n",
      " 19  last_credit_pull_d   42531 non-null  object\n",
      " 20  application_type     42535 non-null  object\n",
      "dtypes: object(21)\n",
      "memory usage: 6.8+ MB\n"
     ]
    }
   ],
   "source": [
    "loans_total.select_dtypes('object').info()"
   ]
  },
  {
   "cell_type": "markdown",
   "metadata": {},
   "source": [
    "These changes will be executed:\n",
    "* change to float:\n",
    "    * revol_util\n",
    "    * int_rate\n",
    "* change to date:\n",
    "    * issue_d\n",
    "    * earliest_cr_line\n",
    "    * last_pymnt_d\n",
    "    * last_credit_pull_d\n",
    "* drop from dataset, because only one value\n",
    "    * pymnt_plan\n",
    "    * initial_list_status\n",
    "    * application_type\n",
    "* drop subgrade for group sizes are small and it is highly redundant (--> grade)"
   ]
  },
  {
   "cell_type": "code",
   "execution_count": 7,
   "metadata": {},
   "outputs": [],
   "source": [
    "loans_total.int_rate = loans_total.int_rate.str.replace(\"%\",\"\")\n",
    "loans_total.int_rate = loans_total.int_rate.astype(float)\n",
    "loans_total.int_rate = (loans_total.int_rate)/100\n",
    "loans_total.revol_util = loans_total.revol_util.str.replace(\"%\",\"\")\n",
    "loans_total.revol_util = loans_total.revol_util.astype(float)\n",
    "loans_total.revol_util = (loans_total.revol_util)/100"
   ]
  },
  {
   "cell_type": "markdown",
   "metadata": {},
   "source": [
    "The following variables will be dropped from the dataset since they have no predictive value for the target variable or are redundant or do not have distinct values in the dataset."
   ]
  },
  {
   "cell_type": "code",
   "execution_count": 9,
   "metadata": {},
   "outputs": [],
   "source": [
    "loans_total.drop([\"pymnt_plan\", \"initial_list_status\", \"application_type\", 'recoveries', 'sub_grade', 'emp_title', 'last_credit_pull_d', 'zip_code', 'policy_code', 'pub_rec_bankruptcies', 'tax_liens', 'earliest_cr_line',  ], axis=1, inplace=True)\n",
    "loans_total.drop(\"acc_now_delinq\", axis = 1, inplace = True);\n",
    "loans_total.drop(\"chargeoff_within_12_mths\", axis = 1, inplace = True);\n",
    "loans_total.drop(\"delinq_amnt\", axis = 1, inplace = True);"
   ]
  },
  {
   "cell_type": "code",
   "execution_count": 10,
   "metadata": {},
   "outputs": [
    {
     "data": {
      "text/plain": [
       "(42538, 38)"
      ]
     },
     "execution_count": 10,
     "metadata": {},
     "output_type": "execute_result"
    }
   ],
   "source": [
    "loans_total.shape"
   ]
  },
  {
   "cell_type": "code",
   "execution_count": 13,
   "metadata": {},
   "outputs": [],
   "source": [
    "from datetime import datetime\n",
    "loans_total.issue_d = pd.to_datetime(loans_total.issue_d)\n",
    "loans_total.last_pymnt_d = pd.to_datetime(loans_total.last_pymnt_d)"
   ]
  },
  {
   "cell_type": "code",
   "execution_count": 14,
   "metadata": {},
   "outputs": [
    {
     "name": "stdout",
     "output_type": "stream",
     "text": [
      "<class 'pandas.core.frame.DataFrame'>\n",
      "RangeIndex: 42538 entries, 0 to 42537\n",
      "Data columns (total 9 columns):\n",
      " #   Column               Non-Null Count  Dtype \n",
      "---  ------               --------------  ----- \n",
      " 0   term                 42535 non-null  object\n",
      " 1   grade                42535 non-null  object\n",
      " 2   emp_length           41423 non-null  object\n",
      " 3   home_ownership       42535 non-null  object\n",
      " 4   verification_status  42535 non-null  object\n",
      " 5   loan_status          42535 non-null  object\n",
      " 6   purpose              42535 non-null  object\n",
      " 7   title                42522 non-null  object\n",
      " 8   addr_state           42535 non-null  object\n",
      "dtypes: object(9)\n",
      "memory usage: 2.9+ MB\n"
     ]
    }
   ],
   "source": [
    "loans_total.select_dtypes('object').info()"
   ]
  },
  {
   "cell_type": "markdown",
   "metadata": {},
   "source": [
    "Let's have a look if frequencies in the target variable are balanced. "
   ]
  },
  {
   "cell_type": "code",
   "execution_count": 15,
   "metadata": {},
   "outputs": [
    {
     "data": {
      "text/plain": [
       "Fully Paid                                             33136\n",
       "Charged Off                                             5634\n",
       "Does not meet the credit policy. Status:Fully Paid      1988\n",
       "Current                                                  961\n",
       "Does not meet the credit policy. Status:Charged Off      761\n",
       "Late (31-120 days)                                        24\n",
       "In Grace Period                                           20\n",
       "Late (16-30 days)                                          8\n",
       "Default                                                    3\n",
       "Name: loan_status, dtype: int64"
      ]
     },
     "execution_count": 15,
     "metadata": {},
     "output_type": "execute_result"
    }
   ],
   "source": [
    "loans_total.loan_status.value_counts()"
   ]
  },
  {
   "cell_type": "code",
   "execution_count": 16,
   "metadata": {},
   "outputs": [],
   "source": [
    "# Drop three missing values in target variable in order to avoid problems in ther train test split. \n",
    "loans_total.loan_status.dropna();"
   ]
  },
  {
   "cell_type": "code",
   "execution_count": 17,
   "metadata": {},
   "outputs": [
    {
     "data": {
      "text/html": [
       "<div>\n",
       "<style scoped>\n",
       "    .dataframe tbody tr th:only-of-type {\n",
       "        vertical-align: middle;\n",
       "    }\n",
       "\n",
       "    .dataframe tbody tr th {\n",
       "        vertical-align: top;\n",
       "    }\n",
       "\n",
       "    .dataframe thead th {\n",
       "        text-align: right;\n",
       "    }\n",
       "</style>\n",
       "<table border=\"1\" class=\"dataframe\">\n",
       "  <thead>\n",
       "    <tr style=\"text-align: right;\">\n",
       "      <th></th>\n",
       "      <th>loan_amnt</th>\n",
       "      <th>funded_amnt</th>\n",
       "      <th>funded_amnt_inv</th>\n",
       "      <th>term</th>\n",
       "      <th>int_rate</th>\n",
       "      <th>installment</th>\n",
       "      <th>grade</th>\n",
       "      <th>emp_length</th>\n",
       "      <th>home_ownership</th>\n",
       "      <th>annual_inc</th>\n",
       "      <th>verification_status</th>\n",
       "      <th>issue_d</th>\n",
       "      <th>loan_status</th>\n",
       "      <th>purpose</th>\n",
       "      <th>title</th>\n",
       "      <th>addr_state</th>\n",
       "      <th>dti</th>\n",
       "      <th>delinq_2yrs</th>\n",
       "      <th>inq_last_6mths</th>\n",
       "      <th>open_acc</th>\n",
       "      <th>pub_rec</th>\n",
       "      <th>revol_bal</th>\n",
       "      <th>revol_util</th>\n",
       "      <th>total_acc</th>\n",
       "      <th>out_prncp</th>\n",
       "      <th>out_prncp_inv</th>\n",
       "      <th>total_pymnt</th>\n",
       "      <th>total_pymnt_inv</th>\n",
       "      <th>total_rec_prncp</th>\n",
       "      <th>total_rec_int</th>\n",
       "      <th>total_rec_late_fee</th>\n",
       "      <th>collection_recovery_fee</th>\n",
       "      <th>last_pymnt_d</th>\n",
       "      <th>last_pymnt_amnt</th>\n",
       "      <th>collections_12_mths_ex_med</th>\n",
       "      <th>acc_now_delinq</th>\n",
       "      <th>chargeoff_within_12_mths</th>\n",
       "      <th>delinq_amnt</th>\n",
       "    </tr>\n",
       "  </thead>\n",
       "  <tbody>\n",
       "    <tr>\n",
       "      <th>0</th>\n",
       "      <td>5000.0</td>\n",
       "      <td>5000.0</td>\n",
       "      <td>4975.0</td>\n",
       "      <td>36 months</td>\n",
       "      <td>0.1065</td>\n",
       "      <td>162.87</td>\n",
       "      <td>B</td>\n",
       "      <td>10+ years</td>\n",
       "      <td>RENT</td>\n",
       "      <td>24000.0</td>\n",
       "      <td>Verified</td>\n",
       "      <td>2011-12-01</td>\n",
       "      <td>Fully Paid</td>\n",
       "      <td>credit_card</td>\n",
       "      <td>Computer</td>\n",
       "      <td>AZ</td>\n",
       "      <td>27.65</td>\n",
       "      <td>0.0</td>\n",
       "      <td>1.0</td>\n",
       "      <td>3.0</td>\n",
       "      <td>0.0</td>\n",
       "      <td>13648.0</td>\n",
       "      <td>0.837</td>\n",
       "      <td>9.0</td>\n",
       "      <td>0.0</td>\n",
       "      <td>0.0</td>\n",
       "      <td>5863.155187</td>\n",
       "      <td>5833.84</td>\n",
       "      <td>5000.00</td>\n",
       "      <td>863.16</td>\n",
       "      <td>0.0</td>\n",
       "      <td>0.00</td>\n",
       "      <td>2015-01-01</td>\n",
       "      <td>171.62</td>\n",
       "      <td>0.0</td>\n",
       "      <td>0.0</td>\n",
       "      <td>0.0</td>\n",
       "      <td>0.0</td>\n",
       "    </tr>\n",
       "    <tr>\n",
       "      <th>1</th>\n",
       "      <td>2500.0</td>\n",
       "      <td>2500.0</td>\n",
       "      <td>2500.0</td>\n",
       "      <td>60 months</td>\n",
       "      <td>0.1527</td>\n",
       "      <td>59.83</td>\n",
       "      <td>C</td>\n",
       "      <td>&lt; 1 year</td>\n",
       "      <td>RENT</td>\n",
       "      <td>30000.0</td>\n",
       "      <td>Source Verified</td>\n",
       "      <td>2011-12-01</td>\n",
       "      <td>Charged Off</td>\n",
       "      <td>car</td>\n",
       "      <td>bike</td>\n",
       "      <td>GA</td>\n",
       "      <td>1.00</td>\n",
       "      <td>0.0</td>\n",
       "      <td>5.0</td>\n",
       "      <td>3.0</td>\n",
       "      <td>0.0</td>\n",
       "      <td>1687.0</td>\n",
       "      <td>0.094</td>\n",
       "      <td>4.0</td>\n",
       "      <td>0.0</td>\n",
       "      <td>0.0</td>\n",
       "      <td>1008.710000</td>\n",
       "      <td>1008.71</td>\n",
       "      <td>456.46</td>\n",
       "      <td>435.17</td>\n",
       "      <td>0.0</td>\n",
       "      <td>1.11</td>\n",
       "      <td>2013-04-01</td>\n",
       "      <td>119.66</td>\n",
       "      <td>0.0</td>\n",
       "      <td>0.0</td>\n",
       "      <td>0.0</td>\n",
       "      <td>0.0</td>\n",
       "    </tr>\n",
       "  </tbody>\n",
       "</table>\n",
       "</div>"
      ],
      "text/plain": [
       "   loan_amnt  funded_amnt  funded_amnt_inv        term  int_rate  installment  \\\n",
       "0     5000.0       5000.0           4975.0   36 months    0.1065       162.87   \n",
       "1     2500.0       2500.0           2500.0   60 months    0.1527        59.83   \n",
       "\n",
       "  grade emp_length home_ownership  annual_inc verification_status    issue_d  \\\n",
       "0     B  10+ years           RENT     24000.0            Verified 2011-12-01   \n",
       "1     C   < 1 year           RENT     30000.0     Source Verified 2011-12-01   \n",
       "\n",
       "   loan_status      purpose     title addr_state    dti  delinq_2yrs  \\\n",
       "0   Fully Paid  credit_card  Computer         AZ  27.65          0.0   \n",
       "1  Charged Off          car      bike         GA   1.00          0.0   \n",
       "\n",
       "   inq_last_6mths  open_acc  pub_rec  revol_bal  revol_util  total_acc  \\\n",
       "0             1.0       3.0      0.0    13648.0       0.837        9.0   \n",
       "1             5.0       3.0      0.0     1687.0       0.094        4.0   \n",
       "\n",
       "   out_prncp  out_prncp_inv  total_pymnt  total_pymnt_inv  total_rec_prncp  \\\n",
       "0        0.0            0.0  5863.155187          5833.84          5000.00   \n",
       "1        0.0            0.0  1008.710000          1008.71           456.46   \n",
       "\n",
       "   total_rec_int  total_rec_late_fee  collection_recovery_fee last_pymnt_d  \\\n",
       "0         863.16                 0.0                     0.00   2015-01-01   \n",
       "1         435.17                 0.0                     1.11   2013-04-01   \n",
       "\n",
       "   last_pymnt_amnt  collections_12_mths_ex_med  acc_now_delinq  \\\n",
       "0           171.62                         0.0             0.0   \n",
       "1           119.66                         0.0             0.0   \n",
       "\n",
       "   chargeoff_within_12_mths  delinq_amnt  \n",
       "0                       0.0          0.0  \n",
       "1                       0.0          0.0  "
      ]
     },
     "execution_count": 17,
     "metadata": {},
     "output_type": "execute_result"
    }
   ],
   "source": [
    "loans_total.head(2)"
   ]
  },
  {
   "cell_type": "code",
   "execution_count": 18,
   "metadata": {},
   "outputs": [
    {
     "data": {
      "text/plain": [
       " 36 months    31534\n",
       " 60 months    11001\n",
       "Name: term, dtype: int64"
      ]
     },
     "execution_count": 18,
     "metadata": {},
     "output_type": "execute_result"
    }
   ],
   "source": [
    "loans_total.term.value_counts()"
   ]
  },
  {
   "cell_type": "code",
   "execution_count": 19,
   "metadata": {},
   "outputs": [],
   "source": [
    "loans_total.term = loans_total.term.str.replace('months', '')\n",
    "loans_total.term.astype('float');"
   ]
  },
  {
   "cell_type": "code",
   "execution_count": 20,
   "metadata": {},
   "outputs": [
    {
     "data": {
      "text/plain": [
       "Fully Paid                                             33136\n",
       "Charged Off                                             5634\n",
       "Does not meet the credit policy. Status:Fully Paid      1988\n",
       "Current                                                  961\n",
       "Does not meet the credit policy. Status:Charged Off      761\n",
       "Late (31-120 days)                                        24\n",
       "In Grace Period                                           20\n",
       "Late (16-30 days)                                          8\n",
       "Default                                                    3\n",
       "Name: loan_status, dtype: int64"
      ]
     },
     "execution_count": 20,
     "metadata": {},
     "output_type": "execute_result"
    }
   ],
   "source": [
    "loans_total.loan_status.value_counts()"
   ]
  },
  {
   "cell_type": "markdown",
   "metadata": {},
   "source": [
    "Since the policy status has its own variable, the distinction between policy met/ not met does not make sense here. Therefore, only the values fully paid/ charged off/ current/ late/ in grace period/ default will be differed."
   ]
  },
  {
   "cell_type": "code",
   "execution_count": 21,
   "metadata": {},
   "outputs": [],
   "source": [
    "loans_total.loan_status = loans_total.loan_status.str.replace('Does not meet the credit policy. Status:', '')"
   ]
  },
  {
   "cell_type": "code",
   "execution_count": 22,
   "metadata": {},
   "outputs": [
    {
     "data": {
      "text/plain": [
       "Fully Paid            35124\n",
       "Charged Off            6395\n",
       "Current                 961\n",
       "Late (31-120 days)       24\n",
       "In Grace Period          20\n",
       "Late (16-30 days)         8\n",
       "Default                   3\n",
       "Name: loan_status, dtype: int64"
      ]
     },
     "execution_count": 22,
     "metadata": {},
     "output_type": "execute_result"
    }
   ],
   "source": [
    "loans_total.loan_status.value_counts()"
   ]
  },
  {
   "cell_type": "markdown",
   "metadata": {},
   "source": [
    "Title has too many options resulting in small group sizes and is also represented by the purpose, so it's dropped."
   ]
  },
  {
   "cell_type": "code",
   "execution_count": 23,
   "metadata": {},
   "outputs": [],
   "source": [
    "loans_total.drop(\"title\", axis = 1, inplace = True);"
   ]
  },
  {
   "cell_type": "code",
   "execution_count": 24,
   "metadata": {},
   "outputs": [],
   "source": [
    "loans_total.dti = (loans_total.dti)/100"
   ]
  },
  {
   "cell_type": "code",
   "execution_count": 35,
   "metadata": {},
   "outputs": [],
   "source": [
    "#Replace numerical nans by -9999 as impossible value\n",
    "loans_total.loc[:, ['loan_amnt', 'funded_amnt', 'funded_amnt_inv', 'int_rate',\n",
    "       'installment', 'annual_inc', 'dti', 'delinq_2yrs', 'inq_last_6mths',\n",
    "       'open_acc', 'pub_rec', 'revol_bal', 'revol_util', 'total_acc',\n",
    "       'total_pymnt', 'total_pymnt_inv', 'total_rec_prncp', 'total_rec_int',\n",
    "       'last_pymnt_amnt']] = loans_total.loc[:, ['loan_amnt', 'funded_amnt', 'funded_amnt_inv', 'int_rate',\n",
    "       'installment', 'annual_inc', 'dti', 'delinq_2yrs', 'inq_last_6mths',\n",
    "       'open_acc', 'pub_rec', 'revol_bal', 'revol_util', 'total_acc',\n",
    "       'total_pymnt', 'total_pymnt_inv', 'total_rec_prncp', 'total_rec_int',\n",
    "       'last_pymnt_amnt']].fillna(-9999)"
   ]
  },
  {
   "cell_type": "code",
   "execution_count": 36,
   "metadata": {},
   "outputs": [
    {
     "data": {
      "text/plain": [
       "Index(['term', 'grade', 'emp_length', 'home_ownership', 'verification_status',\n",
       "       'loan_status', 'purpose', 'addr_state'],\n",
       "      dtype='object')"
      ]
     },
     "execution_count": 36,
     "metadata": {},
     "output_type": "execute_result"
    }
   ],
   "source": []
  },
  {
   "cell_type": "code",
   "execution_count": 37,
   "metadata": {},
   "outputs": [],
   "source": [
    "#Replace string nans by '?' as impossible value\n",
    "loans_total.loc[:, ['term', 'grade', 'emp_length', 'home_ownership', 'verification_status',\n",
    "       'loan_status', 'purpose', 'addr_state']] = loans_total.loc[:, ['term', 'grade', 'emp_length', 'home_ownership', 'verification_status',\n",
    "       'loan_status', 'purpose', 'addr_state']].fillna(\"?\");"
   ]
  },
  {
   "cell_type": "code",
   "execution_count": 41,
   "metadata": {},
   "outputs": [],
   "source": [
    "#Replace date nans by 1900-01-01 as impossible value\n",
    "loans_total.loc[:, ['issue_d', 'last_pymnt_d']] = loans_total.loc[:, ['issue_d', 'last_pymnt_d']].fillna(\"1900-01-01\");"
   ]
  },
  {
   "cell_type": "markdown",
   "metadata": {},
   "source": [
    "## 01.04 Train Test Split"
   ]
  },
  {
   "cell_type": "markdown",
   "metadata": {},
   "source": [
    "The dataset is splitted into train and test sets. Any data manipulations will be exectued for train and test data separately. "
   ]
  },
  {
   "cell_type": "markdown",
   "metadata": {},
   "source": [
    "Since frequencies are not balanced, the train-test-split will be stratified. \n",
    "Additionally, nan-values are not accepted in the train-test-split. Therefore, the nans are temporarily replaced by -999 as an impossible value and finally cleansed at a later time.  "
   ]
  },
  {
   "cell_type": "code",
   "execution_count": 42,
   "metadata": {},
   "outputs": [
    {
     "data": {
      "text/plain": [
       "Index(['loan_amnt', 'funded_amnt', 'funded_amnt_inv', 'term', 'int_rate',\n",
       "       'installment', 'grade', 'emp_length', 'home_ownership', 'annual_inc',\n",
       "       'verification_status', 'issue_d', 'loan_status', 'purpose',\n",
       "       'addr_state', 'dti', 'delinq_2yrs', 'inq_last_6mths', 'open_acc',\n",
       "       'pub_rec', 'revol_bal', 'revol_util', 'total_acc', 'total_pymnt',\n",
       "       'total_pymnt_inv', 'total_rec_prncp', 'total_rec_int', 'last_pymnt_d',\n",
       "       'last_pymnt_amnt'],\n",
       "      dtype='object')"
      ]
     },
     "execution_count": 42,
     "metadata": {},
     "output_type": "execute_result"
    }
   ],
   "source": [
    "loans_total.columns"
   ]
  },
  {
   "cell_type": "code",
   "execution_count": 43,
   "metadata": {},
   "outputs": [],
   "source": [
    "#Create train and test datasets\n",
    "y = loans_total.loan_status\n",
    "X = loans_total[['loan_amnt', 'funded_amnt', 'funded_amnt_inv', 'term', 'int_rate',\n",
    "       'installment', 'grade', 'emp_length', 'home_ownership', 'annual_inc',\n",
    "       'verification_status', 'issue_d', 'purpose',\n",
    "       'addr_state', 'dti', 'delinq_2yrs', 'inq_last_6mths', 'open_acc',\n",
    "       'pub_rec', 'revol_bal', 'revol_util', 'total_acc', 'total_pymnt',\n",
    "       'total_pymnt_inv', 'total_rec_prncp', 'total_rec_int', 'last_pymnt_d',\n",
    "       'last_pymnt_amnt']]\n",
    "\n",
    "explanatory_vars = list(X.columns)\n",
    "\n",
    "X_train, X_test, y_train, y_test = train_test_split(X, y, test_size = .33, random_state = 42, stratify = y)"
   ]
  },
  {
   "cell_type": "code",
   "execution_count": 44,
   "metadata": {},
   "outputs": [],
   "source": [
    "#Save test data in separate file \n",
    "test_data = pd.concat([X_test, y_test], axis = 1)\n",
    "test_data.reset_index(inplace = True)\n",
    "test_data.drop('index', inplace = True, axis = 1)\n",
    "test_data.to_csv('test_data.csv')"
   ]
  },
  {
   "cell_type": "code",
   "execution_count": 45,
   "metadata": {},
   "outputs": [
    {
     "data": {
      "text/html": [
       "<div>\n",
       "<style scoped>\n",
       "    .dataframe tbody tr th:only-of-type {\n",
       "        vertical-align: middle;\n",
       "    }\n",
       "\n",
       "    .dataframe tbody tr th {\n",
       "        vertical-align: top;\n",
       "    }\n",
       "\n",
       "    .dataframe thead th {\n",
       "        text-align: right;\n",
       "    }\n",
       "</style>\n",
       "<table border=\"1\" class=\"dataframe\">\n",
       "  <thead>\n",
       "    <tr style=\"text-align: right;\">\n",
       "      <th></th>\n",
       "      <th>loan_amnt</th>\n",
       "      <th>funded_amnt</th>\n",
       "      <th>funded_amnt_inv</th>\n",
       "      <th>term</th>\n",
       "      <th>int_rate</th>\n",
       "      <th>installment</th>\n",
       "      <th>grade</th>\n",
       "      <th>emp_length</th>\n",
       "      <th>home_ownership</th>\n",
       "      <th>annual_inc</th>\n",
       "      <th>verification_status</th>\n",
       "      <th>issue_d</th>\n",
       "      <th>purpose</th>\n",
       "      <th>addr_state</th>\n",
       "      <th>dti</th>\n",
       "      <th>delinq_2yrs</th>\n",
       "      <th>inq_last_6mths</th>\n",
       "      <th>open_acc</th>\n",
       "      <th>pub_rec</th>\n",
       "      <th>revol_bal</th>\n",
       "      <th>revol_util</th>\n",
       "      <th>total_acc</th>\n",
       "      <th>total_pymnt</th>\n",
       "      <th>total_pymnt_inv</th>\n",
       "      <th>total_rec_prncp</th>\n",
       "      <th>total_rec_int</th>\n",
       "      <th>last_pymnt_d</th>\n",
       "      <th>last_pymnt_amnt</th>\n",
       "      <th>loan_status</th>\n",
       "    </tr>\n",
       "  </thead>\n",
       "  <tbody>\n",
       "    <tr>\n",
       "      <th>0</th>\n",
       "      <td>15000.0</td>\n",
       "      <td>15000.0</td>\n",
       "      <td>15000.0</td>\n",
       "      <td>36</td>\n",
       "      <td>0.1422</td>\n",
       "      <td>514.27</td>\n",
       "      <td>C</td>\n",
       "      <td>8 years</td>\n",
       "      <td>RENT</td>\n",
       "      <td>102000.0</td>\n",
       "      <td>Verified</td>\n",
       "      <td>2010-03-01</td>\n",
       "      <td>debt_consolidation</td>\n",
       "      <td>NY</td>\n",
       "      <td>0.0964</td>\n",
       "      <td>1.0</td>\n",
       "      <td>1.0</td>\n",
       "      <td>6.0</td>\n",
       "      <td>0.0</td>\n",
       "      <td>916.0</td>\n",
       "      <td>0.0000</td>\n",
       "      <td>37.0</td>\n",
       "      <td>18514.510481</td>\n",
       "      <td>18514.51</td>\n",
       "      <td>15000.0</td>\n",
       "      <td>3514.51</td>\n",
       "      <td>2013-03-01</td>\n",
       "      <td>553.84</td>\n",
       "      <td>Fully Paid</td>\n",
       "    </tr>\n",
       "    <tr>\n",
       "      <th>1</th>\n",
       "      <td>10000.0</td>\n",
       "      <td>10000.0</td>\n",
       "      <td>9850.0</td>\n",
       "      <td>36</td>\n",
       "      <td>0.1059</td>\n",
       "      <td>325.45</td>\n",
       "      <td>B</td>\n",
       "      <td>3 years</td>\n",
       "      <td>RENT</td>\n",
       "      <td>80038.0</td>\n",
       "      <td>Verified</td>\n",
       "      <td>2011-06-01</td>\n",
       "      <td>debt_consolidation</td>\n",
       "      <td>DC</td>\n",
       "      <td>0.2272</td>\n",
       "      <td>0.0</td>\n",
       "      <td>2.0</td>\n",
       "      <td>11.0</td>\n",
       "      <td>0.0</td>\n",
       "      <td>10420.0</td>\n",
       "      <td>0.6020</td>\n",
       "      <td>29.0</td>\n",
       "      <td>11534.483930</td>\n",
       "      <td>11361.47</td>\n",
       "      <td>10000.0</td>\n",
       "      <td>1534.48</td>\n",
       "      <td>2013-07-01</td>\n",
       "      <td>3744.28</td>\n",
       "      <td>Fully Paid</td>\n",
       "    </tr>\n",
       "    <tr>\n",
       "      <th>2</th>\n",
       "      <td>10000.0</td>\n",
       "      <td>10000.0</td>\n",
       "      <td>9150.0</td>\n",
       "      <td>36</td>\n",
       "      <td>0.0932</td>\n",
       "      <td>319.47</td>\n",
       "      <td>A</td>\n",
       "      <td>3 years</td>\n",
       "      <td>RENT</td>\n",
       "      <td>85000.0</td>\n",
       "      <td>Not Verified</td>\n",
       "      <td>2008-12-01</td>\n",
       "      <td>educational</td>\n",
       "      <td>VA</td>\n",
       "      <td>0.0781</td>\n",
       "      <td>0.0</td>\n",
       "      <td>1.0</td>\n",
       "      <td>8.0</td>\n",
       "      <td>0.0</td>\n",
       "      <td>2001.0</td>\n",
       "      <td>0.1210</td>\n",
       "      <td>23.0</td>\n",
       "      <td>10858.473145</td>\n",
       "      <td>9935.50</td>\n",
       "      <td>10000.0</td>\n",
       "      <td>858.47</td>\n",
       "      <td>2010-01-01</td>\n",
       "      <td>7037.84</td>\n",
       "      <td>Fully Paid</td>\n",
       "    </tr>\n",
       "    <tr>\n",
       "      <th>3</th>\n",
       "      <td>5000.0</td>\n",
       "      <td>5000.0</td>\n",
       "      <td>5000.0</td>\n",
       "      <td>60</td>\n",
       "      <td>0.1969</td>\n",
       "      <td>131.61</td>\n",
       "      <td>E</td>\n",
       "      <td>3 years</td>\n",
       "      <td>OWN</td>\n",
       "      <td>38004.0</td>\n",
       "      <td>Not Verified</td>\n",
       "      <td>2011-05-01</td>\n",
       "      <td>other</td>\n",
       "      <td>CA</td>\n",
       "      <td>0.0950</td>\n",
       "      <td>0.0</td>\n",
       "      <td>0.0</td>\n",
       "      <td>2.0</td>\n",
       "      <td>0.0</td>\n",
       "      <td>0.0</td>\n",
       "      <td>0.8131</td>\n",
       "      <td>7.0</td>\n",
       "      <td>7896.960000</td>\n",
       "      <td>7896.96</td>\n",
       "      <td>5000.0</td>\n",
       "      <td>2896.96</td>\n",
       "      <td>2016-05-01</td>\n",
       "      <td>263.58</td>\n",
       "      <td>Fully Paid</td>\n",
       "    </tr>\n",
       "    <tr>\n",
       "      <th>4</th>\n",
       "      <td>14000.0</td>\n",
       "      <td>14000.0</td>\n",
       "      <td>13750.0</td>\n",
       "      <td>60</td>\n",
       "      <td>0.1038</td>\n",
       "      <td>300.09</td>\n",
       "      <td>B</td>\n",
       "      <td>10+ years</td>\n",
       "      <td>MORTGAGE</td>\n",
       "      <td>58000.0</td>\n",
       "      <td>Verified</td>\n",
       "      <td>2010-08-01</td>\n",
       "      <td>small_business</td>\n",
       "      <td>OH</td>\n",
       "      <td>0.1043</td>\n",
       "      <td>0.0</td>\n",
       "      <td>2.0</td>\n",
       "      <td>6.0</td>\n",
       "      <td>0.0</td>\n",
       "      <td>4683.0</td>\n",
       "      <td>0.1750</td>\n",
       "      <td>30.0</td>\n",
       "      <td>15139.723716</td>\n",
       "      <td>14869.37</td>\n",
       "      <td>14000.0</td>\n",
       "      <td>1139.72</td>\n",
       "      <td>2011-07-01</td>\n",
       "      <td>12448.72</td>\n",
       "      <td>Fully Paid</td>\n",
       "    </tr>\n",
       "  </tbody>\n",
       "</table>\n",
       "</div>"
      ],
      "text/plain": [
       "   loan_amnt  funded_amnt  funded_amnt_inv  term  int_rate  installment grade  \\\n",
       "0    15000.0      15000.0          15000.0   36     0.1422       514.27     C   \n",
       "1    10000.0      10000.0           9850.0   36     0.1059       325.45     B   \n",
       "2    10000.0      10000.0           9150.0   36     0.0932       319.47     A   \n",
       "3     5000.0       5000.0           5000.0   60     0.1969       131.61     E   \n",
       "4    14000.0      14000.0          13750.0   60     0.1038       300.09     B   \n",
       "\n",
       "  emp_length home_ownership  annual_inc verification_status    issue_d  \\\n",
       "0    8 years           RENT    102000.0            Verified 2010-03-01   \n",
       "1    3 years           RENT     80038.0            Verified 2011-06-01   \n",
       "2    3 years           RENT     85000.0        Not Verified 2008-12-01   \n",
       "3    3 years            OWN     38004.0        Not Verified 2011-05-01   \n",
       "4  10+ years       MORTGAGE     58000.0            Verified 2010-08-01   \n",
       "\n",
       "              purpose addr_state     dti  delinq_2yrs  inq_last_6mths  \\\n",
       "0  debt_consolidation         NY  0.0964          1.0             1.0   \n",
       "1  debt_consolidation         DC  0.2272          0.0             2.0   \n",
       "2         educational         VA  0.0781          0.0             1.0   \n",
       "3               other         CA  0.0950          0.0             0.0   \n",
       "4      small_business         OH  0.1043          0.0             2.0   \n",
       "\n",
       "   open_acc  pub_rec  revol_bal  revol_util  total_acc   total_pymnt  \\\n",
       "0       6.0      0.0      916.0      0.0000       37.0  18514.510481   \n",
       "1      11.0      0.0    10420.0      0.6020       29.0  11534.483930   \n",
       "2       8.0      0.0     2001.0      0.1210       23.0  10858.473145   \n",
       "3       2.0      0.0        0.0      0.8131        7.0   7896.960000   \n",
       "4       6.0      0.0     4683.0      0.1750       30.0  15139.723716   \n",
       "\n",
       "   total_pymnt_inv  total_rec_prncp  total_rec_int last_pymnt_d  \\\n",
       "0         18514.51          15000.0        3514.51   2013-03-01   \n",
       "1         11361.47          10000.0        1534.48   2013-07-01   \n",
       "2          9935.50          10000.0         858.47   2010-01-01   \n",
       "3          7896.96           5000.0        2896.96   2016-05-01   \n",
       "4         14869.37          14000.0        1139.72   2011-07-01   \n",
       "\n",
       "   last_pymnt_amnt loan_status  \n",
       "0           553.84  Fully Paid  \n",
       "1          3744.28  Fully Paid  \n",
       "2          7037.84  Fully Paid  \n",
       "3           263.58  Fully Paid  \n",
       "4         12448.72  Fully Paid  "
      ]
     },
     "execution_count": 45,
     "metadata": {},
     "output_type": "execute_result"
    }
   ],
   "source": [
    "#Save train data in separate file \n",
    "train_data = pd.concat([X_train, y_train], axis = 1)\n",
    "train_data.reset_index(inplace = True)\n",
    "train_data.drop('index', inplace = True, axis = 1)\n",
    "train_data.to_csv('train_data.csv')\n",
    "train_data.head()"
   ]
  },
  {
   "cell_type": "markdown",
   "metadata": {},
   "source": [
    "## 01.05 Missing values in training data"
   ]
  },
  {
   "cell_type": "code",
   "execution_count": 46,
   "metadata": {},
   "outputs": [],
   "source": [
    "#Re-establish missing data which were temporarily replaced by impossible values for the train test split. \n",
    "train_data.replace('?', np.nan, inplace = True)\n",
    "train_data.replace(-9999, np.nan, inplace = True)\n",
    "train_data.replace('1900-01-01', np.nan, inplace = True)"
   ]
  },
  {
   "cell_type": "markdown",
   "metadata": {},
   "source": [
    "Missing data with occurences < 100 will be dropped."
   ]
  },
  {
   "cell_type": "code",
   "execution_count": 48,
   "metadata": {},
   "outputs": [
    {
     "data": {
      "text/plain": [
       "loan_amnt                2\n",
       "funded_amnt              2\n",
       "funded_amnt_inv          2\n",
       "term                     2\n",
       "int_rate                 2\n",
       "installment              2\n",
       "grade                    2\n",
       "emp_length             739\n",
       "home_ownership           2\n",
       "annual_inc               5\n",
       "verification_status      2\n",
       "issue_d                  0\n",
       "purpose                  2\n",
       "addr_state               2\n",
       "dti                      2\n",
       "delinq_2yrs             21\n",
       "inq_last_6mths          21\n",
       "open_acc                21\n",
       "pub_rec                 21\n",
       "revol_bal                2\n",
       "revol_util              66\n",
       "total_acc               21\n",
       "total_pymnt              2\n",
       "total_pymnt_inv          2\n",
       "total_rec_prncp          2\n",
       "total_rec_int            2\n",
       "last_pymnt_d             0\n",
       "last_pymnt_amnt          2\n",
       "loan_status              2\n",
       "dtype: int64"
      ]
     },
     "execution_count": 48,
     "metadata": {},
     "output_type": "execute_result"
    }
   ],
   "source": [
    "train_data.isna().sum()"
   ]
  },
  {
   "cell_type": "code",
   "execution_count": 49,
   "metadata": {},
   "outputs": [
    {
     "data": {
      "text/plain": [
       "Index(['loan_amnt', 'funded_amnt', 'funded_amnt_inv', 'term', 'int_rate',\n",
       "       'installment', 'grade', 'emp_length', 'home_ownership', 'annual_inc',\n",
       "       'verification_status', 'issue_d', 'purpose', 'addr_state', 'dti',\n",
       "       'delinq_2yrs', 'inq_last_6mths', 'open_acc', 'pub_rec', 'revol_bal',\n",
       "       'revol_util', 'total_acc', 'total_pymnt', 'total_pymnt_inv',\n",
       "       'total_rec_prncp', 'total_rec_int', 'last_pymnt_d', 'last_pymnt_amnt',\n",
       "       'loan_status'],\n",
       "      dtype='object')"
      ]
     },
     "execution_count": 49,
     "metadata": {},
     "output_type": "execute_result"
    }
   ],
   "source": [
    "train_data.columns"
   ]
  },
  {
   "cell_type": "code",
   "execution_count": 50,
   "metadata": {},
   "outputs": [],
   "source": [
    "train_data.dropna(subset = ['loan_amnt', 'funded_amnt', 'funded_amnt_inv', 'term', 'int_rate',\n",
    "       'installment', 'grade', 'home_ownership', 'annual_inc',\n",
    "       'verification_status', 'issue_d', 'purpose', 'addr_state', 'dti',\n",
    "       'delinq_2yrs', 'inq_last_6mths', 'open_acc', 'pub_rec', 'revol_bal',\n",
    "       'revol_util', 'total_acc', 'total_pymnt', 'total_pymnt_inv',\n",
    "       'total_rec_prncp', 'total_rec_int', 'last_pymnt_d', 'last_pymnt_amnt',\n",
    "       'loan_status'], inplace = True)"
   ]
  },
  {
   "cell_type": "code",
   "execution_count": 51,
   "metadata": {},
   "outputs": [
    {
     "data": {
      "text/plain": [
       "loan_amnt                0\n",
       "funded_amnt              0\n",
       "funded_amnt_inv          0\n",
       "term                     0\n",
       "int_rate                 0\n",
       "installment              0\n",
       "grade                    0\n",
       "emp_length             736\n",
       "home_ownership           0\n",
       "annual_inc               0\n",
       "verification_status      0\n",
       "issue_d                  0\n",
       "purpose                  0\n",
       "addr_state               0\n",
       "dti                      0\n",
       "delinq_2yrs              0\n",
       "inq_last_6mths           0\n",
       "open_acc                 0\n",
       "pub_rec                  0\n",
       "revol_bal                0\n",
       "revol_util               0\n",
       "total_acc                0\n",
       "total_pymnt              0\n",
       "total_pymnt_inv          0\n",
       "total_rec_prncp          0\n",
       "total_rec_int            0\n",
       "last_pymnt_d             0\n",
       "last_pymnt_amnt          0\n",
       "loan_status              0\n",
       "dtype: int64"
      ]
     },
     "execution_count": 51,
     "metadata": {},
     "output_type": "execute_result"
    }
   ],
   "source": [
    "train_data.isna().sum()"
   ]
  },
  {
   "cell_type": "code",
   "execution_count": 52,
   "metadata": {},
   "outputs": [
    {
     "data": {
      "text/html": [
       "<div>\n",
       "<style scoped>\n",
       "    .dataframe tbody tr th:only-of-type {\n",
       "        vertical-align: middle;\n",
       "    }\n",
       "\n",
       "    .dataframe tbody tr th {\n",
       "        vertical-align: top;\n",
       "    }\n",
       "\n",
       "    .dataframe thead th {\n",
       "        text-align: right;\n",
       "    }\n",
       "</style>\n",
       "<table border=\"1\" class=\"dataframe\">\n",
       "  <thead>\n",
       "    <tr style=\"text-align: right;\">\n",
       "      <th></th>\n",
       "      <th>emp_length</th>\n",
       "    </tr>\n",
       "  </thead>\n",
       "  <tbody>\n",
       "    <tr>\n",
       "      <th>count</th>\n",
       "      <td>27698</td>\n",
       "    </tr>\n",
       "    <tr>\n",
       "      <th>unique</th>\n",
       "      <td>11</td>\n",
       "    </tr>\n",
       "    <tr>\n",
       "      <th>top</th>\n",
       "      <td>10+ years</td>\n",
       "    </tr>\n",
       "    <tr>\n",
       "      <th>freq</th>\n",
       "      <td>6303</td>\n",
       "    </tr>\n",
       "  </tbody>\n",
       "</table>\n",
       "</div>"
      ],
      "text/plain": [
       "       emp_length\n",
       "count       27698\n",
       "unique         11\n",
       "top     10+ years\n",
       "freq         6303"
      ]
     },
     "execution_count": 52,
     "metadata": {},
     "output_type": "execute_result"
    }
   ],
   "source": [
    "train_data[['emp_length']].describe().round(2)"
   ]
  },
  {
   "cell_type": "markdown",
   "metadata": {},
   "source": [
    "The mode is not frequent enough to replace missing values bz mode. Therefore, missing values are replaced bz a new value 'unknown'."
   ]
  },
  {
   "cell_type": "code",
   "execution_count": 53,
   "metadata": {},
   "outputs": [],
   "source": [
    "train_data.emp_length.fillna('unknown', inplace = True)"
   ]
  },
  {
   "cell_type": "markdown",
   "metadata": {},
   "source": [
    "## 01.06 Outlier detection and handling"
   ]
  },
  {
   "cell_type": "markdown",
   "metadata": {},
   "source": [
    "#### Numerical Data"
   ]
  },
  {
   "cell_type": "markdown",
   "metadata": {},
   "source": [
    "Outliers are removed if they exceed the 99.5th percentile."
   ]
  },
  {
   "cell_type": "code",
   "execution_count": 54,
   "metadata": {},
   "outputs": [],
   "source": [
    "#exclude outliers in numerical data\n",
    "for var in train_data.select_dtypes(include = 'number').columns:\n",
    "    train_data.drop(train_data.loc[train_data[var]> train_data[var].quantile(q = .995)].index, inplace = True);"
   ]
  },
  {
   "cell_type": "markdown",
   "metadata": {},
   "source": [
    "#### Categorical Data"
   ]
  },
  {
   "cell_type": "markdown",
   "metadata": {},
   "source": [
    "Even though group sizes are small for some variables, categorical data are not excluded since all outliers are outliers only regarding their frequency, not regarding their *value*."
   ]
  },
  {
   "cell_type": "markdown",
   "metadata": {},
   "source": [
    "Only the target variable is cut for contential reasons: Only  fully paid/ charged off have predictive value in the first place. So only these values will remain in the dataset, making the target a dichotomous variable. "
   ]
  },
  {
   "cell_type": "code",
   "execution_count": 55,
   "metadata": {},
   "outputs": [],
   "source": [
    "train_data.drop(train_data.loc[train_data['loan_status']=='Current'].index, inplace=True)\n",
    "train_data.drop(train_data.loc[train_data['loan_status']=='In Grace Period'].index, inplace=True)\n",
    "train_data.drop(train_data.loc[train_data['loan_status']=='Default'].index, inplace=True)\n",
    "train_data.drop(train_data.loc[train_data['loan_status']=='Late (31-120 days)'].index, inplace=True)\n",
    "train_data.drop(train_data.loc[train_data['loan_status']=='Late (16-30 days)'].index, inplace=True)"
   ]
  },
  {
   "cell_type": "code",
   "execution_count": 56,
   "metadata": {},
   "outputs": [
    {
     "data": {
      "text/plain": [
       "Fully Paid     21878\n",
       "Charged Off     3959\n",
       "Name: loan_status, dtype: int64"
      ]
     },
     "execution_count": 56,
     "metadata": {},
     "output_type": "execute_result"
    }
   ],
   "source": [
    "train_data.loan_status.value_counts()"
   ]
  },
  {
   "cell_type": "code",
   "execution_count": 57,
   "metadata": {},
   "outputs": [],
   "source": [
    "train_data.to_csv('train_data.csv')"
   ]
  },
  {
   "cell_type": "markdown",
   "metadata": {},
   "source": [
    "## 01. 07 Rescale train data"
   ]
  },
  {
   "cell_type": "markdown",
   "metadata": {},
   "source": [
    "To account for outliers, data are rescaled using the RobustScaler.\n",
    "The centering and scaling statistics of this scaler are based on percentiles and are therefore not influenced by a few number of very large marginal outliers. Consequently, the resulting range of the transformed feature values is larger than for the previous scalers and, more importantly, are approximately similar."
   ]
  },
  {
   "cell_type": "code",
   "execution_count": 58,
   "metadata": {},
   "outputs": [
    {
     "data": {
      "text/html": [
       "<div>\n",
       "<style scoped>\n",
       "    .dataframe tbody tr th:only-of-type {\n",
       "        vertical-align: middle;\n",
       "    }\n",
       "\n",
       "    .dataframe tbody tr th {\n",
       "        vertical-align: top;\n",
       "    }\n",
       "\n",
       "    .dataframe thead th {\n",
       "        text-align: right;\n",
       "    }\n",
       "</style>\n",
       "<table border=\"1\" class=\"dataframe\">\n",
       "  <thead>\n",
       "    <tr style=\"text-align: right;\">\n",
       "      <th></th>\n",
       "      <th>loan_amnt</th>\n",
       "      <th>funded_amnt</th>\n",
       "      <th>funded_amnt_inv</th>\n",
       "      <th>int_rate</th>\n",
       "      <th>installment</th>\n",
       "      <th>annual_inc</th>\n",
       "      <th>dti</th>\n",
       "      <th>delinq_2yrs</th>\n",
       "      <th>inq_last_6mths</th>\n",
       "      <th>open_acc</th>\n",
       "      <th>pub_rec</th>\n",
       "      <th>revol_bal</th>\n",
       "      <th>revol_util</th>\n",
       "      <th>total_acc</th>\n",
       "      <th>total_pymnt</th>\n",
       "      <th>total_pymnt_inv</th>\n",
       "      <th>total_rec_prncp</th>\n",
       "      <th>total_rec_int</th>\n",
       "      <th>last_pymnt_amnt</th>\n",
       "    </tr>\n",
       "  </thead>\n",
       "  <tbody>\n",
       "    <tr>\n",
       "      <th>0</th>\n",
       "      <td>15000.0</td>\n",
       "      <td>15000.0</td>\n",
       "      <td>15000.0</td>\n",
       "      <td>0.1422</td>\n",
       "      <td>514.27</td>\n",
       "      <td>102000.0</td>\n",
       "      <td>0.0964</td>\n",
       "      <td>1.0</td>\n",
       "      <td>1.0</td>\n",
       "      <td>6.0</td>\n",
       "      <td>0.0</td>\n",
       "      <td>916.0</td>\n",
       "      <td>0.0000</td>\n",
       "      <td>37.0</td>\n",
       "      <td>18514.510481</td>\n",
       "      <td>18514.51</td>\n",
       "      <td>15000.0</td>\n",
       "      <td>3514.51</td>\n",
       "      <td>553.84</td>\n",
       "    </tr>\n",
       "    <tr>\n",
       "      <th>1</th>\n",
       "      <td>10000.0</td>\n",
       "      <td>10000.0</td>\n",
       "      <td>9850.0</td>\n",
       "      <td>0.1059</td>\n",
       "      <td>325.45</td>\n",
       "      <td>80038.0</td>\n",
       "      <td>0.2272</td>\n",
       "      <td>0.0</td>\n",
       "      <td>2.0</td>\n",
       "      <td>11.0</td>\n",
       "      <td>0.0</td>\n",
       "      <td>10420.0</td>\n",
       "      <td>0.6020</td>\n",
       "      <td>29.0</td>\n",
       "      <td>11534.483930</td>\n",
       "      <td>11361.47</td>\n",
       "      <td>10000.0</td>\n",
       "      <td>1534.48</td>\n",
       "      <td>3744.28</td>\n",
       "    </tr>\n",
       "    <tr>\n",
       "      <th>2</th>\n",
       "      <td>10000.0</td>\n",
       "      <td>10000.0</td>\n",
       "      <td>9150.0</td>\n",
       "      <td>0.0932</td>\n",
       "      <td>319.47</td>\n",
       "      <td>85000.0</td>\n",
       "      <td>0.0781</td>\n",
       "      <td>0.0</td>\n",
       "      <td>1.0</td>\n",
       "      <td>8.0</td>\n",
       "      <td>0.0</td>\n",
       "      <td>2001.0</td>\n",
       "      <td>0.1210</td>\n",
       "      <td>23.0</td>\n",
       "      <td>10858.473145</td>\n",
       "      <td>9935.50</td>\n",
       "      <td>10000.0</td>\n",
       "      <td>858.47</td>\n",
       "      <td>7037.84</td>\n",
       "    </tr>\n",
       "    <tr>\n",
       "      <th>3</th>\n",
       "      <td>5000.0</td>\n",
       "      <td>5000.0</td>\n",
       "      <td>5000.0</td>\n",
       "      <td>0.1969</td>\n",
       "      <td>131.61</td>\n",
       "      <td>38004.0</td>\n",
       "      <td>0.0950</td>\n",
       "      <td>0.0</td>\n",
       "      <td>0.0</td>\n",
       "      <td>2.0</td>\n",
       "      <td>0.0</td>\n",
       "      <td>0.0</td>\n",
       "      <td>0.8131</td>\n",
       "      <td>7.0</td>\n",
       "      <td>7896.960000</td>\n",
       "      <td>7896.96</td>\n",
       "      <td>5000.0</td>\n",
       "      <td>2896.96</td>\n",
       "      <td>263.58</td>\n",
       "    </tr>\n",
       "    <tr>\n",
       "      <th>4</th>\n",
       "      <td>14000.0</td>\n",
       "      <td>14000.0</td>\n",
       "      <td>13750.0</td>\n",
       "      <td>0.1038</td>\n",
       "      <td>300.09</td>\n",
       "      <td>58000.0</td>\n",
       "      <td>0.1043</td>\n",
       "      <td>0.0</td>\n",
       "      <td>2.0</td>\n",
       "      <td>6.0</td>\n",
       "      <td>0.0</td>\n",
       "      <td>4683.0</td>\n",
       "      <td>0.1750</td>\n",
       "      <td>30.0</td>\n",
       "      <td>15139.723716</td>\n",
       "      <td>14869.37</td>\n",
       "      <td>14000.0</td>\n",
       "      <td>1139.72</td>\n",
       "      <td>12448.72</td>\n",
       "    </tr>\n",
       "  </tbody>\n",
       "</table>\n",
       "</div>"
      ],
      "text/plain": [
       "   loan_amnt  funded_amnt  funded_amnt_inv  int_rate  installment  annual_inc  \\\n",
       "0    15000.0      15000.0          15000.0    0.1422       514.27    102000.0   \n",
       "1    10000.0      10000.0           9850.0    0.1059       325.45     80038.0   \n",
       "2    10000.0      10000.0           9150.0    0.0932       319.47     85000.0   \n",
       "3     5000.0       5000.0           5000.0    0.1969       131.61     38004.0   \n",
       "4    14000.0      14000.0          13750.0    0.1038       300.09     58000.0   \n",
       "\n",
       "      dti  delinq_2yrs  inq_last_6mths  open_acc  pub_rec  revol_bal  \\\n",
       "0  0.0964          1.0             1.0       6.0      0.0      916.0   \n",
       "1  0.2272          0.0             2.0      11.0      0.0    10420.0   \n",
       "2  0.0781          0.0             1.0       8.0      0.0     2001.0   \n",
       "3  0.0950          0.0             0.0       2.0      0.0        0.0   \n",
       "4  0.1043          0.0             2.0       6.0      0.0     4683.0   \n",
       "\n",
       "   revol_util  total_acc   total_pymnt  total_pymnt_inv  total_rec_prncp  \\\n",
       "0      0.0000       37.0  18514.510481         18514.51          15000.0   \n",
       "1      0.6020       29.0  11534.483930         11361.47          10000.0   \n",
       "2      0.1210       23.0  10858.473145          9935.50          10000.0   \n",
       "3      0.8131        7.0   7896.960000          7896.96           5000.0   \n",
       "4      0.1750       30.0  15139.723716         14869.37          14000.0   \n",
       "\n",
       "   total_rec_int  last_pymnt_amnt  \n",
       "0        3514.51           553.84  \n",
       "1        1534.48          3744.28  \n",
       "2         858.47          7037.84  \n",
       "3        2896.96           263.58  \n",
       "4        1139.72         12448.72  "
      ]
     },
     "execution_count": 58,
     "metadata": {},
     "output_type": "execute_result"
    }
   ],
   "source": [
    "from sklearn.preprocessing import RobustScaler\n",
    "scaler = RobustScaler()\n",
    "#Separate numerical and non-numerical variables since only the numerical ones can be rescaled.\n",
    "X_train_num = train_data.select_dtypes('number')\n",
    "scaler.fit_transform(X_train_num);\n",
    "X_train_num.head()"
   ]
  },
  {
   "cell_type": "code",
   "execution_count": 60,
   "metadata": {},
   "outputs": [],
   "source": [
    "X_train_cat = pd.get_dummies(train_data[['term', 'grade',  'emp_length', 'home_ownership',\n",
    "       'verification_status', 'issue_d', 'purpose', 'addr_state',\n",
    "       'last_pymnt_d']], drop_first = True)"
   ]
  },
  {
   "cell_type": "code",
   "execution_count": 61,
   "metadata": {},
   "outputs": [],
   "source": [
    "#Join all predictive variables again\n",
    "X_train = pd.concat([X_train_num, X_train_cat], axis = 1)"
   ]
  },
  {
   "cell_type": "code",
   "execution_count": 62,
   "metadata": {},
   "outputs": [],
   "source": [
    "X_train.to_csv('train_data_rescaled.csv')"
   ]
  },
  {
   "cell_type": "code",
   "execution_count": 63,
   "metadata": {},
   "outputs": [],
   "source": [
    "y_train = train_data.loan_status\n",
    "y_train.to_csv('y_train.csv')"
   ]
  },
  {
   "cell_type": "code",
   "execution_count": null,
   "metadata": {},
   "outputs": [],
   "source": []
  }
 ],
 "metadata": {
  "kernelspec": {
   "display_name": "Python 3",
   "language": "python",
   "name": "python3"
  },
  "language_info": {
   "codemirror_mode": {
    "name": "ipython",
    "version": 3
   },
   "file_extension": ".py",
   "mimetype": "text/x-python",
   "name": "python",
   "nbconvert_exporter": "python",
   "pygments_lexer": "ipython3",
   "version": "3.8.3"
  }
 },
 "nbformat": 4,
 "nbformat_minor": 4
}
