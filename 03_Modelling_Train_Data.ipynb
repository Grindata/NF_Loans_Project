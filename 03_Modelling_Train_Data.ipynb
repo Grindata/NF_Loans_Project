{
 "cells": [
  {
   "cell_type": "markdown",
   "metadata": {},
   "source": [
    "##### Lending Club Data Project"
   ]
  },
  {
   "cell_type": "markdown",
   "metadata": {},
   "source": [
    "# 3 Modelling"
   ]
  },
  {
   "cell_type": "markdown",
   "metadata": {},
   "source": [
    "__Content__ <br>\n",
    "3.1 Data Import <br>\n",
    "3.2 Train-Test-Split for Training Data <br>\n",
    "3.3 SMOTE <br>\n",
    "3.4 Baseline Model: Dummy Classifier <br>\n",
    "3.5 Feature Selection <br>\n",
    "3.6 Logistic Regression (5 Features)<br>\n",
    "3.7 Logistic Regression (10 Features)<br>\n",
    "3.8 KNN (5 Features)<br>\n",
    "3.9 KNN (10 Features)<br>\n",
    "3.10 Ensemble: AdaBoost <br>\n",
    "3.11 Ensemble: Stacking <br>"
   ]
  },
  {
   "cell_type": "markdown",
   "metadata": {},
   "source": [
    "### 3.1 Import training data"
   ]
  },
  {
   "cell_type": "code",
   "execution_count": 2,
   "metadata": {},
   "outputs": [],
   "source": [
    "reset -fs"
   ]
  },
  {
   "cell_type": "code",
   "execution_count": 2,
   "metadata": {},
   "outputs": [],
   "source": [
    "import matplotlib.pyplot as plt\n",
    "%matplotlib inline\n",
    "\n",
    "import numpy as np\n",
    "import pandas as pd\n",
    "import seaborn as sns\n",
    "from scipy import stats\n",
    "import statsmodels.api as sms\n",
    "import statsmodels.formula.api as smf\n",
    "\n",
    "from sklearn.metrics.pairwise import euclidean_distances\n",
    "from sklearn.model_selection import train_test_split \n",
    "from sklearn.linear_model import LinearRegression\n",
    "from sklearn.tree import DecisionTreeClassifier\n",
    "from sklearn import metrics\n",
    "from sklearn.metrics import classification_report\n",
    "from sklearn.model_selection import GridSearchCV, RandomizedSearchCV\n",
    "from sklearn.model_selection import cross_val_predict, cross_val_score, cross_validate\n",
    "import re \n",
    "import math\n",
    "\n",
    "from sklearn.metrics import recall_score, precision_score, f1_score, accuracy_score, classification_report, confusion_matrix\n",
    "\n",
    "from sklearn.pipeline import Pipeline\n",
    "from sklearn.model_selection import GridSearchCV\n",
    "from sklearn.neighbors import KNeighborsClassifier\n",
    "\n",
    "from sklearn.feature_selection import SelectKBest, mutual_info_classif\n",
    "pd.set_option('display.max_columns', None)\n",
    "from sklearn.model_selection import RandomizedSearchCV\n",
    "from sklearn.metrics import recall_score, precision_score, f1_score, accuracy_score, classification_report, confusion_matrix, fbeta_score"
   ]
  },
  {
   "cell_type": "code",
   "execution_count": 3,
   "metadata": {},
   "outputs": [
    {
     "data": {
      "text/html": [
       "<div>\n",
       "<style scoped>\n",
       "    .dataframe tbody tr th:only-of-type {\n",
       "        vertical-align: middle;\n",
       "    }\n",
       "\n",
       "    .dataframe tbody tr th {\n",
       "        vertical-align: top;\n",
       "    }\n",
       "\n",
       "    .dataframe thead th {\n",
       "        text-align: right;\n",
       "    }\n",
       "</style>\n",
       "<table border=\"1\" class=\"dataframe\">\n",
       "  <thead>\n",
       "    <tr style=\"text-align: right;\">\n",
       "      <th></th>\n",
       "      <th>Unnamed: 0</th>\n",
       "      <th>loan_amnt</th>\n",
       "      <th>funded_amnt</th>\n",
       "      <th>int_rate</th>\n",
       "      <th>installment</th>\n",
       "      <th>grade</th>\n",
       "      <th>annual_inc</th>\n",
       "      <th>issue_d</th>\n",
       "      <th>dti</th>\n",
       "      <th>delinq_2yrs</th>\n",
       "      <th>inq_last_6mths</th>\n",
       "      <th>open_acc</th>\n",
       "      <th>pub_rec</th>\n",
       "      <th>revol_bal</th>\n",
       "      <th>revol_util</th>\n",
       "      <th>total_acc</th>\n",
       "      <th>term</th>\n",
       "      <th>emp_length_10+ years</th>\n",
       "      <th>emp_length_2 years</th>\n",
       "      <th>emp_length_3 years</th>\n",
       "      <th>emp_length_4 years</th>\n",
       "      <th>emp_length_5 years</th>\n",
       "      <th>emp_length_6 years</th>\n",
       "      <th>emp_length_7 years</th>\n",
       "      <th>emp_length_8 years</th>\n",
       "      <th>emp_length_9 years</th>\n",
       "      <th>emp_length_&lt; 1 year</th>\n",
       "      <th>emp_length_unknown</th>\n",
       "      <th>home_ownership_OTHER</th>\n",
       "      <th>home_ownership_OWN</th>\n",
       "      <th>home_ownership_RENT</th>\n",
       "      <th>verification_status_Source Verified</th>\n",
       "      <th>verification_status_Verified</th>\n",
       "      <th>purpose_credit_card</th>\n",
       "      <th>purpose_debt_consolidation</th>\n",
       "      <th>purpose_educational</th>\n",
       "      <th>purpose_home_improvement</th>\n",
       "      <th>purpose_house</th>\n",
       "      <th>purpose_major_purchase</th>\n",
       "      <th>purpose_medical</th>\n",
       "      <th>purpose_moving</th>\n",
       "      <th>purpose_other</th>\n",
       "      <th>purpose_renewable_energy</th>\n",
       "      <th>purpose_small_business</th>\n",
       "      <th>purpose_vacation</th>\n",
       "      <th>purpose_wedding</th>\n",
       "      <th>addr_state_AL</th>\n",
       "      <th>addr_state_AR</th>\n",
       "      <th>addr_state_AZ</th>\n",
       "      <th>addr_state_CA</th>\n",
       "      <th>addr_state_CO</th>\n",
       "      <th>addr_state_CT</th>\n",
       "      <th>addr_state_DC</th>\n",
       "      <th>addr_state_DE</th>\n",
       "      <th>addr_state_FL</th>\n",
       "      <th>addr_state_GA</th>\n",
       "      <th>addr_state_HI</th>\n",
       "      <th>addr_state_IA</th>\n",
       "      <th>addr_state_IL</th>\n",
       "      <th>addr_state_KS</th>\n",
       "      <th>addr_state_KY</th>\n",
       "      <th>addr_state_LA</th>\n",
       "      <th>addr_state_MA</th>\n",
       "      <th>addr_state_MD</th>\n",
       "      <th>addr_state_MI</th>\n",
       "      <th>addr_state_MN</th>\n",
       "      <th>addr_state_MO</th>\n",
       "      <th>addr_state_MS</th>\n",
       "      <th>addr_state_MT</th>\n",
       "      <th>addr_state_NC</th>\n",
       "      <th>addr_state_NH</th>\n",
       "      <th>addr_state_NJ</th>\n",
       "      <th>addr_state_NM</th>\n",
       "      <th>addr_state_NV</th>\n",
       "      <th>addr_state_NY</th>\n",
       "      <th>addr_state_OH</th>\n",
       "      <th>addr_state_OK</th>\n",
       "      <th>addr_state_OR</th>\n",
       "      <th>addr_state_PA</th>\n",
       "      <th>addr_state_RI</th>\n",
       "      <th>addr_state_SC</th>\n",
       "      <th>addr_state_SD</th>\n",
       "      <th>addr_state_TN</th>\n",
       "      <th>addr_state_TX</th>\n",
       "      <th>addr_state_UT</th>\n",
       "      <th>addr_state_VA</th>\n",
       "      <th>addr_state_VT</th>\n",
       "      <th>addr_state_WA</th>\n",
       "      <th>addr_state_WI</th>\n",
       "      <th>addr_state_WV</th>\n",
       "      <th>addr_state_WY</th>\n",
       "    </tr>\n",
       "  </thead>\n",
       "  <tbody>\n",
       "    <tr>\n",
       "      <th>0</th>\n",
       "      <td>0</td>\n",
       "      <td>-0.403061</td>\n",
       "      <td>-0.367347</td>\n",
       "      <td>-0.891304</td>\n",
       "      <td>-0.361449</td>\n",
       "      <td>-0.5</td>\n",
       "      <td>-0.7899</td>\n",
       "      <td>0.0</td>\n",
       "      <td>-0.400000</td>\n",
       "      <td>0.0</td>\n",
       "      <td>-1.0</td>\n",
       "      <td>-1.000000</td>\n",
       "      <td>0.0</td>\n",
       "      <td>-0.546581</td>\n",
       "      <td>-0.123932</td>\n",
       "      <td>-0.733333</td>\n",
       "      <td>0.0</td>\n",
       "      <td>0</td>\n",
       "      <td>0</td>\n",
       "      <td>0</td>\n",
       "      <td>0</td>\n",
       "      <td>0</td>\n",
       "      <td>1</td>\n",
       "      <td>0</td>\n",
       "      <td>0</td>\n",
       "      <td>0</td>\n",
       "      <td>0</td>\n",
       "      <td>0</td>\n",
       "      <td>0</td>\n",
       "      <td>0</td>\n",
       "      <td>0</td>\n",
       "      <td>0</td>\n",
       "      <td>1</td>\n",
       "      <td>0</td>\n",
       "      <td>1</td>\n",
       "      <td>0</td>\n",
       "      <td>0</td>\n",
       "      <td>0</td>\n",
       "      <td>0</td>\n",
       "      <td>0</td>\n",
       "      <td>0</td>\n",
       "      <td>0</td>\n",
       "      <td>0</td>\n",
       "      <td>0</td>\n",
       "      <td>0</td>\n",
       "      <td>0</td>\n",
       "      <td>0</td>\n",
       "      <td>0</td>\n",
       "      <td>0</td>\n",
       "      <td>1</td>\n",
       "      <td>0</td>\n",
       "      <td>0</td>\n",
       "      <td>0</td>\n",
       "      <td>0</td>\n",
       "      <td>0</td>\n",
       "      <td>0</td>\n",
       "      <td>0</td>\n",
       "      <td>0</td>\n",
       "      <td>0</td>\n",
       "      <td>0</td>\n",
       "      <td>0</td>\n",
       "      <td>0</td>\n",
       "      <td>0</td>\n",
       "      <td>0</td>\n",
       "      <td>0</td>\n",
       "      <td>0</td>\n",
       "      <td>0</td>\n",
       "      <td>0</td>\n",
       "      <td>0</td>\n",
       "      <td>0</td>\n",
       "      <td>0</td>\n",
       "      <td>0</td>\n",
       "      <td>0</td>\n",
       "      <td>0</td>\n",
       "      <td>0</td>\n",
       "      <td>0</td>\n",
       "      <td>0</td>\n",
       "      <td>0</td>\n",
       "      <td>0</td>\n",
       "      <td>0</td>\n",
       "      <td>0</td>\n",
       "      <td>0</td>\n",
       "      <td>0</td>\n",
       "      <td>0</td>\n",
       "      <td>0</td>\n",
       "      <td>0</td>\n",
       "      <td>0</td>\n",
       "      <td>0</td>\n",
       "      <td>0</td>\n",
       "      <td>0</td>\n",
       "      <td>0</td>\n",
       "    </tr>\n",
       "    <tr>\n",
       "      <th>1</th>\n",
       "      <td>1</td>\n",
       "      <td>-0.709184</td>\n",
       "      <td>-0.673469</td>\n",
       "      <td>0.894928</td>\n",
       "      <td>-0.663813</td>\n",
       "      <td>1.5</td>\n",
       "      <td>-1.1799</td>\n",
       "      <td>0.0</td>\n",
       "      <td>-0.436538</td>\n",
       "      <td>0.0</td>\n",
       "      <td>0.0</td>\n",
       "      <td>-1.000000</td>\n",
       "      <td>0.0</td>\n",
       "      <td>-0.478905</td>\n",
       "      <td>1.057692</td>\n",
       "      <td>-1.066667</td>\n",
       "      <td>0.0</td>\n",
       "      <td>0</td>\n",
       "      <td>0</td>\n",
       "      <td>0</td>\n",
       "      <td>0</td>\n",
       "      <td>0</td>\n",
       "      <td>0</td>\n",
       "      <td>0</td>\n",
       "      <td>0</td>\n",
       "      <td>0</td>\n",
       "      <td>1</td>\n",
       "      <td>0</td>\n",
       "      <td>0</td>\n",
       "      <td>0</td>\n",
       "      <td>1</td>\n",
       "      <td>0</td>\n",
       "      <td>1</td>\n",
       "      <td>0</td>\n",
       "      <td>1</td>\n",
       "      <td>0</td>\n",
       "      <td>0</td>\n",
       "      <td>0</td>\n",
       "      <td>0</td>\n",
       "      <td>0</td>\n",
       "      <td>0</td>\n",
       "      <td>0</td>\n",
       "      <td>0</td>\n",
       "      <td>0</td>\n",
       "      <td>0</td>\n",
       "      <td>0</td>\n",
       "      <td>0</td>\n",
       "      <td>0</td>\n",
       "      <td>0</td>\n",
       "      <td>1</td>\n",
       "      <td>0</td>\n",
       "      <td>0</td>\n",
       "      <td>0</td>\n",
       "      <td>0</td>\n",
       "      <td>0</td>\n",
       "      <td>0</td>\n",
       "      <td>0</td>\n",
       "      <td>0</td>\n",
       "      <td>0</td>\n",
       "      <td>0</td>\n",
       "      <td>0</td>\n",
       "      <td>0</td>\n",
       "      <td>0</td>\n",
       "      <td>0</td>\n",
       "      <td>0</td>\n",
       "      <td>0</td>\n",
       "      <td>0</td>\n",
       "      <td>0</td>\n",
       "      <td>0</td>\n",
       "      <td>0</td>\n",
       "      <td>0</td>\n",
       "      <td>0</td>\n",
       "      <td>0</td>\n",
       "      <td>0</td>\n",
       "      <td>0</td>\n",
       "      <td>0</td>\n",
       "      <td>0</td>\n",
       "      <td>0</td>\n",
       "      <td>0</td>\n",
       "      <td>0</td>\n",
       "      <td>0</td>\n",
       "      <td>0</td>\n",
       "      <td>0</td>\n",
       "      <td>0</td>\n",
       "      <td>0</td>\n",
       "      <td>0</td>\n",
       "      <td>0</td>\n",
       "      <td>0</td>\n",
       "      <td>0</td>\n",
       "      <td>0</td>\n",
       "      <td>0</td>\n",
       "    </tr>\n",
       "    <tr>\n",
       "      <th>2</th>\n",
       "      <td>2</td>\n",
       "      <td>-0.158163</td>\n",
       "      <td>-0.122449</td>\n",
       "      <td>-1.050725</td>\n",
       "      <td>-0.089012</td>\n",
       "      <td>-0.5</td>\n",
       "      <td>-0.1999</td>\n",
       "      <td>0.0</td>\n",
       "      <td>-0.566346</td>\n",
       "      <td>0.0</td>\n",
       "      <td>-1.0</td>\n",
       "      <td>0.000000</td>\n",
       "      <td>0.0</td>\n",
       "      <td>-0.121236</td>\n",
       "      <td>-0.732906</td>\n",
       "      <td>-0.266667</td>\n",
       "      <td>0.0</td>\n",
       "      <td>1</td>\n",
       "      <td>0</td>\n",
       "      <td>0</td>\n",
       "      <td>0</td>\n",
       "      <td>0</td>\n",
       "      <td>0</td>\n",
       "      <td>0</td>\n",
       "      <td>0</td>\n",
       "      <td>0</td>\n",
       "      <td>0</td>\n",
       "      <td>0</td>\n",
       "      <td>0</td>\n",
       "      <td>0</td>\n",
       "      <td>0</td>\n",
       "      <td>0</td>\n",
       "      <td>0</td>\n",
       "      <td>0</td>\n",
       "      <td>1</td>\n",
       "      <td>0</td>\n",
       "      <td>0</td>\n",
       "      <td>0</td>\n",
       "      <td>0</td>\n",
       "      <td>0</td>\n",
       "      <td>0</td>\n",
       "      <td>0</td>\n",
       "      <td>0</td>\n",
       "      <td>0</td>\n",
       "      <td>0</td>\n",
       "      <td>0</td>\n",
       "      <td>0</td>\n",
       "      <td>0</td>\n",
       "      <td>0</td>\n",
       "      <td>0</td>\n",
       "      <td>0</td>\n",
       "      <td>0</td>\n",
       "      <td>0</td>\n",
       "      <td>0</td>\n",
       "      <td>0</td>\n",
       "      <td>0</td>\n",
       "      <td>0</td>\n",
       "      <td>0</td>\n",
       "      <td>0</td>\n",
       "      <td>0</td>\n",
       "      <td>0</td>\n",
       "      <td>0</td>\n",
       "      <td>0</td>\n",
       "      <td>0</td>\n",
       "      <td>0</td>\n",
       "      <td>0</td>\n",
       "      <td>0</td>\n",
       "      <td>0</td>\n",
       "      <td>0</td>\n",
       "      <td>0</td>\n",
       "      <td>0</td>\n",
       "      <td>0</td>\n",
       "      <td>0</td>\n",
       "      <td>0</td>\n",
       "      <td>0</td>\n",
       "      <td>0</td>\n",
       "      <td>0</td>\n",
       "      <td>0</td>\n",
       "      <td>0</td>\n",
       "      <td>0</td>\n",
       "      <td>0</td>\n",
       "      <td>0</td>\n",
       "      <td>0</td>\n",
       "      <td>1</td>\n",
       "      <td>0</td>\n",
       "      <td>0</td>\n",
       "      <td>0</td>\n",
       "      <td>0</td>\n",
       "      <td>0</td>\n",
       "      <td>0</td>\n",
       "      <td>0</td>\n",
       "    </tr>\n",
       "    <tr>\n",
       "      <th>3</th>\n",
       "      <td>3</td>\n",
       "      <td>0.005102</td>\n",
       "      <td>0.040816</td>\n",
       "      <td>-0.782609</td>\n",
       "      <td>0.124841</td>\n",
       "      <td>-0.5</td>\n",
       "      <td>-0.6498</td>\n",
       "      <td>-1.0</td>\n",
       "      <td>-1.291346</td>\n",
       "      <td>0.0</td>\n",
       "      <td>-1.0</td>\n",
       "      <td>-0.166667</td>\n",
       "      <td>0.0</td>\n",
       "      <td>-0.672444</td>\n",
       "      <td>-1.051282</td>\n",
       "      <td>-0.466667</td>\n",
       "      <td>0.0</td>\n",
       "      <td>0</td>\n",
       "      <td>0</td>\n",
       "      <td>0</td>\n",
       "      <td>0</td>\n",
       "      <td>0</td>\n",
       "      <td>0</td>\n",
       "      <td>0</td>\n",
       "      <td>0</td>\n",
       "      <td>1</td>\n",
       "      <td>0</td>\n",
       "      <td>0</td>\n",
       "      <td>0</td>\n",
       "      <td>0</td>\n",
       "      <td>0</td>\n",
       "      <td>0</td>\n",
       "      <td>1</td>\n",
       "      <td>0</td>\n",
       "      <td>0</td>\n",
       "      <td>0</td>\n",
       "      <td>0</td>\n",
       "      <td>0</td>\n",
       "      <td>0</td>\n",
       "      <td>0</td>\n",
       "      <td>0</td>\n",
       "      <td>1</td>\n",
       "      <td>0</td>\n",
       "      <td>0</td>\n",
       "      <td>0</td>\n",
       "      <td>0</td>\n",
       "      <td>0</td>\n",
       "      <td>0</td>\n",
       "      <td>1</td>\n",
       "      <td>0</td>\n",
       "      <td>0</td>\n",
       "      <td>0</td>\n",
       "      <td>0</td>\n",
       "      <td>0</td>\n",
       "      <td>0</td>\n",
       "      <td>0</td>\n",
       "      <td>0</td>\n",
       "      <td>0</td>\n",
       "      <td>0</td>\n",
       "      <td>0</td>\n",
       "      <td>0</td>\n",
       "      <td>0</td>\n",
       "      <td>0</td>\n",
       "      <td>0</td>\n",
       "      <td>0</td>\n",
       "      <td>0</td>\n",
       "      <td>0</td>\n",
       "      <td>0</td>\n",
       "      <td>0</td>\n",
       "      <td>0</td>\n",
       "      <td>0</td>\n",
       "      <td>0</td>\n",
       "      <td>0</td>\n",
       "      <td>0</td>\n",
       "      <td>0</td>\n",
       "      <td>0</td>\n",
       "      <td>0</td>\n",
       "      <td>0</td>\n",
       "      <td>0</td>\n",
       "      <td>0</td>\n",
       "      <td>0</td>\n",
       "      <td>0</td>\n",
       "      <td>0</td>\n",
       "      <td>0</td>\n",
       "      <td>0</td>\n",
       "      <td>0</td>\n",
       "      <td>0</td>\n",
       "      <td>0</td>\n",
       "      <td>0</td>\n",
       "      <td>0</td>\n",
       "      <td>0</td>\n",
       "    </tr>\n",
       "    <tr>\n",
       "      <th>4</th>\n",
       "      <td>4</td>\n",
       "      <td>-0.505102</td>\n",
       "      <td>-0.469388</td>\n",
       "      <td>0.456522</td>\n",
       "      <td>-0.412665</td>\n",
       "      <td>0.5</td>\n",
       "      <td>-1.0299</td>\n",
       "      <td>-1.0</td>\n",
       "      <td>-0.535577</td>\n",
       "      <td>0.0</td>\n",
       "      <td>0.0</td>\n",
       "      <td>-0.833333</td>\n",
       "      <td>0.0</td>\n",
       "      <td>-0.393115</td>\n",
       "      <td>0.950855</td>\n",
       "      <td>-0.666667</td>\n",
       "      <td>0.0</td>\n",
       "      <td>0</td>\n",
       "      <td>0</td>\n",
       "      <td>0</td>\n",
       "      <td>0</td>\n",
       "      <td>0</td>\n",
       "      <td>0</td>\n",
       "      <td>0</td>\n",
       "      <td>0</td>\n",
       "      <td>0</td>\n",
       "      <td>1</td>\n",
       "      <td>0</td>\n",
       "      <td>0</td>\n",
       "      <td>0</td>\n",
       "      <td>1</td>\n",
       "      <td>1</td>\n",
       "      <td>0</td>\n",
       "      <td>0</td>\n",
       "      <td>1</td>\n",
       "      <td>0</td>\n",
       "      <td>0</td>\n",
       "      <td>0</td>\n",
       "      <td>0</td>\n",
       "      <td>0</td>\n",
       "      <td>0</td>\n",
       "      <td>0</td>\n",
       "      <td>0</td>\n",
       "      <td>0</td>\n",
       "      <td>0</td>\n",
       "      <td>0</td>\n",
       "      <td>0</td>\n",
       "      <td>0</td>\n",
       "      <td>0</td>\n",
       "      <td>1</td>\n",
       "      <td>0</td>\n",
       "      <td>0</td>\n",
       "      <td>0</td>\n",
       "      <td>0</td>\n",
       "      <td>0</td>\n",
       "      <td>0</td>\n",
       "      <td>0</td>\n",
       "      <td>0</td>\n",
       "      <td>0</td>\n",
       "      <td>0</td>\n",
       "      <td>0</td>\n",
       "      <td>0</td>\n",
       "      <td>0</td>\n",
       "      <td>0</td>\n",
       "      <td>0</td>\n",
       "      <td>0</td>\n",
       "      <td>0</td>\n",
       "      <td>0</td>\n",
       "      <td>0</td>\n",
       "      <td>0</td>\n",
       "      <td>0</td>\n",
       "      <td>0</td>\n",
       "      <td>0</td>\n",
       "      <td>0</td>\n",
       "      <td>0</td>\n",
       "      <td>0</td>\n",
       "      <td>0</td>\n",
       "      <td>0</td>\n",
       "      <td>0</td>\n",
       "      <td>0</td>\n",
       "      <td>0</td>\n",
       "      <td>0</td>\n",
       "      <td>0</td>\n",
       "      <td>0</td>\n",
       "      <td>0</td>\n",
       "      <td>0</td>\n",
       "      <td>0</td>\n",
       "      <td>0</td>\n",
       "      <td>0</td>\n",
       "      <td>0</td>\n",
       "      <td>0</td>\n",
       "    </tr>\n",
       "  </tbody>\n",
       "</table>\n",
       "</div>"
      ],
      "text/plain": [
       "   Unnamed: 0  loan_amnt  funded_amnt  int_rate  installment  grade  \\\n",
       "0           0  -0.403061    -0.367347 -0.891304    -0.361449   -0.5   \n",
       "1           1  -0.709184    -0.673469  0.894928    -0.663813    1.5   \n",
       "2           2  -0.158163    -0.122449 -1.050725    -0.089012   -0.5   \n",
       "3           3   0.005102     0.040816 -0.782609     0.124841   -0.5   \n",
       "4           4  -0.505102    -0.469388  0.456522    -0.412665    0.5   \n",
       "\n",
       "   annual_inc  issue_d       dti  delinq_2yrs  inq_last_6mths  open_acc  \\\n",
       "0     -0.7899      0.0 -0.400000          0.0            -1.0 -1.000000   \n",
       "1     -1.1799      0.0 -0.436538          0.0             0.0 -1.000000   \n",
       "2     -0.1999      0.0 -0.566346          0.0            -1.0  0.000000   \n",
       "3     -0.6498     -1.0 -1.291346          0.0            -1.0 -0.166667   \n",
       "4     -1.0299     -1.0 -0.535577          0.0             0.0 -0.833333   \n",
       "\n",
       "   pub_rec  revol_bal  revol_util  total_acc  term  emp_length_10+ years  \\\n",
       "0      0.0  -0.546581   -0.123932  -0.733333   0.0                     0   \n",
       "1      0.0  -0.478905    1.057692  -1.066667   0.0                     0   \n",
       "2      0.0  -0.121236   -0.732906  -0.266667   0.0                     1   \n",
       "3      0.0  -0.672444   -1.051282  -0.466667   0.0                     0   \n",
       "4      0.0  -0.393115    0.950855  -0.666667   0.0                     0   \n",
       "\n",
       "   emp_length_2 years  emp_length_3 years  emp_length_4 years  \\\n",
       "0                   0                   0                   0   \n",
       "1                   0                   0                   0   \n",
       "2                   0                   0                   0   \n",
       "3                   0                   0                   0   \n",
       "4                   0                   0                   0   \n",
       "\n",
       "   emp_length_5 years  emp_length_6 years  emp_length_7 years  \\\n",
       "0                   0                   1                   0   \n",
       "1                   0                   0                   0   \n",
       "2                   0                   0                   0   \n",
       "3                   0                   0                   0   \n",
       "4                   0                   0                   0   \n",
       "\n",
       "   emp_length_8 years  emp_length_9 years  emp_length_< 1 year  \\\n",
       "0                   0                   0                    0   \n",
       "1                   0                   0                    1   \n",
       "2                   0                   0                    0   \n",
       "3                   0                   1                    0   \n",
       "4                   0                   0                    1   \n",
       "\n",
       "   emp_length_unknown  home_ownership_OTHER  home_ownership_OWN  \\\n",
       "0                   0                     0                   0   \n",
       "1                   0                     0                   0   \n",
       "2                   0                     0                   0   \n",
       "3                   0                     0                   0   \n",
       "4                   0                     0                   0   \n",
       "\n",
       "   home_ownership_RENT  verification_status_Source Verified  \\\n",
       "0                    0                                    0   \n",
       "1                    1                                    0   \n",
       "2                    0                                    0   \n",
       "3                    0                                    0   \n",
       "4                    1                                    1   \n",
       "\n",
       "   verification_status_Verified  purpose_credit_card  \\\n",
       "0                             1                    0   \n",
       "1                             1                    0   \n",
       "2                             0                    0   \n",
       "3                             1                    0   \n",
       "4                             0                    0   \n",
       "\n",
       "   purpose_debt_consolidation  purpose_educational  purpose_home_improvement  \\\n",
       "0                           1                    0                         0   \n",
       "1                           1                    0                         0   \n",
       "2                           1                    0                         0   \n",
       "3                           0                    0                         0   \n",
       "4                           1                    0                         0   \n",
       "\n",
       "   purpose_house  purpose_major_purchase  purpose_medical  purpose_moving  \\\n",
       "0              0                       0                0               0   \n",
       "1              0                       0                0               0   \n",
       "2              0                       0                0               0   \n",
       "3              0                       0                0               0   \n",
       "4              0                       0                0               0   \n",
       "\n",
       "   purpose_other  purpose_renewable_energy  purpose_small_business  \\\n",
       "0              0                         0                       0   \n",
       "1              0                         0                       0   \n",
       "2              0                         0                       0   \n",
       "3              1                         0                       0   \n",
       "4              0                         0                       0   \n",
       "\n",
       "   purpose_vacation  purpose_wedding  addr_state_AL  addr_state_AR  \\\n",
       "0                 0                0              0              0   \n",
       "1                 0                0              0              0   \n",
       "2                 0                0              0              0   \n",
       "3                 0                0              0              0   \n",
       "4                 0                0              0              0   \n",
       "\n",
       "   addr_state_AZ  addr_state_CA  addr_state_CO  addr_state_CT  addr_state_DC  \\\n",
       "0              0              1              0              0              0   \n",
       "1              0              1              0              0              0   \n",
       "2              0              0              0              0              0   \n",
       "3              1              0              0              0              0   \n",
       "4              0              1              0              0              0   \n",
       "\n",
       "   addr_state_DE  addr_state_FL  addr_state_GA  addr_state_HI  addr_state_IA  \\\n",
       "0              0              0              0              0              0   \n",
       "1              0              0              0              0              0   \n",
       "2              0              0              0              0              0   \n",
       "3              0              0              0              0              0   \n",
       "4              0              0              0              0              0   \n",
       "\n",
       "   addr_state_IL  addr_state_KS  addr_state_KY  addr_state_LA  addr_state_MA  \\\n",
       "0              0              0              0              0              0   \n",
       "1              0              0              0              0              0   \n",
       "2              0              0              0              0              0   \n",
       "3              0              0              0              0              0   \n",
       "4              0              0              0              0              0   \n",
       "\n",
       "   addr_state_MD  addr_state_MI  addr_state_MN  addr_state_MO  addr_state_MS  \\\n",
       "0              0              0              0              0              0   \n",
       "1              0              0              0              0              0   \n",
       "2              0              0              0              0              0   \n",
       "3              0              0              0              0              0   \n",
       "4              0              0              0              0              0   \n",
       "\n",
       "   addr_state_MT  addr_state_NC  addr_state_NH  addr_state_NJ  addr_state_NM  \\\n",
       "0              0              0              0              0              0   \n",
       "1              0              0              0              0              0   \n",
       "2              0              0              0              0              0   \n",
       "3              0              0              0              0              0   \n",
       "4              0              0              0              0              0   \n",
       "\n",
       "   addr_state_NV  addr_state_NY  addr_state_OH  addr_state_OK  addr_state_OR  \\\n",
       "0              0              0              0              0              0   \n",
       "1              0              0              0              0              0   \n",
       "2              0              0              0              0              0   \n",
       "3              0              0              0              0              0   \n",
       "4              0              0              0              0              0   \n",
       "\n",
       "   addr_state_PA  addr_state_RI  addr_state_SC  addr_state_SD  addr_state_TN  \\\n",
       "0              0              0              0              0              0   \n",
       "1              0              0              0              0              0   \n",
       "2              0              0              0              0              0   \n",
       "3              0              0              0              0              0   \n",
       "4              0              0              0              0              0   \n",
       "\n",
       "   addr_state_TX  addr_state_UT  addr_state_VA  addr_state_VT  addr_state_WA  \\\n",
       "0              0              0              0              0              0   \n",
       "1              0              0              0              0              0   \n",
       "2              1              0              0              0              0   \n",
       "3              0              0              0              0              0   \n",
       "4              0              0              0              0              0   \n",
       "\n",
       "   addr_state_WI  addr_state_WV  addr_state_WY  \n",
       "0              0              0              0  \n",
       "1              0              0              0  \n",
       "2              0              0              0  \n",
       "3              0              0              0  \n",
       "4              0              0              0  "
      ]
     },
     "execution_count": 3,
     "metadata": {},
     "output_type": "execute_result"
    }
   ],
   "source": [
    "X_train = pd.read_csv('train_data_rescaled.csv')\n",
    "y_train = pd.read_csv('y_train.csv')\n",
    "X_train.head()"
   ]
  },
  {
   "cell_type": "code",
   "execution_count": 4,
   "metadata": {},
   "outputs": [],
   "source": [
    "X_train.drop(['Unnamed: 0'], inplace = True, axis = 1)\n",
    "y_train.drop('Unnamed: 0', inplace = True, axis = 1)"
   ]
  },
  {
   "cell_type": "markdown",
   "metadata": {},
   "source": [
    "### 3.2 Train-Test-Split for Training Data"
   ]
  },
  {
   "cell_type": "markdown",
   "metadata": {},
   "source": [
    "Since we have a large data set, the train data is split once again to have an evaluation dataset for the training data."
   ]
  },
  {
   "cell_type": "code",
   "execution_count": 5,
   "metadata": {},
   "outputs": [],
   "source": [
    "from sklearn.model_selection import train_test_split\n",
    "Xe_train, Xe_test, ye_train, ye_test = train_test_split(X_train, y_train, test_size = .2, random_state = 42, stratify = y_train)"
   ]
  },
  {
   "cell_type": "markdown",
   "metadata": {},
   "source": [
    "### 3.3 SMOTE "
   ]
  },
  {
   "cell_type": "markdown",
   "metadata": {},
   "source": [
    "The data is very imbalanced so we use the SMOTE (Synthetic Minority Oversampling Technique) method to address this issue. SMOTE synthesizes new datasets from the existing examples, oversampling the minority class (0 = charged off). "
   ]
  },
  {
   "cell_type": "code",
   "execution_count": 6,
   "metadata": {},
   "outputs": [
    {
     "name": "stdout",
     "output_type": "stream",
     "text": [
      "Collecting imbalanced-learn\n",
      "  Using cached imbalanced_learn-0.7.0-py3-none-any.whl (167 kB)\n",
      "Requirement already satisfied: scipy>=0.19.1 in /opt/anaconda3/envs/nf/lib/python3.6/site-packages (from imbalanced-learn) (1.5.2)\n",
      "Requirement already satisfied: joblib>=0.11 in /opt/anaconda3/envs/nf/lib/python3.6/site-packages (from imbalanced-learn) (0.16.0)\n",
      "Requirement already satisfied: scikit-learn>=0.23 in /opt/anaconda3/envs/nf/lib/python3.6/site-packages (from imbalanced-learn) (0.23.2)\n",
      "Requirement already satisfied: numpy>=1.13.3 in /opt/anaconda3/envs/nf/lib/python3.6/site-packages (from imbalanced-learn) (1.19.1)\n",
      "Requirement already satisfied: threadpoolctl>=2.0.0 in /opt/anaconda3/envs/nf/lib/python3.6/site-packages (from scikit-learn>=0.23->imbalanced-learn) (2.1.0)\n",
      "Installing collected packages: imbalanced-learn\n",
      "Successfully installed imbalanced-learn-0.7.0\n"
     ]
    }
   ],
   "source": [
    "!pip install imbalanced-learn"
   ]
  },
  {
   "cell_type": "code",
   "execution_count": 7,
   "metadata": {},
   "outputs": [],
   "source": [
    "import imblearn\n"
   ]
  },
  {
   "cell_type": "code",
   "execution_count": 8,
   "metadata": {},
   "outputs": [
    {
     "name": "stdout",
     "output_type": "stream",
     "text": [
      "Before OverSampling, counts of label '1': 16227\n",
      "Before OverSampling, counts of label '0': 2698 \n",
      "\n",
      "After OverSampling, the shape of train_X: (32454, 90)\n",
      "After OverSampling, the shape of train_y: (32454,) \n",
      "\n",
      "After OverSampling, counts of label '1': 16227\n",
      "After OverSampling, counts of label '0': 16227\n"
     ]
    }
   ],
   "source": [
    "from imblearn.over_sampling import SMOTE\n",
    "\n",
    "print(\"Before OverSampling, counts of label '1': {}\".format(sum(ye_train.loan_status==1)))\n",
    "print(\"Before OverSampling, counts of label '0': {} \\n\".format(sum(ye_train.loan_status==0)))\n",
    "\n",
    "sm = SMOTE(random_state=2)\n",
    "X_smo, y_smo = sm.fit_sample(Xe_train, ye_train.values.ravel())\n",
    "\n",
    "print('After OverSampling, the shape of train_X: {}'.format(X_smo.shape))\n",
    "print('After OverSampling, the shape of train_y: {} \\n'.format(y_smo.shape))\n",
    "\n",
    "print(\"After OverSampling, counts of label '1': {}\".format(sum(y_smo==1)))\n",
    "print(\"After OverSampling, counts of label '0': {}\".format(sum(y_smo==0)))"
   ]
  },
  {
   "cell_type": "markdown",
   "metadata": {},
   "source": [
    "### 3.4 Baseline Model: Dummy Classifier"
   ]
  },
  {
   "cell_type": "markdown",
   "metadata": {},
   "source": [
    "The dummy classifier uses simple classification rules and is therefore useful as a simple baseline to compare with other (real) classifiers. It is not used for 'real' modelling. Since it is a baseline model, the original data wihtout SMOTE are used."
   ]
  },
  {
   "cell_type": "code",
   "execution_count": 9,
   "metadata": {},
   "outputs": [
    {
     "name": "stdout",
     "output_type": "stream",
     "text": [
      "              precision    recall  f1-score   support\n",
      "\n",
      "         0.0       0.14      0.14      0.14       675\n",
      "         1.0       0.86      0.86      0.86      4057\n",
      "\n",
      "    accuracy                           0.76      4732\n",
      "   macro avg       0.50      0.50      0.50      4732\n",
      "weighted avg       0.76      0.76      0.76      4732\n",
      "\n",
      "F beta Score for both classes:\n",
      "0.76\n"
     ]
    },
    {
     "data": {
      "image/png": "[encoded data removed]",
      "text/plain": [
       "<Figure size 432x288 with 2 Axes>"
      ]
     },
     "metadata": {
      "needs_background": "light"
     },
     "output_type": "display_data"
    }
   ],
   "source": [
    "from sklearn.dummy import DummyClassifier\n",
    "#Define the Classifier and fit it to the train data\n",
    "dummy_clf = DummyClassifier(random_state = 2, strategy = 'stratified')\n",
    "dummy_clf.fit(Xe_train, ye_train)\n",
    "cv_results = cross_validate(dummy_clf, Xe_train, ye_train, cv=5, return_estimator = True)\n",
    "\n",
    "\n",
    "#Make predictions using cross-validation\n",
    "ye_pred = cross_val_predict(dummy_clf, Xe_test, ye_test, cv = 5)\n",
    "\n",
    "# Printing evaluation scores for the Dummy Classifier \n",
    "print(classification_report(ye_test, ye_pred))\n",
    "print('F beta Score for both classes:')\n",
    "print(fbeta_score(ye_test, ye_pred, beta = .2, average = 'weighted').round(2))\n",
    "sns.heatmap(confusion_matrix(ye_test, ye_pred), annot=True);"
   ]
  },
  {
   "cell_type": "markdown",
   "metadata": {},
   "source": [
    "Since the data is imbalanced, it does not make sense to interpret accuracy but to focus recall and precision (or the f1 score). Here one can see that the model is good at predicting whether a person will pay back. But, since this class is underrepresented, the model fails to predict incomplete paybacks which is bad since for an investor for he will lose his money. This results in a bad overall model performance."
   ]
  },
  {
   "cell_type": "markdown",
   "metadata": {},
   "source": [
    "### 3.5 Feature Selection"
   ]
  },
  {
   "cell_type": "markdown",
   "metadata": {},
   "source": [
    "We select the best 5 resp. 10 features by using the SelectKBest tool."
   ]
  },
  {
   "cell_type": "code",
   "execution_count": 10,
   "metadata": {},
   "outputs": [],
   "source": [
    "# Create and fit selector\n",
    "best_features = SelectKBest(mutual_info_classif, k=5)\n",
    "X_smo_5 = best_features.fit_transform(X_smo, np.array(y_smo).ravel())\n",
    "# Get columns to keep and create new dataframe with those only\n",
    "cols = best_features.get_support(indices=True)\n",
    "X_smo_5 = X_smo.iloc[:,cols]\n",
    "X_smo_5 = pd.DataFrame(X_smo_5)"
   ]
  },
  {
   "cell_type": "code",
   "execution_count": 11,
   "metadata": {},
   "outputs": [
    {
     "data": {
      "text/html": [
       "<div>\n",
       "<style scoped>\n",
       "    .dataframe tbody tr th:only-of-type {\n",
       "        vertical-align: middle;\n",
       "    }\n",
       "\n",
       "    .dataframe tbody tr th {\n",
       "        vertical-align: top;\n",
       "    }\n",
       "\n",
       "    .dataframe thead th {\n",
       "        text-align: right;\n",
       "    }\n",
       "</style>\n",
       "<table border=\"1\" class=\"dataframe\">\n",
       "  <thead>\n",
       "    <tr style=\"text-align: right;\">\n",
       "      <th></th>\n",
       "      <th>loan_amnt</th>\n",
       "      <th>int_rate</th>\n",
       "      <th>open_acc</th>\n",
       "      <th>revol_util</th>\n",
       "      <th>total_acc</th>\n",
       "    </tr>\n",
       "  </thead>\n",
       "  <tbody>\n",
       "    <tr>\n",
       "      <th>0</th>\n",
       "      <td>-0.607143</td>\n",
       "      <td>-0.213768</td>\n",
       "      <td>0.833333</td>\n",
       "      <td>0.688034</td>\n",
       "      <td>0.466667</td>\n",
       "    </tr>\n",
       "    <tr>\n",
       "      <th>1</th>\n",
       "      <td>1.025510</td>\n",
       "      <td>-0.891304</td>\n",
       "      <td>0.500000</td>\n",
       "      <td>-0.241453</td>\n",
       "      <td>0.666667</td>\n",
       "    </tr>\n",
       "    <tr>\n",
       "      <th>2</th>\n",
       "      <td>-0.709184</td>\n",
       "      <td>-0.125000</td>\n",
       "      <td>-1.000000</td>\n",
       "      <td>0.108974</td>\n",
       "      <td>-0.533333</td>\n",
       "    </tr>\n",
       "    <tr>\n",
       "      <th>3</th>\n",
       "      <td>-0.198980</td>\n",
       "      <td>-0.262681</td>\n",
       "      <td>-0.333333</td>\n",
       "      <td>0.230769</td>\n",
       "      <td>-0.600000</td>\n",
       "    </tr>\n",
       "    <tr>\n",
       "      <th>4</th>\n",
       "      <td>0.387755</td>\n",
       "      <td>-1.094203</td>\n",
       "      <td>1.000000</td>\n",
       "      <td>-0.914530</td>\n",
       "      <td>1.066667</td>\n",
       "    </tr>\n",
       "  </tbody>\n",
       "</table>\n",
       "</div>"
      ],
      "text/plain": [
       "   loan_amnt  int_rate  open_acc  revol_util  total_acc\n",
       "0  -0.607143 -0.213768  0.833333    0.688034   0.466667\n",
       "1   1.025510 -0.891304  0.500000   -0.241453   0.666667\n",
       "2  -0.709184 -0.125000 -1.000000    0.108974  -0.533333\n",
       "3  -0.198980 -0.262681 -0.333333    0.230769  -0.600000\n",
       "4   0.387755 -1.094203  1.000000   -0.914530   1.066667"
      ]
     },
     "execution_count": 11,
     "metadata": {},
     "output_type": "execute_result"
    }
   ],
   "source": [
    "X_smo_5.head()"
   ]
  },
  {
   "cell_type": "code",
   "execution_count": 12,
   "metadata": {},
   "outputs": [],
   "source": [
    "# Create and fit selector\n",
    "best_features = SelectKBest(mutual_info_classif, k=12)\n",
    "X_smo_10 = best_features.fit_transform(X_smo, np.array(y_smo).ravel())\n",
    "# Get columns to keep and create new dataframe with those only\n",
    "cols = best_features.get_support(indices=True)\n",
    "X_smo_10 = X_smo.iloc[:,cols]\n",
    "X_smo_10 = pd.DataFrame(X_smo_10)"
   ]
  },
  {
   "cell_type": "code",
   "execution_count": 13,
   "metadata": {},
   "outputs": [
    {
     "data": {
      "text/html": [
       "<div>\n",
       "<style scoped>\n",
       "    .dataframe tbody tr th:only-of-type {\n",
       "        vertical-align: middle;\n",
       "    }\n",
       "\n",
       "    .dataframe tbody tr th {\n",
       "        vertical-align: top;\n",
       "    }\n",
       "\n",
       "    .dataframe thead th {\n",
       "        text-align: right;\n",
       "    }\n",
       "</style>\n",
       "<table border=\"1\" class=\"dataframe\">\n",
       "  <thead>\n",
       "    <tr style=\"text-align: right;\">\n",
       "      <th></th>\n",
       "      <th>loan_amnt</th>\n",
       "      <th>funded_amnt</th>\n",
       "      <th>int_rate</th>\n",
       "      <th>installment</th>\n",
       "      <th>grade</th>\n",
       "      <th>annual_inc</th>\n",
       "      <th>issue_d</th>\n",
       "      <th>dti</th>\n",
       "      <th>inq_last_6mths</th>\n",
       "      <th>open_acc</th>\n",
       "      <th>revol_util</th>\n",
       "      <th>total_acc</th>\n",
       "    </tr>\n",
       "  </thead>\n",
       "  <tbody>\n",
       "    <tr>\n",
       "      <th>0</th>\n",
       "      <td>-0.607143</td>\n",
       "      <td>-0.571429</td>\n",
       "      <td>-0.213768</td>\n",
       "      <td>-0.572486</td>\n",
       "      <td>0.0</td>\n",
       "      <td>0.8001</td>\n",
       "      <td>0.0</td>\n",
       "      <td>-0.371154</td>\n",
       "      <td>-1.0</td>\n",
       "      <td>0.833333</td>\n",
       "      <td>0.688034</td>\n",
       "      <td>0.466667</td>\n",
       "    </tr>\n",
       "    <tr>\n",
       "      <th>1</th>\n",
       "      <td>1.025510</td>\n",
       "      <td>1.061224</td>\n",
       "      <td>-0.891304</td>\n",
       "      <td>0.449072</td>\n",
       "      <td>-0.5</td>\n",
       "      <td>-0.2999</td>\n",
       "      <td>-1.0</td>\n",
       "      <td>-1.131731</td>\n",
       "      <td>0.0</td>\n",
       "      <td>0.500000</td>\n",
       "      <td>-0.241453</td>\n",
       "      <td>0.666667</td>\n",
       "    </tr>\n",
       "    <tr>\n",
       "      <th>2</th>\n",
       "      <td>-0.709184</td>\n",
       "      <td>-0.673469</td>\n",
       "      <td>-0.125000</td>\n",
       "      <td>-0.695438</td>\n",
       "      <td>0.0</td>\n",
       "      <td>-0.7749</td>\n",
       "      <td>-2.0</td>\n",
       "      <td>0.119231</td>\n",
       "      <td>-1.0</td>\n",
       "      <td>-1.000000</td>\n",
       "      <td>0.108974</td>\n",
       "      <td>-0.533333</td>\n",
       "    </tr>\n",
       "    <tr>\n",
       "      <th>3</th>\n",
       "      <td>-0.198980</td>\n",
       "      <td>-0.163265</td>\n",
       "      <td>-0.262681</td>\n",
       "      <td>-0.073933</td>\n",
       "      <td>0.0</td>\n",
       "      <td>-0.6749</td>\n",
       "      <td>-1.0</td>\n",
       "      <td>0.975000</td>\n",
       "      <td>1.0</td>\n",
       "      <td>-0.333333</td>\n",
       "      <td>0.230769</td>\n",
       "      <td>-0.600000</td>\n",
       "    </tr>\n",
       "    <tr>\n",
       "      <th>4</th>\n",
       "      <td>0.387755</td>\n",
       "      <td>0.423469</td>\n",
       "      <td>-1.094203</td>\n",
       "      <td>0.533225</td>\n",
       "      <td>-0.5</td>\n",
       "      <td>1.2501</td>\n",
       "      <td>0.0</td>\n",
       "      <td>0.604808</td>\n",
       "      <td>1.0</td>\n",
       "      <td>1.000000</td>\n",
       "      <td>-0.914530</td>\n",
       "      <td>1.066667</td>\n",
       "    </tr>\n",
       "  </tbody>\n",
       "</table>\n",
       "</div>"
      ],
      "text/plain": [
       "   loan_amnt  funded_amnt  int_rate  installment  grade  annual_inc  issue_d  \\\n",
       "0  -0.607143    -0.571429 -0.213768    -0.572486    0.0      0.8001      0.0   \n",
       "1   1.025510     1.061224 -0.891304     0.449072   -0.5     -0.2999     -1.0   \n",
       "2  -0.709184    -0.673469 -0.125000    -0.695438    0.0     -0.7749     -2.0   \n",
       "3  -0.198980    -0.163265 -0.262681    -0.073933    0.0     -0.6749     -1.0   \n",
       "4   0.387755     0.423469 -1.094203     0.533225   -0.5      1.2501      0.0   \n",
       "\n",
       "        dti  inq_last_6mths  open_acc  revol_util  total_acc  \n",
       "0 -0.371154            -1.0  0.833333    0.688034   0.466667  \n",
       "1 -1.131731             0.0  0.500000   -0.241453   0.666667  \n",
       "2  0.119231            -1.0 -1.000000    0.108974  -0.533333  \n",
       "3  0.975000             1.0 -0.333333    0.230769  -0.600000  \n",
       "4  0.604808             1.0  1.000000   -0.914530   1.066667  "
      ]
     },
     "execution_count": 13,
     "metadata": {},
     "output_type": "execute_result"
    }
   ],
   "source": [
    "X_smo_10.head()"
   ]
  },
  {
   "cell_type": "markdown",
   "metadata": {},
   "source": [
    "issue_d is dropped because it has no predictive value for the target taking into account that an investor will only know the current year a borrower begs for money.\n",
    "loan_amnt is dropped because it's redundant to funded_amnt."
   ]
  },
  {
   "cell_type": "code",
   "execution_count": 14,
   "metadata": {},
   "outputs": [],
   "source": [
    "X_smo_10.drop(['issue_d', 'loan_amnt'], axis = 1, inplace = True)"
   ]
  },
  {
   "cell_type": "code",
   "execution_count": 15,
   "metadata": {},
   "outputs": [
    {
     "data": {
      "text/plain": [
       "Index(['funded_amnt', 'int_rate', 'installment', 'grade', 'annual_inc', 'dti',\n",
       "       'inq_last_6mths', 'open_acc', 'revol_util', 'total_acc'],\n",
       "      dtype='object')"
      ]
     },
     "execution_count": 15,
     "metadata": {},
     "output_type": "execute_result"
    }
   ],
   "source": [
    "X_smo_10.columns"
   ]
  },
  {
   "cell_type": "code",
   "execution_count": 16,
   "metadata": {},
   "outputs": [],
   "source": [
    "#Adapt the test data with the corresponding variables\n",
    "X_test_5 = Xe_test[['int_rate', 'loan_amnt', 'open_acc', 'revol_util', 'total_acc']]\n",
    "X_test_10 = Xe_test[['funded_amnt', 'int_rate', 'installment', 'grade', 'annual_inc', 'dti',\n",
    "       'inq_last_6mths', 'open_acc', 'revol_util', 'total_acc']]"
   ]
  },
  {
   "cell_type": "code",
   "execution_count": 17,
   "metadata": {},
   "outputs": [],
   "source": [
    "X_smo_5.to_csv('X_smo_5.csv')\n",
    "X_smo_10.to_csv('X_smo_10.csv')\n",
    "pd.DataFrame(y_smo).to_csv('y_smo.csv')"
   ]
  },
  {
   "cell_type": "markdown",
   "metadata": {},
   "source": [
    "### 3.6 Logistic Regression Model 5 Features"
   ]
  },
  {
   "cell_type": "code",
   "execution_count": 18,
   "metadata": {},
   "outputs": [],
   "source": [
    "from sklearn.linear_model import LogisticRegression"
   ]
  },
  {
   "cell_type": "code",
   "execution_count": 19,
   "metadata": {},
   "outputs": [],
   "source": [
    "log_clf = LogisticRegression(penalty = 'elasticnet', solver = 'saga', n_jobs = -1, random_state = 0)"
   ]
  },
  {
   "cell_type": "markdown",
   "metadata": {},
   "source": [
    "We will use GridSearchCV to identify the best logistic regression model."
   ]
  },
  {
   "cell_type": "code",
   "execution_count": 20,
   "metadata": {
    "collapsed": true,
    "jupyter": {
     "outputs_hidden": true
    }
   },
   "outputs": [
    {
     "name": "stdout",
     "output_type": "stream",
     "text": [
      "Fitting 5 folds for each of 10 candidates, totalling 50 fits\n",
      "[CV] max_iter=9168, l1_ratio=0, class_weight={0: 0.9, 1: 0.1}, C=0.1 .\n"
     ]
    },
    {
     "name": "stderr",
     "output_type": "stream",
     "text": [
      "[Parallel(n_jobs=1)]: Using backend SequentialBackend with 1 concurrent workers.\n"
     ]
    },
    {
     "name": "stdout",
     "output_type": "stream",
     "text": [
      "[CV]  max_iter=9168, l1_ratio=0, class_weight={0: 0.9, 1: 0.1}, C=0.1, score=0.500, total=   0.9s\n",
      "[CV] max_iter=9168, l1_ratio=0, class_weight={0: 0.9, 1: 0.1}, C=0.1 .\n"
     ]
    },
    {
     "name": "stderr",
     "output_type": "stream",
     "text": [
      "[Parallel(n_jobs=1)]: Done   1 out of   1 | elapsed:    0.9s remaining:    0.0s\n"
     ]
    },
    {
     "name": "stdout",
     "output_type": "stream",
     "text": [
      "[CV]  max_iter=9168, l1_ratio=0, class_weight={0: 0.9, 1: 0.1}, C=0.1, score=0.500, total=   0.5s\n",
      "[CV] max_iter=9168, l1_ratio=0, class_weight={0: 0.9, 1: 0.1}, C=0.1 .\n",
      "[CV]  max_iter=9168, l1_ratio=0, class_weight={0: 0.9, 1: 0.1}, C=0.1, score=0.500, total=   0.1s\n",
      "[CV] max_iter=9168, l1_ratio=0, class_weight={0: 0.9, 1: 0.1}, C=0.1 .\n",
      "[CV]  max_iter=9168, l1_ratio=0, class_weight={0: 0.9, 1: 0.1}, C=0.1, score=0.500, total=   0.1s\n",
      "[CV] max_iter=9168, l1_ratio=0, class_weight={0: 0.9, 1: 0.1}, C=0.1 .\n"
     ]
    },
    {
     "name": "stderr",
     "output_type": "stream",
     "text": [
      "[Parallel(n_jobs=1)]: Done   2 out of   2 | elapsed:    1.5s remaining:    0.0s\n",
      "[Parallel(n_jobs=1)]: Done   3 out of   3 | elapsed:    1.5s remaining:    0.0s\n",
      "[Parallel(n_jobs=1)]: Done   4 out of   4 | elapsed:    1.6s remaining:    0.0s\n"
     ]
    },
    {
     "name": "stdout",
     "output_type": "stream",
     "text": [
      "[CV]  max_iter=9168, l1_ratio=0, class_weight={0: 0.9, 1: 0.1}, C=0.1, score=0.500, total=   0.5s\n",
      "[CV] max_iter=8982, l1_ratio=0, class_weight={0: 0.9, 1: 0.1}, C=0.1 .\n",
      "[CV]  max_iter=8982, l1_ratio=0, class_weight={0: 0.9, 1: 0.1}, C=0.1, score=0.500, total=   0.5s\n",
      "[CV] max_iter=8982, l1_ratio=0, class_weight={0: 0.9, 1: 0.1}, C=0.1 .\n",
      "[CV]  max_iter=8982, l1_ratio=0, class_weight={0: 0.9, 1: 0.1}, C=0.1, score=0.500, total=   0.1s\n",
      "[CV] max_iter=8982, l1_ratio=0, class_weight={0: 0.9, 1: 0.1}, C=0.1 .\n",
      "[CV]  max_iter=8982, l1_ratio=0, class_weight={0: 0.9, 1: 0.1}, C=0.1, score=0.500, total=   0.1s\n",
      "[CV] max_iter=8982, l1_ratio=0, class_weight={0: 0.9, 1: 0.1}, C=0.1 .\n",
      "[CV]  max_iter=8982, l1_ratio=0, class_weight={0: 0.9, 1: 0.1}, C=0.1, score=0.500, total=   0.1s\n",
      "[CV] max_iter=8982, l1_ratio=0, class_weight={0: 0.9, 1: 0.1}, C=0.1 .\n",
      "[CV]  max_iter=8982, l1_ratio=0, class_weight={0: 0.9, 1: 0.1}, C=0.1, score=0.500, total=   0.1s\n",
      "[CV] max_iter=5196, l1_ratio=0, class_weight={0: 0.9, 1: 0.1}, C=0.1 .\n",
      "[CV]  max_iter=5196, l1_ratio=0, class_weight={0: 0.9, 1: 0.1}, C=0.1, score=0.500, total=   0.1s\n",
      "[CV] max_iter=5196, l1_ratio=0, class_weight={0: 0.9, 1: 0.1}, C=0.1 .\n",
      "[CV]  max_iter=5196, l1_ratio=0, class_weight={0: 0.9, 1: 0.1}, C=0.1, score=0.500, total=   0.1s\n",
      "[CV] max_iter=5196, l1_ratio=0, class_weight={0: 0.9, 1: 0.1}, C=0.1 .\n",
      "[CV]  max_iter=5196, l1_ratio=0, class_weight={0: 0.9, 1: 0.1}, C=0.1, score=0.500, total=   0.1s\n",
      "[CV] max_iter=5196, l1_ratio=0, class_weight={0: 0.9, 1: 0.1}, C=0.1 .\n",
      "[CV]  max_iter=5196, l1_ratio=0, class_weight={0: 0.9, 1: 0.1}, C=0.1, score=0.500, total=   0.1s\n",
      "[CV] max_iter=5196, l1_ratio=0, class_weight={0: 0.9, 1: 0.1}, C=0.1 .\n",
      "[CV]  max_iter=5196, l1_ratio=0, class_weight={0: 0.9, 1: 0.1}, C=0.1, score=0.500, total=   0.1s\n",
      "[CV] max_iter=1337, l1_ratio=0, class_weight={0: 0.9, 1: 0.1}, C=0.1 .\n",
      "[CV]  max_iter=1337, l1_ratio=0, class_weight={0: 0.9, 1: 0.1}, C=0.1, score=0.500, total=   0.1s\n",
      "[CV] max_iter=1337, l1_ratio=0, class_weight={0: 0.9, 1: 0.1}, C=0.1 .\n",
      "[CV]  max_iter=1337, l1_ratio=0, class_weight={0: 0.9, 1: 0.1}, C=0.1, score=0.500, total=   0.1s\n",
      "[CV] max_iter=1337, l1_ratio=0, class_weight={0: 0.9, 1: 0.1}, C=0.1 .\n",
      "[CV]  max_iter=1337, l1_ratio=0, class_weight={0: 0.9, 1: 0.1}, C=0.1, score=0.500, total=   0.1s\n",
      "[CV] max_iter=1337, l1_ratio=0, class_weight={0: 0.9, 1: 0.1}, C=0.1 .\n",
      "[CV]  max_iter=1337, l1_ratio=0, class_weight={0: 0.9, 1: 0.1}, C=0.1, score=0.500, total=   0.1s\n",
      "[CV] max_iter=1337, l1_ratio=0, class_weight={0: 0.9, 1: 0.1}, C=0.1 .\n",
      "[CV]  max_iter=1337, l1_ratio=0, class_weight={0: 0.9, 1: 0.1}, C=0.1, score=0.500, total=   0.1s\n",
      "[CV] max_iter=7114, l1_ratio=0, class_weight={0: 0.6, 1: 0.4}, C=0.1 .\n",
      "[CV]  max_iter=7114, l1_ratio=0, class_weight={0: 0.6, 1: 0.4}, C=0.1, score=0.603, total=   0.1s\n",
      "[CV] max_iter=7114, l1_ratio=0, class_weight={0: 0.6, 1: 0.4}, C=0.1 .\n",
      "[CV]  max_iter=7114, l1_ratio=0, class_weight={0: 0.6, 1: 0.4}, C=0.1, score=0.612, total=   0.1s\n",
      "[CV] max_iter=7114, l1_ratio=0, class_weight={0: 0.6, 1: 0.4}, C=0.1 .\n",
      "[CV]  max_iter=7114, l1_ratio=0, class_weight={0: 0.6, 1: 0.4}, C=0.1, score=0.607, total=   0.1s\n",
      "[CV] max_iter=7114, l1_ratio=0, class_weight={0: 0.6, 1: 0.4}, C=0.1 .\n",
      "[CV]  max_iter=7114, l1_ratio=0, class_weight={0: 0.6, 1: 0.4}, C=0.1, score=0.605, total=   0.1s\n",
      "[CV] max_iter=7114, l1_ratio=0, class_weight={0: 0.6, 1: 0.4}, C=0.1 .\n",
      "[CV]  max_iter=7114, l1_ratio=0, class_weight={0: 0.6, 1: 0.4}, C=0.1, score=0.605, total=   0.1s\n",
      "[CV] max_iter=8819, l1_ratio=0, class_weight={0: 0.3, 1: 0.7}, C=0.1 .\n",
      "[CV]  max_iter=8819, l1_ratio=0, class_weight={0: 0.3, 1: 0.7}, C=0.1, score=0.545, total=   0.1s\n",
      "[CV] max_iter=8819, l1_ratio=0, class_weight={0: 0.3, 1: 0.7}, C=0.1 .\n",
      "[CV]  max_iter=8819, l1_ratio=0, class_weight={0: 0.3, 1: 0.7}, C=0.1, score=0.539, total=   0.1s\n",
      "[CV] max_iter=8819, l1_ratio=0, class_weight={0: 0.3, 1: 0.7}, C=0.1 .\n",
      "[CV]  max_iter=8819, l1_ratio=0, class_weight={0: 0.3, 1: 0.7}, C=0.1, score=0.545, total=   0.1s\n",
      "[CV] max_iter=8819, l1_ratio=0, class_weight={0: 0.3, 1: 0.7}, C=0.1 .\n",
      "[CV]  max_iter=8819, l1_ratio=0, class_weight={0: 0.3, 1: 0.7}, C=0.1, score=0.542, total=   0.1s\n",
      "[CV] max_iter=8819, l1_ratio=0, class_weight={0: 0.3, 1: 0.7}, C=0.1 .\n",
      "[CV]  max_iter=8819, l1_ratio=0, class_weight={0: 0.3, 1: 0.7}, C=0.1, score=0.540, total=   0.1s\n",
      "[CV] max_iter=8659, l1_ratio=0, class_weight={0: 0.5, 1: 0.5}, C=0.1 .\n",
      "[CV]  max_iter=8659, l1_ratio=0, class_weight={0: 0.5, 1: 0.5}, C=0.1, score=0.620, total=   0.1s\n",
      "[CV] max_iter=8659, l1_ratio=0, class_weight={0: 0.5, 1: 0.5}, C=0.1 .\n",
      "[CV]  max_iter=8659, l1_ratio=0, class_weight={0: 0.5, 1: 0.5}, C=0.1, score=0.618, total=   0.1s\n",
      "[CV] max_iter=8659, l1_ratio=0, class_weight={0: 0.5, 1: 0.5}, C=0.1 .\n",
      "[CV]  max_iter=8659, l1_ratio=0, class_weight={0: 0.5, 1: 0.5}, C=0.1, score=0.622, total=   0.1s\n",
      "[CV] max_iter=8659, l1_ratio=0, class_weight={0: 0.5, 1: 0.5}, C=0.1 .\n",
      "[CV]  max_iter=8659, l1_ratio=0, class_weight={0: 0.5, 1: 0.5}, C=0.1, score=0.617, total=   0.1s\n",
      "[CV] max_iter=8659, l1_ratio=0, class_weight={0: 0.5, 1: 0.5}, C=0.1 .\n",
      "[CV]  max_iter=8659, l1_ratio=0, class_weight={0: 0.5, 1: 0.5}, C=0.1, score=0.620, total=   0.1s\n",
      "[CV] max_iter=4091, l1_ratio=0, class_weight={0: 0.7, 1: 0.3}, C=0.1 .\n",
      "[CV]  max_iter=4091, l1_ratio=0, class_weight={0: 0.7, 1: 0.3}, C=0.1, score=0.576, total=   0.1s\n",
      "[CV] max_iter=4091, l1_ratio=0, class_weight={0: 0.7, 1: 0.3}, C=0.1 .\n",
      "[CV]  max_iter=4091, l1_ratio=0, class_weight={0: 0.7, 1: 0.3}, C=0.1, score=0.581, total=   0.1s\n",
      "[CV] max_iter=4091, l1_ratio=0, class_weight={0: 0.7, 1: 0.3}, C=0.1 .\n",
      "[CV]  max_iter=4091, l1_ratio=0, class_weight={0: 0.7, 1: 0.3}, C=0.1, score=0.576, total=   0.1s\n",
      "[CV] max_iter=4091, l1_ratio=0, class_weight={0: 0.7, 1: 0.3}, C=0.1 .\n",
      "[CV]  max_iter=4091, l1_ratio=0, class_weight={0: 0.7, 1: 0.3}, C=0.1, score=0.578, total=   0.1s\n",
      "[CV] max_iter=4091, l1_ratio=0, class_weight={0: 0.7, 1: 0.3}, C=0.1 .\n",
      "[CV]  max_iter=4091, l1_ratio=0, class_weight={0: 0.7, 1: 0.3}, C=0.1, score=0.577, total=   0.1s\n",
      "[CV] max_iter=8498, l1_ratio=0, class_weight={0: 0.1, 1: 0.9}, C=0.1 .\n",
      "[CV]  max_iter=8498, l1_ratio=0, class_weight={0: 0.1, 1: 0.9}, C=0.1, score=0.500, total=   0.1s\n",
      "[CV] max_iter=8498, l1_ratio=0, class_weight={0: 0.1, 1: 0.9}, C=0.1 .\n",
      "[CV]  max_iter=8498, l1_ratio=0, class_weight={0: 0.1, 1: 0.9}, C=0.1, score=0.500, total=   0.1s\n",
      "[CV] max_iter=8498, l1_ratio=0, class_weight={0: 0.1, 1: 0.9}, C=0.1 .\n",
      "[CV]  max_iter=8498, l1_ratio=0, class_weight={0: 0.1, 1: 0.9}, C=0.1, score=0.500, total=   0.1s\n",
      "[CV] max_iter=8498, l1_ratio=0, class_weight={0: 0.1, 1: 0.9}, C=0.1 .\n",
      "[CV]  max_iter=8498, l1_ratio=0, class_weight={0: 0.1, 1: 0.9}, C=0.1, score=0.500, total=   0.1s\n",
      "[CV] max_iter=8498, l1_ratio=0, class_weight={0: 0.1, 1: 0.9}, C=0.1 .\n",
      "[CV]  max_iter=8498, l1_ratio=0, class_weight={0: 0.1, 1: 0.9}, C=0.1, score=0.500, total=   0.1s\n",
      "[CV] max_iter=1323, l1_ratio=0, class_weight={0: 0.2, 1: 0.8}, C=0.1 .\n",
      "[CV]  max_iter=1323, l1_ratio=0, class_weight={0: 0.2, 1: 0.8}, C=0.1, score=0.505, total=   0.1s\n",
      "[CV] max_iter=1323, l1_ratio=0, class_weight={0: 0.2, 1: 0.8}, C=0.1 .\n",
      "[CV]  max_iter=1323, l1_ratio=0, class_weight={0: 0.2, 1: 0.8}, C=0.1, score=0.501, total=   0.1s\n",
      "[CV] max_iter=1323, l1_ratio=0, class_weight={0: 0.2, 1: 0.8}, C=0.1 .\n",
      "[CV]  max_iter=1323, l1_ratio=0, class_weight={0: 0.2, 1: 0.8}, C=0.1, score=0.503, total=   0.1s\n",
      "[CV] max_iter=1323, l1_ratio=0, class_weight={0: 0.2, 1: 0.8}, C=0.1 .\n",
      "[CV]  max_iter=1323, l1_ratio=0, class_weight={0: 0.2, 1: 0.8}, C=0.1, score=0.503, total=   0.1s\n",
      "[CV] max_iter=1323, l1_ratio=0, class_weight={0: 0.2, 1: 0.8}, C=0.1 .\n",
      "[CV]  max_iter=1323, l1_ratio=0, class_weight={0: 0.2, 1: 0.8}, C=0.1, score=0.502, total=   0.1s\n"
     ]
    },
    {
     "name": "stderr",
     "output_type": "stream",
     "text": [
      "[Parallel(n_jobs=1)]: Done  50 out of  50 | elapsed:    5.6s finished\n"
     ]
    },
    {
     "data": {
      "text/plain": [
       "RandomizedSearchCV(cv=5,\n",
       "                   estimator=LogisticRegression(n_jobs=-1, penalty='elasticnet',\n",
       "                                                random_state=0, solver='saga'),\n",
       "                   param_distributions={'C': array([0.1]),\n",
       "                                        'class_weight': [{0: 0.1, 1: 0.9},\n",
       "                                                         {0: 0.2, 1: 0.8},\n",
       "                                                         {0: 0.3, 1: 0.7},\n",
       "                                                         {0: 0.4, 1: 0.6},\n",
       "                                                         {0: 0.5, 1: 0.5},\n",
       "                                                         {0: 0.6, 1: 0.4},\n",
       "                                                         {0: 0.7, 1: 0.3},\n",
       "                                                         {0: 0.8, 1: 0.2},\n",
       "                                                         {0: 0.85, 1: 0.15},\n",
       "                                                         {0: 0.9, 1: 0.1},\n",
       "                                                         {0: 0.95, 1: 0.05}],\n",
       "                                        'l1_ratio': array([0]),\n",
       "                                        'max_iter': array([1000, 1001, 1002, ..., 9997, 9998, 9999])},\n",
       "                   verbose=5)"
      ]
     },
     "execution_count": 20,
     "metadata": {},
     "output_type": "execute_result"
    }
   ],
   "source": [
    "from sklearn.model_selection import RandomizedSearchCV\n",
    "param_grid = {'C': np.arange(0.1,1),\n",
    "             'max_iter': np.arange(1000, 10000),\n",
    "             'l1_ratio': np.arange(0, 1), \n",
    "             'class_weight': [{0: 0.1,1:0.9}, {0:0.2,1:0.8}, {0:0.3,1:0.7}, {0:0.4,1:0.6}, \n",
    "                              {0:0.5,1:0.5}, {0:0.6,1:0.4}, {0:0.7,1:0.3}, {0: 0.8, 1:0.2}, {0: 0.85, 1:0.15}, \n",
    "                              {0: 0.9, 1:0.10}, {0: 0.95, 1: 0.05}]}\n",
    "grid = RandomizedSearchCV(log_clf, param_grid, cv = 5, verbose = 5)\n",
    "grid.fit(X_smo_5, y_smo)"
   ]
  },
  {
   "cell_type": "code",
   "execution_count": 21,
   "metadata": {},
   "outputs": [
    {
     "data": {
      "text/plain": [
       "{'max_iter': 8659, 'l1_ratio': 0, 'class_weight': {0: 0.5, 1: 0.5}, 'C': 0.1}"
      ]
     },
     "execution_count": 21,
     "metadata": {},
     "output_type": "execute_result"
    }
   ],
   "source": [
    "best_log_5 = grid.best_params_\n",
    "best_log_5"
   ]
  },
  {
   "cell_type": "markdown",
   "metadata": {},
   "source": [
    "Applying the best model to the data with 5 features:"
   ]
  },
  {
   "cell_type": "code",
   "execution_count": 22,
   "metadata": {},
   "outputs": [],
   "source": [
    "best_log_5 = LogisticRegression(C=0.1, class_weight= {0: 0.3, 1: 0.7}, l1_ratio=0, max_iter=8322,\n",
    "                   n_jobs=-1, penalty='elasticnet', random_state=0,\n",
    "                   solver='saga')\n",
    "best_log_5.fit(X_smo_5, y_smo)\n",
    "ye_pred = best_log_5.predict(X_test_5)"
   ]
  },
  {
   "cell_type": "code",
   "execution_count": 23,
   "metadata": {},
   "outputs": [
    {
     "name": "stdout",
     "output_type": "stream",
     "text": [
      "F beta Score for both classes:\n",
      "0.77\n"
     ]
    },
    {
     "data": {
      "image/png": "[encoded data removed]",
      "text/plain": [
       "<Figure size 432x288 with 2 Axes>"
      ]
     },
     "metadata": {
      "needs_background": "light"
     },
     "output_type": "display_data"
    }
   ],
   "source": [
    "print('F beta Score for both classes:')\n",
    "print(fbeta_score(ye_test, ye_pred, beta = .1, average = 'weighted').round(2))\n",
    "sns.heatmap(confusion_matrix(ye_test, ye_pred), annot=True);"
   ]
  },
  {
   "cell_type": "markdown",
   "metadata": {},
   "source": [
    "### 3.7 Logistic Regression Model 10 Features"
   ]
  },
  {
   "cell_type": "code",
   "execution_count": 24,
   "metadata": {
    "collapsed": true,
    "jupyter": {
     "outputs_hidden": true
    }
   },
   "outputs": [
    {
     "name": "stdout",
     "output_type": "stream",
     "text": [
      "Fitting 5 folds for each of 10 candidates, totalling 50 fits\n",
      "[CV] max_iter=8071, l1_ratio=0, class_weight={0: 0.95, 1: 0.05}, C=0.1 \n"
     ]
    },
    {
     "name": "stderr",
     "output_type": "stream",
     "text": [
      "[Parallel(n_jobs=1)]: Using backend SequentialBackend with 1 concurrent workers.\n"
     ]
    },
    {
     "name": "stdout",
     "output_type": "stream",
     "text": [
      "[CV]  max_iter=8071, l1_ratio=0, class_weight={0: 0.95, 1: 0.05}, C=0.1, score=0.501, total=   0.2s\n",
      "[CV] max_iter=8071, l1_ratio=0, class_weight={0: 0.95, 1: 0.05}, C=0.1 \n"
     ]
    },
    {
     "name": "stderr",
     "output_type": "stream",
     "text": [
      "[Parallel(n_jobs=1)]: Done   1 out of   1 | elapsed:    0.2s remaining:    0.0s\n"
     ]
    },
    {
     "name": "stdout",
     "output_type": "stream",
     "text": [
      "[CV]  max_iter=8071, l1_ratio=0, class_weight={0: 0.95, 1: 0.05}, C=0.1, score=0.500, total=   0.2s\n",
      "[CV] max_iter=8071, l1_ratio=0, class_weight={0: 0.95, 1: 0.05}, C=0.1 \n"
     ]
    },
    {
     "name": "stderr",
     "output_type": "stream",
     "text": [
      "[Parallel(n_jobs=1)]: Done   2 out of   2 | elapsed:    0.4s remaining:    0.0s\n"
     ]
    },
    {
     "name": "stdout",
     "output_type": "stream",
     "text": [
      "[CV]  max_iter=8071, l1_ratio=0, class_weight={0: 0.95, 1: 0.05}, C=0.1, score=0.501, total=   0.2s\n",
      "[CV] max_iter=8071, l1_ratio=0, class_weight={0: 0.95, 1: 0.05}, C=0.1 \n"
     ]
    },
    {
     "name": "stderr",
     "output_type": "stream",
     "text": [
      "[Parallel(n_jobs=1)]: Done   3 out of   3 | elapsed:    0.7s remaining:    0.0s\n"
     ]
    },
    {
     "name": "stdout",
     "output_type": "stream",
     "text": [
      "[CV]  max_iter=8071, l1_ratio=0, class_weight={0: 0.95, 1: 0.05}, C=0.1, score=0.501, total=   0.2s\n",
      "[CV] max_iter=8071, l1_ratio=0, class_weight={0: 0.95, 1: 0.05}, C=0.1 \n"
     ]
    },
    {
     "name": "stderr",
     "output_type": "stream",
     "text": [
      "[Parallel(n_jobs=1)]: Done   4 out of   4 | elapsed:    0.9s remaining:    0.0s\n"
     ]
    },
    {
     "name": "stdout",
     "output_type": "stream",
     "text": [
      "[CV]  max_iter=8071, l1_ratio=0, class_weight={0: 0.95, 1: 0.05}, C=0.1, score=0.500, total=   0.2s\n",
      "[CV] max_iter=2163, l1_ratio=0, class_weight={0: 0.95, 1: 0.05}, C=0.1 \n",
      "[CV]  max_iter=2163, l1_ratio=0, class_weight={0: 0.95, 1: 0.05}, C=0.1, score=0.501, total=   0.2s\n",
      "[CV] max_iter=2163, l1_ratio=0, class_weight={0: 0.95, 1: 0.05}, C=0.1 \n",
      "[CV]  max_iter=2163, l1_ratio=0, class_weight={0: 0.95, 1: 0.05}, C=0.1, score=0.500, total=   0.2s\n",
      "[CV] max_iter=2163, l1_ratio=0, class_weight={0: 0.95, 1: 0.05}, C=0.1 \n",
      "[CV]  max_iter=2163, l1_ratio=0, class_weight={0: 0.95, 1: 0.05}, C=0.1, score=0.501, total=   0.2s\n",
      "[CV] max_iter=2163, l1_ratio=0, class_weight={0: 0.95, 1: 0.05}, C=0.1 \n",
      "[CV]  max_iter=2163, l1_ratio=0, class_weight={0: 0.95, 1: 0.05}, C=0.1, score=0.501, total=   0.2s\n",
      "[CV] max_iter=2163, l1_ratio=0, class_weight={0: 0.95, 1: 0.05}, C=0.1 \n",
      "[CV]  max_iter=2163, l1_ratio=0, class_weight={0: 0.95, 1: 0.05}, C=0.1, score=0.500, total=   0.2s\n",
      "[CV] max_iter=8897, l1_ratio=0, class_weight={0: 0.5, 1: 0.5}, C=0.1 .\n",
      "[CV]  max_iter=8897, l1_ratio=0, class_weight={0: 0.5, 1: 0.5}, C=0.1, score=0.640, total=   0.2s\n",
      "[CV] max_iter=8897, l1_ratio=0, class_weight={0: 0.5, 1: 0.5}, C=0.1 .\n",
      "[CV]  max_iter=8897, l1_ratio=0, class_weight={0: 0.5, 1: 0.5}, C=0.1, score=0.654, total=   0.2s\n",
      "[CV] max_iter=8897, l1_ratio=0, class_weight={0: 0.5, 1: 0.5}, C=0.1 .\n",
      "[CV]  max_iter=8897, l1_ratio=0, class_weight={0: 0.5, 1: 0.5}, C=0.1, score=0.651, total=   0.2s\n",
      "[CV] max_iter=8897, l1_ratio=0, class_weight={0: 0.5, 1: 0.5}, C=0.1 .\n",
      "[CV]  max_iter=8897, l1_ratio=0, class_weight={0: 0.5, 1: 0.5}, C=0.1, score=0.648, total=   0.2s\n",
      "[CV] max_iter=8897, l1_ratio=0, class_weight={0: 0.5, 1: 0.5}, C=0.1 .\n",
      "[CV]  max_iter=8897, l1_ratio=0, class_weight={0: 0.5, 1: 0.5}, C=0.1, score=0.651, total=   0.2s\n",
      "[CV] max_iter=4846, l1_ratio=0, class_weight={0: 0.95, 1: 0.05}, C=0.1 \n",
      "[CV]  max_iter=4846, l1_ratio=0, class_weight={0: 0.95, 1: 0.05}, C=0.1, score=0.501, total=   0.2s\n",
      "[CV] max_iter=4846, l1_ratio=0, class_weight={0: 0.95, 1: 0.05}, C=0.1 \n",
      "[CV]  max_iter=4846, l1_ratio=0, class_weight={0: 0.95, 1: 0.05}, C=0.1, score=0.500, total=   0.2s\n",
      "[CV] max_iter=4846, l1_ratio=0, class_weight={0: 0.95, 1: 0.05}, C=0.1 \n",
      "[CV]  max_iter=4846, l1_ratio=0, class_weight={0: 0.95, 1: 0.05}, C=0.1, score=0.501, total=   0.2s\n",
      "[CV] max_iter=4846, l1_ratio=0, class_weight={0: 0.95, 1: 0.05}, C=0.1 \n",
      "[CV]  max_iter=4846, l1_ratio=0, class_weight={0: 0.95, 1: 0.05}, C=0.1, score=0.501, total=   0.2s\n",
      "[CV] max_iter=4846, l1_ratio=0, class_weight={0: 0.95, 1: 0.05}, C=0.1 \n",
      "[CV]  max_iter=4846, l1_ratio=0, class_weight={0: 0.95, 1: 0.05}, C=0.1, score=0.500, total=   0.2s\n",
      "[CV] max_iter=8462, l1_ratio=0, class_weight={0: 0.95, 1: 0.05}, C=0.1 \n",
      "[CV]  max_iter=8462, l1_ratio=0, class_weight={0: 0.95, 1: 0.05}, C=0.1, score=0.501, total=   0.2s\n",
      "[CV] max_iter=8462, l1_ratio=0, class_weight={0: 0.95, 1: 0.05}, C=0.1 \n",
      "[CV]  max_iter=8462, l1_ratio=0, class_weight={0: 0.95, 1: 0.05}, C=0.1, score=0.500, total=   0.2s\n",
      "[CV] max_iter=8462, l1_ratio=0, class_weight={0: 0.95, 1: 0.05}, C=0.1 \n",
      "[CV]  max_iter=8462, l1_ratio=0, class_weight={0: 0.95, 1: 0.05}, C=0.1, score=0.501, total=   0.2s\n",
      "[CV] max_iter=8462, l1_ratio=0, class_weight={0: 0.95, 1: 0.05}, C=0.1 \n",
      "[CV]  max_iter=8462, l1_ratio=0, class_weight={0: 0.95, 1: 0.05}, C=0.1, score=0.501, total=   0.2s\n",
      "[CV] max_iter=8462, l1_ratio=0, class_weight={0: 0.95, 1: 0.05}, C=0.1 \n",
      "[CV]  max_iter=8462, l1_ratio=0, class_weight={0: 0.95, 1: 0.05}, C=0.1, score=0.500, total=   0.2s\n",
      "[CV] max_iter=6765, l1_ratio=0, class_weight={0: 0.9, 1: 0.1}, C=0.1 .\n",
      "[CV]  max_iter=6765, l1_ratio=0, class_weight={0: 0.9, 1: 0.1}, C=0.1, score=0.504, total=   0.2s\n",
      "[CV] max_iter=6765, l1_ratio=0, class_weight={0: 0.9, 1: 0.1}, C=0.1 .\n",
      "[CV]  max_iter=6765, l1_ratio=0, class_weight={0: 0.9, 1: 0.1}, C=0.1, score=0.504, total=   0.2s\n",
      "[CV] max_iter=6765, l1_ratio=0, class_weight={0: 0.9, 1: 0.1}, C=0.1 .\n",
      "[CV]  max_iter=6765, l1_ratio=0, class_weight={0: 0.9, 1: 0.1}, C=0.1, score=0.504, total=   0.2s\n",
      "[CV] max_iter=6765, l1_ratio=0, class_weight={0: 0.9, 1: 0.1}, C=0.1 .\n",
      "[CV]  max_iter=6765, l1_ratio=0, class_weight={0: 0.9, 1: 0.1}, C=0.1, score=0.504, total=   0.2s\n",
      "[CV] max_iter=6765, l1_ratio=0, class_weight={0: 0.9, 1: 0.1}, C=0.1 .\n",
      "[CV]  max_iter=6765, l1_ratio=0, class_weight={0: 0.9, 1: 0.1}, C=0.1, score=0.504, total=   0.2s\n",
      "[CV] max_iter=7815, l1_ratio=0, class_weight={0: 0.7, 1: 0.3}, C=0.1 .\n",
      "[CV]  max_iter=7815, l1_ratio=0, class_weight={0: 0.7, 1: 0.3}, C=0.1, score=0.588, total=   0.2s\n",
      "[CV] max_iter=7815, l1_ratio=0, class_weight={0: 0.7, 1: 0.3}, C=0.1 .\n",
      "[CV]  max_iter=7815, l1_ratio=0, class_weight={0: 0.7, 1: 0.3}, C=0.1, score=0.599, total=   0.2s\n",
      "[CV] max_iter=7815, l1_ratio=0, class_weight={0: 0.7, 1: 0.3}, C=0.1 .\n",
      "[CV]  max_iter=7815, l1_ratio=0, class_weight={0: 0.7, 1: 0.3}, C=0.1, score=0.595, total=   0.2s\n",
      "[CV] max_iter=7815, l1_ratio=0, class_weight={0: 0.7, 1: 0.3}, C=0.1 .\n",
      "[CV]  max_iter=7815, l1_ratio=0, class_weight={0: 0.7, 1: 0.3}, C=0.1, score=0.597, total=   0.2s\n",
      "[CV] max_iter=7815, l1_ratio=0, class_weight={0: 0.7, 1: 0.3}, C=0.1 .\n",
      "[CV]  max_iter=7815, l1_ratio=0, class_weight={0: 0.7, 1: 0.3}, C=0.1, score=0.600, total=   0.2s\n",
      "[CV] max_iter=1899, l1_ratio=0, class_weight={0: 0.5, 1: 0.5}, C=0.1 .\n",
      "[CV]  max_iter=1899, l1_ratio=0, class_weight={0: 0.5, 1: 0.5}, C=0.1, score=0.640, total=   0.2s\n",
      "[CV] max_iter=1899, l1_ratio=0, class_weight={0: 0.5, 1: 0.5}, C=0.1 .\n",
      "[CV]  max_iter=1899, l1_ratio=0, class_weight={0: 0.5, 1: 0.5}, C=0.1, score=0.654, total=   0.2s\n",
      "[CV] max_iter=1899, l1_ratio=0, class_weight={0: 0.5, 1: 0.5}, C=0.1 .\n",
      "[CV]  max_iter=1899, l1_ratio=0, class_weight={0: 0.5, 1: 0.5}, C=0.1, score=0.651, total=   0.2s\n",
      "[CV] max_iter=1899, l1_ratio=0, class_weight={0: 0.5, 1: 0.5}, C=0.1 .\n",
      "[CV]  max_iter=1899, l1_ratio=0, class_weight={0: 0.5, 1: 0.5}, C=0.1, score=0.648, total=   0.2s\n",
      "[CV] max_iter=1899, l1_ratio=0, class_weight={0: 0.5, 1: 0.5}, C=0.1 .\n",
      "[CV]  max_iter=1899, l1_ratio=0, class_weight={0: 0.5, 1: 0.5}, C=0.1, score=0.651, total=   0.2s\n",
      "[CV] max_iter=6535, l1_ratio=0, class_weight={0: 0.1, 1: 0.9}, C=0.1 .\n",
      "[CV]  max_iter=6535, l1_ratio=0, class_weight={0: 0.1, 1: 0.9}, C=0.1, score=0.500, total=   0.2s\n",
      "[CV] max_iter=6535, l1_ratio=0, class_weight={0: 0.1, 1: 0.9}, C=0.1 .\n",
      "[CV]  max_iter=6535, l1_ratio=0, class_weight={0: 0.1, 1: 0.9}, C=0.1, score=0.500, total=   0.2s\n",
      "[CV] max_iter=6535, l1_ratio=0, class_weight={0: 0.1, 1: 0.9}, C=0.1 .\n",
      "[CV]  max_iter=6535, l1_ratio=0, class_weight={0: 0.1, 1: 0.9}, C=0.1, score=0.500, total=   0.2s\n",
      "[CV] max_iter=6535, l1_ratio=0, class_weight={0: 0.1, 1: 0.9}, C=0.1 .\n",
      "[CV]  max_iter=6535, l1_ratio=0, class_weight={0: 0.1, 1: 0.9}, C=0.1, score=0.500, total=   0.2s\n",
      "[CV] max_iter=6535, l1_ratio=0, class_weight={0: 0.1, 1: 0.9}, C=0.1 .\n",
      "[CV]  max_iter=6535, l1_ratio=0, class_weight={0: 0.1, 1: 0.9}, C=0.1, score=0.500, total=   0.2s\n",
      "[CV] max_iter=3324, l1_ratio=0, class_weight={0: 0.4, 1: 0.6}, C=0.1 .\n",
      "[CV]  max_iter=3324, l1_ratio=0, class_weight={0: 0.4, 1: 0.6}, C=0.1, score=0.623, total=   0.1s\n",
      "[CV] max_iter=3324, l1_ratio=0, class_weight={0: 0.4, 1: 0.6}, C=0.1 .\n",
      "[CV]  max_iter=3324, l1_ratio=0, class_weight={0: 0.4, 1: 0.6}, C=0.1, score=0.621, total=   0.2s\n",
      "[CV] max_iter=3324, l1_ratio=0, class_weight={0: 0.4, 1: 0.6}, C=0.1 .\n",
      "[CV]  max_iter=3324, l1_ratio=0, class_weight={0: 0.4, 1: 0.6}, C=0.1, score=0.623, total=   0.2s\n",
      "[CV] max_iter=3324, l1_ratio=0, class_weight={0: 0.4, 1: 0.6}, C=0.1 .\n",
      "[CV]  max_iter=3324, l1_ratio=0, class_weight={0: 0.4, 1: 0.6}, C=0.1, score=0.619, total=   0.2s\n",
      "[CV] max_iter=3324, l1_ratio=0, class_weight={0: 0.4, 1: 0.6}, C=0.1 .\n",
      "[CV]  max_iter=3324, l1_ratio=0, class_weight={0: 0.4, 1: 0.6}, C=0.1, score=0.617, total=   0.2s\n"
     ]
    },
    {
     "name": "stderr",
     "output_type": "stream",
     "text": [
      "[Parallel(n_jobs=1)]: Done  50 out of  50 | elapsed:   10.5s finished\n"
     ]
    },
    {
     "data": {
      "text/plain": [
       "RandomizedSearchCV(cv=5,\n",
       "                   estimator=LogisticRegression(n_jobs=-1, penalty='elasticnet',\n",
       "                                                random_state=0, solver='saga'),\n",
       "                   param_distributions={'C': array([0.1]),\n",
       "                                        'class_weight': [{0: 0.1, 1: 0.9},\n",
       "                                                         {0: 0.2, 1: 0.8},\n",
       "                                                         {0: 0.3, 1: 0.7},\n",
       "                                                         {0: 0.4, 1: 0.6},\n",
       "                                                         {0: 0.5, 1: 0.5},\n",
       "                                                         {0: 0.6, 1: 0.4},\n",
       "                                                         {0: 0.7, 1: 0.3},\n",
       "                                                         {0: 0.8, 1: 0.2},\n",
       "                                                         {0: 0.85, 1: 0.15},\n",
       "                                                         {0: 0.9, 1: 0.1},\n",
       "                                                         {0: 0.95, 1: 0.05}],\n",
       "                                        'l1_ratio': array([0]),\n",
       "                                        'max_iter': array([1000, 1001, 1002, ..., 9997, 9998, 9999])},\n",
       "                   verbose=5)"
      ]
     },
     "execution_count": 24,
     "metadata": {},
     "output_type": "execute_result"
    }
   ],
   "source": [
    "from sklearn.model_selection import RandomizedSearchCV\n",
    "param_grid = {'C': np.arange(0.1,1),\n",
    "             'max_iter': np.arange(1000, 10000),\n",
    "             'l1_ratio': np.arange(0, 1), \n",
    "             'class_weight': [{0: 0.1,1:0.9}, {0:0.2,1:0.8}, {0:0.3,1:0.7}, {0:0.4,1:0.6}, \n",
    "                              {0:0.5,1:0.5}, {0:0.6,1:0.4}, {0:0.7,1:0.3}, {0: 0.8, 1:0.2}, {0: 0.85, 1:0.15}, \n",
    "                              {0: 0.9, 1:0.10}, {0: 0.95, 1: 0.05}]}\n",
    "grid = RandomizedSearchCV(log_clf, param_grid, cv = 5, verbose = 5)\n",
    "grid.fit(X_smo_10, y_smo)\n"
   ]
  },
  {
   "cell_type": "code",
   "execution_count": 25,
   "metadata": {},
   "outputs": [
    {
     "data": {
      "text/plain": [
       "{'max_iter': 8897, 'l1_ratio': 0, 'class_weight': {0: 0.5, 1: 0.5}, 'C': 0.1}"
      ]
     },
     "execution_count": 25,
     "metadata": {},
     "output_type": "execute_result"
    }
   ],
   "source": [
    "best_log_10 = grid.best_params_\n",
    "best_log_10"
   ]
  },
  {
   "cell_type": "code",
   "execution_count": 26,
   "metadata": {},
   "outputs": [],
   "source": [
    "best_log_10 = LogisticRegression(C=0.1, class_weight={0: 0.5, 1: 0.5}, l1_ratio=0, max_iter=7812,\n",
    "                   n_jobs=-1, penalty='elasticnet', random_state=0,\n",
    "                   solver='saga')\n",
    "best_log_10.fit(X_smo_10, y_smo)\n",
    "ye_pred = best_log_10.predict(X_test_10)"
   ]
  },
  {
   "cell_type": "code",
   "execution_count": 27,
   "metadata": {},
   "outputs": [
    {
     "name": "stdout",
     "output_type": "stream",
     "text": [
      "F beta Score for both classes:\n",
      "0.82\n"
     ]
    }
   ],
   "source": [
    "print('F beta Score for both classes:')\n",
    "print(fbeta_score(ye_test, ye_pred, beta = .1, average = 'weighted').round(2))"
   ]
  },
  {
   "cell_type": "markdown",
   "metadata": {},
   "source": [
    "The model with more features is better. Next, we'll try a KNN."
   ]
  },
  {
   "cell_type": "markdown",
   "metadata": {},
   "source": [
    "### 3.8 K-Nearest-Neighbours 5 Features"
   ]
  },
  {
   "cell_type": "code",
   "execution_count": 28,
   "metadata": {},
   "outputs": [],
   "source": [
    "from sklearn.neighbors import KNeighborsClassifier\n",
    "knn_clf = KNeighborsClassifier(n_jobs = -1)"
   ]
  },
  {
   "cell_type": "markdown",
   "metadata": {},
   "source": [
    "Again, we use RandomizedSearchCV to find the best model."
   ]
  },
  {
   "cell_type": "code",
   "execution_count": 29,
   "metadata": {
    "collapsed": true,
    "jupyter": {
     "outputs_hidden": true
    }
   },
   "outputs": [
    {
     "name": "stdout",
     "output_type": "stream",
     "text": [
      "Fitting 5 folds for each of 10 candidates, totalling 50 fits\n",
      "[CV] weights=uniform, n_neighbors=5, metric=minkowski ................\n"
     ]
    },
    {
     "name": "stderr",
     "output_type": "stream",
     "text": [
      "[Parallel(n_jobs=1)]: Using backend SequentialBackend with 1 concurrent workers.\n"
     ]
    },
    {
     "name": "stdout",
     "output_type": "stream",
     "text": [
      "[CV]  weights=uniform, n_neighbors=5, metric=minkowski, score=0.730, total=   0.4s\n",
      "[CV] weights=uniform, n_neighbors=5, metric=minkowski ................\n"
     ]
    },
    {
     "name": "stderr",
     "output_type": "stream",
     "text": [
      "[Parallel(n_jobs=1)]: Done   1 out of   1 | elapsed:    0.4s remaining:    0.0s\n"
     ]
    },
    {
     "name": "stdout",
     "output_type": "stream",
     "text": [
      "[CV]  weights=uniform, n_neighbors=5, metric=minkowski, score=0.713, total=   0.3s\n",
      "[CV] weights=uniform, n_neighbors=5, metric=minkowski ................\n"
     ]
    },
    {
     "name": "stderr",
     "output_type": "stream",
     "text": [
      "[Parallel(n_jobs=1)]: Done   2 out of   2 | elapsed:    0.6s remaining:    0.0s\n"
     ]
    },
    {
     "name": "stdout",
     "output_type": "stream",
     "text": [
      "[CV]  weights=uniform, n_neighbors=5, metric=minkowski, score=0.715, total=   0.3s\n",
      "[CV] weights=uniform, n_neighbors=5, metric=minkowski ................\n"
     ]
    },
    {
     "name": "stderr",
     "output_type": "stream",
     "text": [
      "[Parallel(n_jobs=1)]: Done   3 out of   3 | elapsed:    0.9s remaining:    0.0s\n"
     ]
    },
    {
     "name": "stdout",
     "output_type": "stream",
     "text": [
      "[CV]  weights=uniform, n_neighbors=5, metric=minkowski, score=0.709, total=   0.3s\n",
      "[CV] weights=uniform, n_neighbors=5, metric=minkowski ................\n"
     ]
    },
    {
     "name": "stderr",
     "output_type": "stream",
     "text": [
      "[Parallel(n_jobs=1)]: Done   4 out of   4 | elapsed:    1.2s remaining:    0.0s\n"
     ]
    },
    {
     "name": "stdout",
     "output_type": "stream",
     "text": [
      "[CV]  weights=uniform, n_neighbors=5, metric=minkowski, score=0.712, total=   0.3s\n",
      "[CV] weights=distance, n_neighbors=10, metric=manhattan ..............\n",
      "[CV]  weights=distance, n_neighbors=10, metric=manhattan, score=0.770, total=   0.1s\n",
      "[CV] weights=distance, n_neighbors=10, metric=manhattan ..............\n",
      "[CV]  weights=distance, n_neighbors=10, metric=manhattan, score=0.755, total=   0.1s\n",
      "[CV] weights=distance, n_neighbors=10, metric=manhattan ..............\n",
      "[CV]  weights=distance, n_neighbors=10, metric=manhattan, score=0.756, total=   0.1s\n",
      "[CV] weights=distance, n_neighbors=10, metric=manhattan ..............\n",
      "[CV]  weights=distance, n_neighbors=10, metric=manhattan, score=0.750, total=   0.1s\n",
      "[CV] weights=distance, n_neighbors=10, metric=manhattan ..............\n",
      "[CV]  weights=distance, n_neighbors=10, metric=manhattan, score=0.758, total=   0.2s\n",
      "[CV] weights=distance, n_neighbors=10, metric=euclidean ..............\n",
      "[CV]  weights=distance, n_neighbors=10, metric=euclidean, score=0.756, total=   0.1s\n",
      "[CV] weights=distance, n_neighbors=10, metric=euclidean ..............\n",
      "[CV]  weights=distance, n_neighbors=10, metric=euclidean, score=0.730, total=   0.1s\n",
      "[CV] weights=distance, n_neighbors=10, metric=euclidean ..............\n",
      "[CV]  weights=distance, n_neighbors=10, metric=euclidean, score=0.730, total=   0.1s\n",
      "[CV] weights=distance, n_neighbors=10, metric=euclidean ..............\n",
      "[CV]  weights=distance, n_neighbors=10, metric=euclidean, score=0.727, total=   0.1s\n",
      "[CV] weights=distance, n_neighbors=10, metric=euclidean ..............\n",
      "[CV]  weights=distance, n_neighbors=10, metric=euclidean, score=0.733, total=   0.1s\n",
      "[CV] weights=distance, n_neighbors=5, metric=euclidean ...............\n",
      "[CV]  weights=distance, n_neighbors=5, metric=euclidean, score=0.757, total=   0.1s\n",
      "[CV] weights=distance, n_neighbors=5, metric=euclidean ...............\n",
      "[CV]  weights=distance, n_neighbors=5, metric=euclidean, score=0.731, total=   0.1s\n",
      "[CV] weights=distance, n_neighbors=5, metric=euclidean ...............\n",
      "[CV]  weights=distance, n_neighbors=5, metric=euclidean, score=0.737, total=   0.1s\n",
      "[CV] weights=distance, n_neighbors=5, metric=euclidean ...............\n",
      "[CV]  weights=distance, n_neighbors=5, metric=euclidean, score=0.732, total=   0.1s\n",
      "[CV] weights=distance, n_neighbors=5, metric=euclidean ...............\n",
      "[CV]  weights=distance, n_neighbors=5, metric=euclidean, score=0.731, total=   0.1s\n",
      "[CV] weights=uniform, n_neighbors=50, metric=euclidean ...............\n",
      "[CV]  weights=uniform, n_neighbors=50, metric=euclidean, score=0.640, total=   0.3s\n",
      "[CV] weights=uniform, n_neighbors=50, metric=euclidean ...............\n",
      "[CV]  weights=uniform, n_neighbors=50, metric=euclidean, score=0.656, total=   0.3s\n",
      "[CV] weights=uniform, n_neighbors=50, metric=euclidean ...............\n",
      "[CV]  weights=uniform, n_neighbors=50, metric=euclidean, score=0.656, total=   0.3s\n",
      "[CV] weights=uniform, n_neighbors=50, metric=euclidean ...............\n",
      "[CV]  weights=uniform, n_neighbors=50, metric=euclidean, score=0.653, total=   0.3s\n",
      "[CV] weights=uniform, n_neighbors=50, metric=euclidean ...............\n",
      "[CV]  weights=uniform, n_neighbors=50, metric=euclidean, score=0.668, total=   0.3s\n",
      "[CV] weights=uniform, n_neighbors=10, metric=minkowski ...............\n",
      "[CV]  weights=uniform, n_neighbors=10, metric=minkowski, score=0.694, total=   0.3s\n",
      "[CV] weights=uniform, n_neighbors=10, metric=minkowski ...............\n",
      "[CV]  weights=uniform, n_neighbors=10, metric=minkowski, score=0.690, total=   0.3s\n",
      "[CV] weights=uniform, n_neighbors=10, metric=minkowski ...............\n",
      "[CV]  weights=uniform, n_neighbors=10, metric=minkowski, score=0.689, total=   0.3s\n",
      "[CV] weights=uniform, n_neighbors=10, metric=minkowski ...............\n",
      "[CV]  weights=uniform, n_neighbors=10, metric=minkowski, score=0.685, total=   0.3s\n",
      "[CV] weights=uniform, n_neighbors=10, metric=minkowski ...............\n",
      "[CV]  weights=uniform, n_neighbors=10, metric=minkowski, score=0.692, total=   0.3s\n",
      "[CV] weights=uniform, n_neighbors=50, metric=minkowski ...............\n",
      "[CV]  weights=uniform, n_neighbors=50, metric=minkowski, score=0.640, total=   0.3s\n",
      "[CV] weights=uniform, n_neighbors=50, metric=minkowski ...............\n",
      "[CV]  weights=uniform, n_neighbors=50, metric=minkowski, score=0.656, total=   0.3s\n",
      "[CV] weights=uniform, n_neighbors=50, metric=minkowski ...............\n",
      "[CV]  weights=uniform, n_neighbors=50, metric=minkowski, score=0.656, total=   0.3s\n",
      "[CV] weights=uniform, n_neighbors=50, metric=minkowski ...............\n",
      "[CV]  weights=uniform, n_neighbors=50, metric=minkowski, score=0.653, total=   0.3s\n",
      "[CV] weights=uniform, n_neighbors=50, metric=minkowski ...............\n",
      "[CV]  weights=uniform, n_neighbors=50, metric=minkowski, score=0.668, total=   0.3s\n",
      "[CV] weights=uniform, n_neighbors=5, metric=euclidean ................\n",
      "[CV]  weights=uniform, n_neighbors=5, metric=euclidean, score=0.730, total=   0.2s\n",
      "[CV] weights=uniform, n_neighbors=5, metric=euclidean ................\n",
      "[CV]  weights=uniform, n_neighbors=5, metric=euclidean, score=0.713, total=   0.2s\n",
      "[CV] weights=uniform, n_neighbors=5, metric=euclidean ................\n",
      "[CV]  weights=uniform, n_neighbors=5, metric=euclidean, score=0.715, total=   0.2s\n",
      "[CV] weights=uniform, n_neighbors=5, metric=euclidean ................\n",
      "[CV]  weights=uniform, n_neighbors=5, metric=euclidean, score=0.709, total=   0.2s\n",
      "[CV] weights=uniform, n_neighbors=5, metric=euclidean ................\n",
      "[CV]  weights=uniform, n_neighbors=5, metric=euclidean, score=0.712, total=   0.2s\n",
      "[CV] weights=uniform, n_neighbors=100, metric=manhattan ..............\n",
      "[CV]  weights=uniform, n_neighbors=100, metric=manhattan, score=0.637, total=   0.5s\n",
      "[CV] weights=uniform, n_neighbors=100, metric=manhattan ..............\n",
      "[CV]  weights=uniform, n_neighbors=100, metric=manhattan, score=0.659, total=   0.5s\n",
      "[CV] weights=uniform, n_neighbors=100, metric=manhattan ..............\n",
      "[CV]  weights=uniform, n_neighbors=100, metric=manhattan, score=0.657, total=   0.6s\n",
      "[CV] weights=uniform, n_neighbors=100, metric=manhattan ..............\n",
      "[CV]  weights=uniform, n_neighbors=100, metric=manhattan, score=0.668, total=   0.6s\n",
      "[CV] weights=uniform, n_neighbors=100, metric=manhattan ..............\n",
      "[CV]  weights=uniform, n_neighbors=100, metric=manhattan, score=0.671, total=   0.7s\n",
      "[CV] weights=uniform, n_neighbors=50, metric=manhattan ...............\n",
      "[CV]  weights=uniform, n_neighbors=50, metric=manhattan, score=0.651, total=   0.5s\n",
      "[CV] weights=uniform, n_neighbors=50, metric=manhattan ...............\n",
      "[CV]  weights=uniform, n_neighbors=50, metric=manhattan, score=0.679, total=   0.4s\n",
      "[CV] weights=uniform, n_neighbors=50, metric=manhattan ...............\n",
      "[CV]  weights=uniform, n_neighbors=50, metric=manhattan, score=0.677, total=   0.4s\n",
      "[CV] weights=uniform, n_neighbors=50, metric=manhattan ...............\n",
      "[CV]  weights=uniform, n_neighbors=50, metric=manhattan, score=0.671, total=   0.4s\n",
      "[CV] weights=uniform, n_neighbors=50, metric=manhattan ...............\n",
      "[CV]  weights=uniform, n_neighbors=50, metric=manhattan, score=0.690, total=   0.4s\n"
     ]
    },
    {
     "name": "stderr",
     "output_type": "stream",
     "text": [
      "[Parallel(n_jobs=1)]: Done  50 out of  50 | elapsed:   14.0s finished\n"
     ]
    },
    {
     "data": {
      "text/plain": [
       "RandomizedSearchCV(cv=5, estimator=KNeighborsClassifier(n_jobs=-1),\n",
       "                   param_distributions={'metric': ['euclidean', 'manhattan',\n",
       "                                                   'minkowski'],\n",
       "                                        'n_neighbors': [5, 10, 50, 100],\n",
       "                                        'weights': ['uniform', 'distance']},\n",
       "                   verbose=5)"
      ]
     },
     "execution_count": 29,
     "metadata": {},
     "output_type": "execute_result"
    }
   ],
   "source": [
    "param_grid = {\n",
    "             'metric': ['euclidean', 'manhattan', 'minkowski'],\n",
    "             'weights': ['uniform','distance'],\n",
    "            'n_neighbors': [5, 10, 50, 100],}\n",
    "\n",
    "grid = RandomizedSearchCV(knn_clf, param_grid, cv = 5, verbose = 5)\n",
    "grid.fit(X_smo_5, y_smo)"
   ]
  },
  {
   "cell_type": "code",
   "execution_count": 30,
   "metadata": {},
   "outputs": [
    {
     "data": {
      "text/plain": [
       "{'weights': 'distance', 'n_neighbors': 10, 'metric': 'manhattan'}"
      ]
     },
     "execution_count": 30,
     "metadata": {},
     "output_type": "execute_result"
    }
   ],
   "source": [
    "best_knn_5 = grid.best_params_\n",
    "best_knn_5"
   ]
  },
  {
   "cell_type": "code",
   "execution_count": 31,
   "metadata": {},
   "outputs": [],
   "source": [
    "best_knn_5 = KNeighborsClassifier(n_jobs = -1, n_neighbors = 5, metric = 'manhattan', weights = 'uniform')\n",
    "best_knn_5.fit(X_smo_5, y_smo)\n",
    "ye_pred = best_knn_5.predict(X_test_5)"
   ]
  },
  {
   "cell_type": "code",
   "execution_count": 32,
   "metadata": {},
   "outputs": [
    {
     "name": "stdout",
     "output_type": "stream",
     "text": [
      "F beta Score for both classes:\n",
      "0.76\n"
     ]
    }
   ],
   "source": [
    "print('F beta Score for both classes:')\n",
    "print(fbeta_score(ye_test, ye_pred, beta = .2, average = 'weighted').round(2))"
   ]
  },
  {
   "cell_type": "markdown",
   "metadata": {},
   "source": [
    "Ok, that's nothing. Let's try our best 10 features."
   ]
  },
  {
   "cell_type": "markdown",
   "metadata": {},
   "source": [
    "### 3.9 K-Nearest-Neighbours 10 Features"
   ]
  },
  {
   "cell_type": "code",
   "execution_count": 33,
   "metadata": {
    "collapsed": true,
    "jupyter": {
     "outputs_hidden": true
    }
   },
   "outputs": [
    {
     "name": "stdout",
     "output_type": "stream",
     "text": [
      "Fitting 5 folds for each of 10 candidates, totalling 50 fits\n",
      "[CV] weights=uniform, n_neighbors=10, metric=minkowski ...............\n"
     ]
    },
    {
     "name": "stderr",
     "output_type": "stream",
     "text": [
      "[Parallel(n_jobs=1)]: Using backend SequentialBackend with 1 concurrent workers.\n"
     ]
    },
    {
     "name": "stdout",
     "output_type": "stream",
     "text": [
      "[CV]  weights=uniform, n_neighbors=10, metric=minkowski, score=0.730, total=   0.6s\n",
      "[CV] weights=uniform, n_neighbors=10, metric=minkowski ...............\n"
     ]
    },
    {
     "name": "stderr",
     "output_type": "stream",
     "text": [
      "[Parallel(n_jobs=1)]: Done   1 out of   1 | elapsed:    0.6s remaining:    0.0s\n"
     ]
    },
    {
     "name": "stdout",
     "output_type": "stream",
     "text": [
      "[CV]  weights=uniform, n_neighbors=10, metric=minkowski, score=0.746, total=   0.5s\n",
      "[CV] weights=uniform, n_neighbors=10, metric=minkowski ...............\n"
     ]
    },
    {
     "name": "stderr",
     "output_type": "stream",
     "text": [
      "[Parallel(n_jobs=1)]: Done   2 out of   2 | elapsed:    1.1s remaining:    0.0s\n"
     ]
    },
    {
     "name": "stdout",
     "output_type": "stream",
     "text": [
      "[CV]  weights=uniform, n_neighbors=10, metric=minkowski, score=0.733, total=   0.5s\n",
      "[CV] weights=uniform, n_neighbors=10, metric=minkowski ...............\n"
     ]
    },
    {
     "name": "stderr",
     "output_type": "stream",
     "text": [
      "[Parallel(n_jobs=1)]: Done   3 out of   3 | elapsed:    1.7s remaining:    0.0s\n"
     ]
    },
    {
     "name": "stdout",
     "output_type": "stream",
     "text": [
      "[CV]  weights=uniform, n_neighbors=10, metric=minkowski, score=0.739, total=   0.6s\n",
      "[CV] weights=uniform, n_neighbors=10, metric=minkowski ...............\n"
     ]
    },
    {
     "name": "stderr",
     "output_type": "stream",
     "text": [
      "[Parallel(n_jobs=1)]: Done   4 out of   4 | elapsed:    2.2s remaining:    0.0s\n"
     ]
    },
    {
     "name": "stdout",
     "output_type": "stream",
     "text": [
      "[CV]  weights=uniform, n_neighbors=10, metric=minkowski, score=0.738, total=   0.5s\n",
      "[CV] weights=uniform, n_neighbors=5, metric=minkowski ................\n",
      "[CV]  weights=uniform, n_neighbors=5, metric=minkowski, score=0.782, total=   0.5s\n",
      "[CV] weights=uniform, n_neighbors=5, metric=minkowski ................\n",
      "[CV]  weights=uniform, n_neighbors=5, metric=minkowski, score=0.793, total=   0.5s\n",
      "[CV] weights=uniform, n_neighbors=5, metric=minkowski ................\n",
      "[CV]  weights=uniform, n_neighbors=5, metric=minkowski, score=0.786, total=   0.5s\n",
      "[CV] weights=uniform, n_neighbors=5, metric=minkowski ................\n",
      "[CV]  weights=uniform, n_neighbors=5, metric=minkowski, score=0.793, total=   0.5s\n",
      "[CV] weights=uniform, n_neighbors=5, metric=minkowski ................\n",
      "[CV]  weights=uniform, n_neighbors=5, metric=minkowski, score=0.782, total=   0.5s\n",
      "[CV] weights=uniform, n_neighbors=100, metric=manhattan ..............\n",
      "[CV]  weights=uniform, n_neighbors=100, metric=manhattan, score=0.657, total=   1.2s\n",
      "[CV] weights=uniform, n_neighbors=100, metric=manhattan ..............\n",
      "[CV]  weights=uniform, n_neighbors=100, metric=manhattan, score=0.701, total=   1.2s\n",
      "[CV] weights=uniform, n_neighbors=100, metric=manhattan ..............\n",
      "[CV]  weights=uniform, n_neighbors=100, metric=manhattan, score=0.689, total=   1.4s\n",
      "[CV] weights=uniform, n_neighbors=100, metric=manhattan ..............\n",
      "[CV]  weights=uniform, n_neighbors=100, metric=manhattan, score=0.691, total=   1.5s\n",
      "[CV] weights=uniform, n_neighbors=100, metric=manhattan ..............\n",
      "[CV]  weights=uniform, n_neighbors=100, metric=manhattan, score=0.691, total=   1.3s\n",
      "[CV] weights=uniform, n_neighbors=10, metric=manhattan ...............\n",
      "[CV]  weights=uniform, n_neighbors=10, metric=manhattan, score=0.752, total=   0.7s\n",
      "[CV] weights=uniform, n_neighbors=10, metric=manhattan ...............\n",
      "[CV]  weights=uniform, n_neighbors=10, metric=manhattan, score=0.778, total=   0.8s\n",
      "[CV] weights=uniform, n_neighbors=10, metric=manhattan ...............\n",
      "[CV]  weights=uniform, n_neighbors=10, metric=manhattan, score=0.763, total=   0.8s\n",
      "[CV] weights=uniform, n_neighbors=10, metric=manhattan ...............\n",
      "[CV]  weights=uniform, n_neighbors=10, metric=manhattan, score=0.765, total=   0.8s\n",
      "[CV] weights=uniform, n_neighbors=10, metric=manhattan ...............\n",
      "[CV]  weights=uniform, n_neighbors=10, metric=manhattan, score=0.759, total=   0.8s\n",
      "[CV] weights=distance, n_neighbors=50, metric=euclidean ..............\n",
      "[CV]  weights=distance, n_neighbors=50, metric=euclidean, score=0.723, total=   0.6s\n",
      "[CV] weights=distance, n_neighbors=50, metric=euclidean ..............\n",
      "[CV]  weights=distance, n_neighbors=50, metric=euclidean, score=0.746, total=   0.6s\n",
      "[CV] weights=distance, n_neighbors=50, metric=euclidean ..............\n",
      "[CV]  weights=distance, n_neighbors=50, metric=euclidean, score=0.729, total=   0.8s\n",
      "[CV] weights=distance, n_neighbors=50, metric=euclidean ..............\n",
      "[CV]  weights=distance, n_neighbors=50, metric=euclidean, score=0.739, total=   0.6s\n",
      "[CV] weights=distance, n_neighbors=50, metric=euclidean ..............\n",
      "[CV]  weights=distance, n_neighbors=50, metric=euclidean, score=0.731, total=   0.7s\n",
      "[CV] weights=uniform, n_neighbors=50, metric=minkowski ...............\n",
      "[CV]  weights=uniform, n_neighbors=50, metric=minkowski, score=0.658, total=   0.8s\n",
      "[CV] weights=uniform, n_neighbors=50, metric=minkowski ...............\n",
      "[CV]  weights=uniform, n_neighbors=50, metric=minkowski, score=0.693, total=   0.8s\n",
      "[CV] weights=uniform, n_neighbors=50, metric=minkowski ...............\n",
      "[CV]  weights=uniform, n_neighbors=50, metric=minkowski, score=0.680, total=   0.7s\n",
      "[CV] weights=uniform, n_neighbors=50, metric=minkowski ...............\n",
      "[CV]  weights=uniform, n_neighbors=50, metric=minkowski, score=0.686, total=   0.8s\n",
      "[CV] weights=uniform, n_neighbors=50, metric=minkowski ...............\n",
      "[CV]  weights=uniform, n_neighbors=50, metric=minkowski, score=0.682, total=   0.7s\n",
      "[CV] weights=uniform, n_neighbors=50, metric=euclidean ...............\n",
      "[CV]  weights=uniform, n_neighbors=50, metric=euclidean, score=0.658, total=   0.8s\n",
      "[CV] weights=uniform, n_neighbors=50, metric=euclidean ...............\n",
      "[CV]  weights=uniform, n_neighbors=50, metric=euclidean, score=0.693, total=   0.7s\n",
      "[CV] weights=uniform, n_neighbors=50, metric=euclidean ...............\n",
      "[CV]  weights=uniform, n_neighbors=50, metric=euclidean, score=0.680, total=   0.8s\n",
      "[CV] weights=uniform, n_neighbors=50, metric=euclidean ...............\n",
      "[CV]  weights=uniform, n_neighbors=50, metric=euclidean, score=0.686, total=   0.7s\n",
      "[CV] weights=uniform, n_neighbors=50, metric=euclidean ...............\n",
      "[CV]  weights=uniform, n_neighbors=50, metric=euclidean, score=0.682, total=   0.8s\n",
      "[CV] weights=distance, n_neighbors=100, metric=manhattan .............\n",
      "[CV]  weights=distance, n_neighbors=100, metric=manhattan, score=0.722, total=   1.1s\n",
      "[CV] weights=distance, n_neighbors=100, metric=manhattan .............\n",
      "[CV]  weights=distance, n_neighbors=100, metric=manhattan, score=0.749, total=   1.2s\n",
      "[CV] weights=distance, n_neighbors=100, metric=manhattan .............\n",
      "[CV]  weights=distance, n_neighbors=100, metric=manhattan, score=0.736, total=   1.2s\n",
      "[CV] weights=distance, n_neighbors=100, metric=manhattan .............\n",
      "[CV]  weights=distance, n_neighbors=100, metric=manhattan, score=0.743, total=   1.1s\n",
      "[CV] weights=distance, n_neighbors=100, metric=manhattan .............\n",
      "[CV]  weights=distance, n_neighbors=100, metric=manhattan, score=0.743, total=   1.2s\n",
      "[CV] weights=uniform, n_neighbors=50, metric=manhattan ...............\n",
      "[CV]  weights=uniform, n_neighbors=50, metric=manhattan, score=0.676, total=   1.2s\n",
      "[CV] weights=uniform, n_neighbors=50, metric=manhattan ...............\n",
      "[CV]  weights=uniform, n_neighbors=50, metric=manhattan, score=0.713, total=   1.3s\n",
      "[CV] weights=uniform, n_neighbors=50, metric=manhattan ...............\n",
      "[CV]  weights=uniform, n_neighbors=50, metric=manhattan, score=0.716, total=   1.2s\n",
      "[CV] weights=uniform, n_neighbors=50, metric=manhattan ...............\n",
      "[CV]  weights=uniform, n_neighbors=50, metric=manhattan, score=0.709, total=   1.2s\n",
      "[CV] weights=uniform, n_neighbors=50, metric=manhattan ...............\n",
      "[CV]  weights=uniform, n_neighbors=50, metric=manhattan, score=0.713, total=   1.2s\n",
      "[CV] weights=distance, n_neighbors=5, metric=euclidean ...............\n",
      "[CV]  weights=distance, n_neighbors=5, metric=euclidean, score=0.805, total=   0.4s\n",
      "[CV] weights=distance, n_neighbors=5, metric=euclidean ...............\n",
      "[CV]  weights=distance, n_neighbors=5, metric=euclidean, score=0.809, total=   0.4s\n",
      "[CV] weights=distance, n_neighbors=5, metric=euclidean ...............\n",
      "[CV]  weights=distance, n_neighbors=5, metric=euclidean, score=0.796, total=   0.4s\n",
      "[CV] weights=distance, n_neighbors=5, metric=euclidean ...............\n",
      "[CV]  weights=distance, n_neighbors=5, metric=euclidean, score=0.806, total=   0.4s\n",
      "[CV] weights=distance, n_neighbors=5, metric=euclidean ...............\n",
      "[CV]  weights=distance, n_neighbors=5, metric=euclidean, score=0.794, total=   0.4s\n"
     ]
    },
    {
     "name": "stderr",
     "output_type": "stream",
     "text": [
      "[Parallel(n_jobs=1)]: Done  50 out of  50 | elapsed:   40.3s finished\n"
     ]
    },
    {
     "data": {
      "text/plain": [
       "{'weights': 'distance', 'n_neighbors': 5, 'metric': 'euclidean'}"
      ]
     },
     "execution_count": 33,
     "metadata": {},
     "output_type": "execute_result"
    }
   ],
   "source": [
    "param_grid = {\n",
    "             'metric': ['euclidean', 'manhattan', 'minkowski'],\n",
    "             'weights': ['uniform','distance'],\n",
    "            'n_neighbors': [5, 10, 50, 100],}\n",
    "\n",
    "grid = RandomizedSearchCV(knn_clf, param_grid, cv = 5, verbose= 5)\n",
    "grid.fit(X_smo_10, y_smo)\n",
    "best_knn_10 = grid.best_params_\n",
    "best_knn_10"
   ]
  },
  {
   "cell_type": "code",
   "execution_count": 34,
   "metadata": {},
   "outputs": [
    {
     "data": {
      "text/plain": [
       "{'weights': 'distance', 'n_neighbors': 5, 'metric': 'euclidean'}"
      ]
     },
     "execution_count": 34,
     "metadata": {},
     "output_type": "execute_result"
    }
   ],
   "source": [
    "best_knn_10 = grid.best_params_\n",
    "best_knn_10"
   ]
  },
  {
   "cell_type": "code",
   "execution_count": 35,
   "metadata": {},
   "outputs": [],
   "source": [
    "best_knn_10 = KNeighborsClassifier(n_jobs = -1, n_neighbors = 50, metric = 'manhattan', weights = 'distance')\n",
    "best_knn_10.fit(X_smo_10, y_smo)\n",
    "ye_pred = best_knn_10.predict(X_test_10)"
   ]
  },
  {
   "cell_type": "code",
   "execution_count": 36,
   "metadata": {},
   "outputs": [
    {
     "name": "stdout",
     "output_type": "stream",
     "text": [
      "F beta Score for both classes:\n",
      "0.8\n"
     ]
    }
   ],
   "source": [
    "print('F beta Score for both classes:')\n",
    "print(fbeta_score(ye_test, ye_pred, beta = .1, average = 'weighted').round(2))"
   ]
  },
  {
   "cell_type": "markdown",
   "metadata": {},
   "source": [
    "### 3.10 Ensemble: AdaBoost"
   ]
  },
  {
   "cell_type": "markdown",
   "metadata": {},
   "source": [
    "The best of the base models above, the logistic regression with 10 features are now boosted in the hope that this improves performance."
   ]
  },
  {
   "cell_type": "code",
   "execution_count": 37,
   "metadata": {},
   "outputs": [],
   "source": [
    "best_log = LogisticRegression(C=0.1, class_weight={0: 0.5, 1: 0.5}, l1_ratio=0, max_iter=7812,\n",
    "                   n_jobs=-1, penalty='elasticnet', random_state=0,\n",
    "                   solver='saga')\n",
    "best_log.fit(X_smo_10, y_smo)\n",
    "ye_pred = best_log.predict(X_test_10)"
   ]
  },
  {
   "cell_type": "code",
   "execution_count": 38,
   "metadata": {},
   "outputs": [],
   "source": [
    "from sklearn.ensemble import AdaBoostClassifier"
   ]
  },
  {
   "cell_type": "code",
   "execution_count": 39,
   "metadata": {
    "collapsed": true,
    "jupyter": {
     "outputs_hidden": true
    }
   },
   "outputs": [
    {
     "name": "stdout",
     "output_type": "stream",
     "text": [
      "Fitting 5 folds for each of 10 candidates, totalling 50 fits\n",
      "[CV] n_estimators=64, learning_rate=0.1 ..............................\n"
     ]
    },
    {
     "name": "stderr",
     "output_type": "stream",
     "text": [
      "[Parallel(n_jobs=1)]: Using backend SequentialBackend with 1 concurrent workers.\n"
     ]
    },
    {
     "name": "stdout",
     "output_type": "stream",
     "text": [
      "[CV] .. n_estimators=64, learning_rate=0.1, score=0.629, total=  18.6s\n",
      "[CV] n_estimators=64, learning_rate=0.1 ..............................\n"
     ]
    },
    {
     "name": "stderr",
     "output_type": "stream",
     "text": [
      "[Parallel(n_jobs=1)]: Done   1 out of   1 | elapsed:   18.6s remaining:    0.0s\n"
     ]
    },
    {
     "name": "stdout",
     "output_type": "stream",
     "text": [
      "[CV] .. n_estimators=64, learning_rate=0.1, score=0.642, total=  18.8s\n",
      "[CV] n_estimators=64, learning_rate=0.1 ..............................\n"
     ]
    },
    {
     "name": "stderr",
     "output_type": "stream",
     "text": [
      "[Parallel(n_jobs=1)]: Done   2 out of   2 | elapsed:   37.4s remaining:    0.0s\n"
     ]
    },
    {
     "name": "stdout",
     "output_type": "stream",
     "text": [
      "[CV] .. n_estimators=64, learning_rate=0.1, score=0.633, total=  18.2s\n",
      "[CV] n_estimators=64, learning_rate=0.1 ..............................\n"
     ]
    },
    {
     "name": "stderr",
     "output_type": "stream",
     "text": [
      "[Parallel(n_jobs=1)]: Done   3 out of   3 | elapsed:   55.6s remaining:    0.0s\n"
     ]
    },
    {
     "name": "stdout",
     "output_type": "stream",
     "text": [
      "[CV] .. n_estimators=64, learning_rate=0.1, score=0.634, total=  18.4s\n",
      "[CV] n_estimators=64, learning_rate=0.1 ..............................\n"
     ]
    },
    {
     "name": "stderr",
     "output_type": "stream",
     "text": [
      "[Parallel(n_jobs=1)]: Done   4 out of   4 | elapsed:  1.2min remaining:    0.0s\n"
     ]
    },
    {
     "name": "stdout",
     "output_type": "stream",
     "text": [
      "[CV] .. n_estimators=64, learning_rate=0.1, score=0.629, total=  19.5s\n",
      "[CV] n_estimators=7, learning_rate=0.1 ...............................\n",
      "[CV] ... n_estimators=7, learning_rate=0.1, score=0.625, total=   2.1s\n",
      "[CV] n_estimators=7, learning_rate=0.1 ...............................\n",
      "[CV] ... n_estimators=7, learning_rate=0.1, score=0.638, total=   2.2s\n",
      "[CV] n_estimators=7, learning_rate=0.1 ...............................\n",
      "[CV] ... n_estimators=7, learning_rate=0.1, score=0.631, total=   2.1s\n",
      "[CV] n_estimators=7, learning_rate=0.1 ...............................\n",
      "[CV] ... n_estimators=7, learning_rate=0.1, score=0.634, total=   2.1s\n",
      "[CV] n_estimators=7, learning_rate=0.1 ...............................\n",
      "[CV] ... n_estimators=7, learning_rate=0.1, score=0.629, total=   2.0s\n",
      "[CV] n_estimators=35, learning_rate=0.1 ..............................\n",
      "[CV] .. n_estimators=35, learning_rate=0.1, score=0.627, total=  10.5s\n",
      "[CV] n_estimators=35, learning_rate=0.1 ..............................\n",
      "[CV] .. n_estimators=35, learning_rate=0.1, score=0.641, total=  10.6s\n",
      "[CV] n_estimators=35, learning_rate=0.1 ..............................\n",
      "[CV] .. n_estimators=35, learning_rate=0.1, score=0.632, total=  10.6s\n",
      "[CV] n_estimators=35, learning_rate=0.1 ..............................\n",
      "[CV] .. n_estimators=35, learning_rate=0.1, score=0.636, total=  10.3s\n",
      "[CV] n_estimators=35, learning_rate=0.1 ..............................\n",
      "[CV] .. n_estimators=35, learning_rate=0.1, score=0.629, total=  10.6s\n",
      "[CV] n_estimators=47, learning_rate=0.1 ..............................\n",
      "[CV] .. n_estimators=47, learning_rate=0.1, score=0.628, total=  14.0s\n",
      "[CV] n_estimators=47, learning_rate=0.1 ..............................\n",
      "[CV] .. n_estimators=47, learning_rate=0.1, score=0.642, total=  13.7s\n",
      "[CV] n_estimators=47, learning_rate=0.1 ..............................\n",
      "[CV] .. n_estimators=47, learning_rate=0.1, score=0.633, total=  14.0s\n",
      "[CV] n_estimators=47, learning_rate=0.1 ..............................\n",
      "[CV] .. n_estimators=47, learning_rate=0.1, score=0.635, total=  13.3s\n",
      "[CV] n_estimators=47, learning_rate=0.1 ..............................\n",
      "[CV] .. n_estimators=47, learning_rate=0.1, score=0.628, total=  13.1s\n",
      "[CV] n_estimators=46, learning_rate=0.1 ..............................\n",
      "[CV] .. n_estimators=46, learning_rate=0.1, score=0.628, total=  12.2s\n",
      "[CV] n_estimators=46, learning_rate=0.1 ..............................\n",
      "[CV] .. n_estimators=46, learning_rate=0.1, score=0.642, total=  12.7s\n",
      "[CV] n_estimators=46, learning_rate=0.1 ..............................\n",
      "[CV] .. n_estimators=46, learning_rate=0.1, score=0.633, total=  12.6s\n",
      "[CV] n_estimators=46, learning_rate=0.1 ..............................\n",
      "[CV] .. n_estimators=46, learning_rate=0.1, score=0.635, total=  12.7s\n",
      "[CV] n_estimators=46, learning_rate=0.1 ..............................\n",
      "[CV] .. n_estimators=46, learning_rate=0.1, score=0.628, total=  12.9s\n",
      "[CV] n_estimators=87, learning_rate=0.1 ..............................\n",
      "[CV] .. n_estimators=87, learning_rate=0.1, score=0.629, total=  24.2s\n",
      "[CV] n_estimators=87, learning_rate=0.1 ..............................\n",
      "[CV] .. n_estimators=87, learning_rate=0.1, score=0.641, total=  24.1s\n",
      "[CV] n_estimators=87, learning_rate=0.1 ..............................\n",
      "[CV] .. n_estimators=87, learning_rate=0.1, score=0.633, total=  24.2s\n",
      "[CV] n_estimators=87, learning_rate=0.1 ..............................\n",
      "[CV] .. n_estimators=87, learning_rate=0.1, score=0.632, total=  24.2s\n",
      "[CV] n_estimators=87, learning_rate=0.1 ..............................\n",
      "[CV] .. n_estimators=87, learning_rate=0.1, score=0.630, total=  24.3s\n",
      "[CV] n_estimators=67, learning_rate=0.1 ..............................\n",
      "[CV] .. n_estimators=67, learning_rate=0.1, score=0.629, total=  18.5s\n",
      "[CV] n_estimators=67, learning_rate=0.1 ..............................\n",
      "[CV] .. n_estimators=67, learning_rate=0.1, score=0.642, total=  18.7s\n",
      "[CV] n_estimators=67, learning_rate=0.1 ..............................\n",
      "[CV] .. n_estimators=67, learning_rate=0.1, score=0.633, total=  18.5s\n",
      "[CV] n_estimators=67, learning_rate=0.1 ..............................\n",
      "[CV] .. n_estimators=67, learning_rate=0.1, score=0.632, total=  18.6s\n",
      "[CV] n_estimators=67, learning_rate=0.1 ..............................\n",
      "[CV] .. n_estimators=67, learning_rate=0.1, score=0.629, total=  19.6s\n",
      "[CV] n_estimators=138, learning_rate=0.1 .............................\n",
      "[CV] . n_estimators=138, learning_rate=0.1, score=0.632, total=  49.2s\n",
      "[CV] n_estimators=138, learning_rate=0.1 .............................\n",
      "[CV] . n_estimators=138, learning_rate=0.1, score=0.643, total=  42.4s\n",
      "[CV] n_estimators=138, learning_rate=0.1 .............................\n",
      "[CV] . n_estimators=138, learning_rate=0.1, score=0.633, total=  41.9s\n",
      "[CV] n_estimators=138, learning_rate=0.1 .............................\n",
      "[CV] . n_estimators=138, learning_rate=0.1, score=0.630, total=  40.8s\n",
      "[CV] n_estimators=138, learning_rate=0.1 .............................\n",
      "[CV] . n_estimators=138, learning_rate=0.1, score=0.630, total=  41.3s\n",
      "[CV] n_estimators=10, learning_rate=0.1 ..............................\n",
      "[CV] .. n_estimators=10, learning_rate=0.1, score=0.625, total=   3.0s\n",
      "[CV] n_estimators=10, learning_rate=0.1 ..............................\n",
      "[CV] .. n_estimators=10, learning_rate=0.1, score=0.638, total=   3.2s\n",
      "[CV] n_estimators=10, learning_rate=0.1 ..............................\n",
      "[CV] .. n_estimators=10, learning_rate=0.1, score=0.631, total=   3.2s\n",
      "[CV] n_estimators=10, learning_rate=0.1 ..............................\n",
      "[CV] .. n_estimators=10, learning_rate=0.1, score=0.635, total=   3.2s\n",
      "[CV] n_estimators=10, learning_rate=0.1 ..............................\n",
      "[CV] .. n_estimators=10, learning_rate=0.1, score=0.629, total=   2.8s\n",
      "[CV] n_estimators=113, learning_rate=0.1 .............................\n",
      "[CV] . n_estimators=113, learning_rate=0.1, score=0.630, total=  31.5s\n",
      "[CV] n_estimators=113, learning_rate=0.1 .............................\n",
      "[CV] . n_estimators=113, learning_rate=0.1, score=0.641, total=  31.8s\n",
      "[CV] n_estimators=113, learning_rate=0.1 .............................\n",
      "[CV] . n_estimators=113, learning_rate=0.1, score=0.633, total=  34.0s\n",
      "[CV] n_estimators=113, learning_rate=0.1 .............................\n",
      "[CV] . n_estimators=113, learning_rate=0.1, score=0.631, total=  34.8s\n",
      "[CV] n_estimators=113, learning_rate=0.1 .............................\n",
      "[CV] . n_estimators=113, learning_rate=0.1, score=0.629, total=  35.0s\n"
     ]
    },
    {
     "name": "stderr",
     "output_type": "stream",
     "text": [
      "[Parallel(n_jobs=1)]: Done  50 out of  50 | elapsed: 15.0min finished\n"
     ]
    },
    {
     "data": {
      "text/plain": [
       "RandomizedSearchCV(estimator=AdaBoostClassifier(base_estimator=LogisticRegression(C=0.1,\n",
       "                                                                                  class_weight={0: 0.5,\n",
       "                                                                                                1: 0.5},\n",
       "                                                                                  l1_ratio=0,\n",
       "                                                                                  max_iter=7812,\n",
       "                                                                                  n_jobs=-1,\n",
       "                                                                                  penalty='elasticnet',\n",
       "                                                                                  random_state=0,\n",
       "                                                                                  solver='saga')),\n",
       "                   param_distributions={'learning_rate': array([0.1]),\n",
       "                                        'n_estimators': array([  1,   2,   3,   4,   5,   6,   7,   8,   9,  10,  11,  12,  13,\n",
       "        14,  15,  16,  17,  18,  19,  20,  21,  22,  23,  24,  25,  26,\n",
       "        27,  28,  2...\n",
       "        53,  54,  55,  56,  57,  58,  59,  60,  61,  62,  63,  64,  65,\n",
       "        66,  67,  68,  69,  70,  71,  72,  73,  74,  75,  76,  77,  78,\n",
       "        79,  80,  81,  82,  83,  84,  85,  86,  87,  88,  89,  90,  91,\n",
       "        92,  93,  94,  95,  96,  97,  98,  99, 100, 101, 102, 103, 104,\n",
       "       105, 106, 107, 108, 109, 110, 111, 112, 113, 114, 115, 116, 117,\n",
       "       118, 119, 120, 121, 122, 123, 124, 125, 126, 127, 128, 129, 130,\n",
       "       131, 132, 133, 134, 135, 136, 137, 138, 139, 140, 141, 142, 143,\n",
       "       144, 145, 146, 147, 148, 149])},\n",
       "                   verbose=5)"
      ]
     },
     "execution_count": 39,
     "metadata": {},
     "output_type": "execute_result"
    }
   ],
   "source": [
    "from sklearn.metrics import make_scorer \n",
    "\n",
    "clf_boost = AdaBoostClassifier(base_estimator=best_log) \n",
    "\n",
    "param_grid = {'n_estimators':np.arange(1, 150),                \n",
    "              'learning_rate':np.arange(0.1, 1),                          \n",
    "             } \n",
    "grid = RandomizedSearchCV(clf_boost, param_grid, verbose = 5) \n",
    "grid.fit(X_smo_10, y_smo)\n"
   ]
  },
  {
   "cell_type": "code",
   "execution_count": 40,
   "metadata": {},
   "outputs": [
    {
     "data": {
      "text/plain": [
       "{'n_estimators': 138, 'learning_rate': 0.1}"
      ]
     },
     "execution_count": 40,
     "metadata": {},
     "output_type": "execute_result"
    }
   ],
   "source": [
    "best_boost_model = grid.best_params_\n",
    "best_boost_model"
   ]
  },
  {
   "cell_type": "code",
   "execution_count": 41,
   "metadata": {},
   "outputs": [],
   "source": [
    "best_boost = AdaBoostClassifier(base_estimator=best_log, n_estimators = 43, learning_rate = 0.1) \n",
    "best_boost.fit(X_smo_10, y_smo)\n",
    "ye_pred = best_boost.predict(X_test_10)"
   ]
  },
  {
   "cell_type": "code",
   "execution_count": 42,
   "metadata": {},
   "outputs": [
    {
     "name": "stdout",
     "output_type": "stream",
     "text": [
      "F beta Score for both classes:\n",
      "0.81\n"
     ]
    },
    {
     "data": {
      "image/png": "[encoded data removed]",
      "text/plain": [
       "<Figure size 432x288 with 2 Axes>"
      ]
     },
     "metadata": {
      "needs_background": "light"
     },
     "output_type": "display_data"
    }
   ],
   "source": [
    "print('F beta Score for both classes:')\n",
    "print(fbeta_score(ye_test, ye_pred, beta = .1, average = 'weighted').round(2))\n",
    "sns.heatmap(confusion_matrix(ye_test, ye_pred), annot=True);"
   ]
  },
  {
   "cell_type": "markdown",
   "metadata": {},
   "source": [
    "The AdaBoost is worse than the best logistic regression model."
   ]
  },
  {
   "cell_type": "markdown",
   "metadata": {},
   "source": [
    "### 3.11 Ensemble: Stacking"
   ]
  },
  {
   "cell_type": "code",
   "execution_count": 43,
   "metadata": {},
   "outputs": [],
   "source": [
    "from sklearn.ensemble import StackingClassifier"
   ]
  },
  {
   "cell_type": "code",
   "execution_count": 44,
   "metadata": {},
   "outputs": [],
   "source": [
    "best_knn = KNeighborsClassifier(n_jobs = -1, n_neighbors = 50, metric = 'manhattan', weights = 'distance')"
   ]
  },
  {
   "cell_type": "code",
   "execution_count": 45,
   "metadata": {},
   "outputs": [],
   "source": [
    "estimators = [\n",
    "    ('bestlog', best_log), \n",
    "    ('bestknn', best_knn)]\n",
    "model = StackingClassifier(estimators, final_estimator=LogisticRegression(), cv=5, \n",
    "                           stack_method='auto', n_jobs=-1, verbose=5)\n",
    "model.fit(X_smo_10, y_smo);"
   ]
  },
  {
   "cell_type": "code",
   "execution_count": 46,
   "metadata": {},
   "outputs": [
    {
     "name": "stdout",
     "output_type": "stream",
     "text": [
      "F beta Score for both classes:\n",
      "0.78\n"
     ]
    },
    {
     "data": {
      "image/png": "[encoded data removed]",
      "text/plain": [
       "<Figure size 432x288 with 2 Axes>"
      ]
     },
     "metadata": {
      "needs_background": "light"
     },
     "output_type": "display_data"
    }
   ],
   "source": [
    "ye_pred = model.predict(X_test_10)\n",
    "print('F beta Score for both classes:')\n",
    "print(fbeta_score(ye_test, ye_pred, beta = .1, average = 'weighted').round(2))\n",
    "sns.heatmap(confusion_matrix(ye_test, ye_pred), annot=True);"
   ]
  },
  {
   "cell_type": "markdown",
   "metadata": {},
   "source": [
    "Stacking is also not as good as the logistic regression model."
   ]
  }
 ],
 "metadata": {
  "kernelspec": {
   "display_name": "Python 3",
   "language": "python",
   "name": "python3"
  },
  "language_info": {
   "codemirror_mode": {
    "name": "ipython",
    "version": 3
   },
   "file_extension": ".py",
   "mimetype": "text/x-python",
   "name": "python",
   "nbconvert_exporter": "python",
   "pygments_lexer": "ipython3",
   "version": "3.6.10"
  }
 },
 "nbformat": 4,
 "nbformat_minor": 4
}
